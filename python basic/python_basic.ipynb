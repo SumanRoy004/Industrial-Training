{
  "nbformat": 4,
  "nbformat_minor": 0,
  "metadata": {
    "colab": {
      "provenance": [],
      "include_colab_link": true
    },
    "kernelspec": {
      "name": "python3",
      "display_name": "Python 3"
    },
    "language_info": {
      "name": "python"
    }
  },
  "cells": [
    {
      "cell_type": "markdown",
      "metadata": {
        "id": "view-in-github",
        "colab_type": "text"
      },
      "source": [
        "<a href=\"https://colab.research.google.com/github/SumanRoy004/Python-Basic/blob/main/python_basic.ipynb\" target=\"_parent\"><img src=\"https://colab.research.google.com/assets/colab-badge.svg\" alt=\"Open In Colab\"/></a>"
      ]
    },
    {
      "cell_type": "code",
      "execution_count": 1,
      "metadata": {
        "colab": {
          "base_uri": "https://localhost:8080/"
        },
        "id": "5B28ekdyK3WV",
        "outputId": "8804a62c-ccc0-415c-eb6b-7f0a75e92d87"
      },
      "outputs": [
        {
          "output_type": "execute_result",
          "data": {
            "text/plain": [
              "9"
            ]
          },
          "metadata": {},
          "execution_count": 1
        }
      ],
      "source": [
        "4+5"
      ]
    },
    {
      "cell_type": "code",
      "source": [
        "print('Hello World')"
      ],
      "metadata": {
        "colab": {
          "base_uri": "https://localhost:8080/"
        },
        "id": "I_1ctI30MgOy",
        "outputId": "9c78d52c-1bef-47d6-89fe-fb8690ffac8d"
      },
      "execution_count": 2,
      "outputs": [
        {
          "output_type": "stream",
          "name": "stdout",
          "text": [
            "Hello World\n"
          ]
        }
      ]
    },
    {
      "cell_type": "code",
      "source": [
        "a = 'Aman'\n",
        "b = 90"
      ],
      "metadata": {
        "id": "O5tS8BO6Ms4m"
      },
      "execution_count": 3,
      "outputs": []
    },
    {
      "cell_type": "code",
      "source": [
        "print(a)"
      ],
      "metadata": {
        "colab": {
          "base_uri": "https://localhost:8080/"
        },
        "id": "fzrGZKWsM7_B",
        "outputId": "1395a30e-aa79-4199-a5e0-8af0783c7847"
      },
      "execution_count": 4,
      "outputs": [
        {
          "output_type": "stream",
          "name": "stdout",
          "text": [
            "Aman\n"
          ]
        }
      ]
    },
    {
      "cell_type": "code",
      "source": [
        "print(b)"
      ],
      "metadata": {
        "colab": {
          "base_uri": "https://localhost:8080/"
        },
        "id": "SjApzfK1NA-5",
        "outputId": "9953c5a8-8a91-47b6-88c4-583deb3be7c9"
      },
      "execution_count": 5,
      "outputs": [
        {
          "output_type": "stream",
          "name": "stdout",
          "text": [
            "90\n"
          ]
        }
      ]
    },
    {
      "cell_type": "code",
      "source": [
        "print(a,b)"
      ],
      "metadata": {
        "colab": {
          "base_uri": "https://localhost:8080/"
        },
        "id": "j6FhcQFhNCuO",
        "outputId": "1b54ddbf-b1b3-4bb9-ac7e-eba6f0a39901"
      },
      "execution_count": 6,
      "outputs": [
        {
          "output_type": "stream",
          "name": "stdout",
          "text": [
            "Aman 90\n"
          ]
        }
      ]
    },
    {
      "cell_type": "code",
      "source": [
        "print(a,b,sep='     ')"
      ],
      "metadata": {
        "colab": {
          "base_uri": "https://localhost:8080/"
        },
        "id": "twY6h_u-NFO-",
        "outputId": "aedd4b08-d96e-4d7e-e5dd-4dcddbdbcee0"
      },
      "execution_count": 7,
      "outputs": [
        {
          "output_type": "stream",
          "name": "stdout",
          "text": [
            "Aman     90\n"
          ]
        }
      ]
    },
    {
      "cell_type": "code",
      "source": [
        "print('Hii my name is',a,'My roll no is',b)"
      ],
      "metadata": {
        "colab": {
          "base_uri": "https://localhost:8080/"
        },
        "id": "3FFb6QsqNoLk",
        "outputId": "0d769f3d-1c3e-498f-add6-7ba3d61a7635"
      },
      "execution_count": 8,
      "outputs": [
        {
          "output_type": "stream",
          "name": "stdout",
          "text": [
            "Hii my name is Aman My roll no is 90\n"
          ]
        }
      ]
    },
    {
      "cell_type": "code",
      "source": [
        "print(5*8)"
      ],
      "metadata": {
        "colab": {
          "base_uri": "https://localhost:8080/"
        },
        "id": "cFdJ5YbJOKwl",
        "outputId": "e1d8ffc6-8391-4f81-9e37-d9e9f35f2d41"
      },
      "execution_count": 9,
      "outputs": [
        {
          "output_type": "stream",
          "name": "stdout",
          "text": [
            "40\n"
          ]
        }
      ]
    },
    {
      "cell_type": "code",
      "source": [
        "print(2**3)"
      ],
      "metadata": {
        "colab": {
          "base_uri": "https://localhost:8080/"
        },
        "id": "pfLCA_57OXPp",
        "outputId": "52bdf8b1-8b6f-465d-c30e-8098913cf7f4"
      },
      "execution_count": 10,
      "outputs": [
        {
          "output_type": "stream",
          "name": "stdout",
          "text": [
            "8\n"
          ]
        }
      ]
    },
    {
      "cell_type": "code",
      "source": [
        "print(10/3)"
      ],
      "metadata": {
        "colab": {
          "base_uri": "https://localhost:8080/"
        },
        "id": "9L5zvKLzObr7",
        "outputId": "2dbe75fb-0305-4ffa-b0f3-d0fd61c34608"
      },
      "execution_count": 11,
      "outputs": [
        {
          "output_type": "stream",
          "name": "stdout",
          "text": [
            "3.3333333333333335\n"
          ]
        }
      ]
    },
    {
      "cell_type": "code",
      "source": [
        "print(10//3)"
      ],
      "metadata": {
        "colab": {
          "base_uri": "https://localhost:8080/"
        },
        "id": "LpGy9b0tOeS4",
        "outputId": "fa8d13de-bda2-4b4b-c1f3-c78f00701ce0"
      },
      "execution_count": 12,
      "outputs": [
        {
          "output_type": "stream",
          "name": "stdout",
          "text": [
            "3\n"
          ]
        }
      ]
    },
    {
      "cell_type": "code",
      "source": [
        "print('Aman '*10)"
      ],
      "metadata": {
        "colab": {
          "base_uri": "https://localhost:8080/"
        },
        "id": "HmmYT5xnOiSr",
        "outputId": "2b589439-dc84-42b0-c9b3-479eb44c8204"
      },
      "execution_count": 13,
      "outputs": [
        {
          "output_type": "stream",
          "name": "stdout",
          "text": [
            "Aman Aman Aman Aman Aman Aman Aman Aman Aman Aman \n"
          ]
        }
      ]
    },
    {
      "cell_type": "code",
      "source": [
        "# Operator\n",
        "'''\n",
        "1. Arithmatic     +,-,*,/,**,//,%\n",
        "2. Relational     >,>=,<,<=,==,!=\n",
        "3. Logical        and, or, not\n",
        "4. Bitwise        &, ^, ~\n",
        "5. Assignment     =,  += ,-= ,*= ,/= ,**= ,//= ,%=\n",
        "6. Membership     in, not in\n",
        "7. Identity       is, is not\n",
        "'''"
      ],
      "metadata": {
        "id": "N996ecEqPSn6",
        "colab": {
          "base_uri": "https://localhost:8080/",
          "height": 53
        },
        "outputId": "ddfb9a40-18fa-44d4-8480-1d0486573505"
      },
      "execution_count": 14,
      "outputs": [
        {
          "output_type": "execute_result",
          "data": {
            "text/plain": [
              "'\\n1. Arithmatic     +,-,*,/,**,//,%\\n2. Relational     >,>=,<,<=,==,!=\\n3. Logical        and, or, not\\n4. Bitwise        &, ^, ~\\n5. Assignment     =,  += ,-= ,*= ,/= ,**= ,//= ,%=\\n6. Membership     in, not in\\n7. Identity       is, is not\\n'"
            ],
            "application/vnd.google.colaboratory.intrinsic+json": {
              "type": "string"
            }
          },
          "metadata": {},
          "execution_count": 14
        }
      ]
    },
    {
      "cell_type": "code",
      "source": [
        "45 > 34"
      ],
      "metadata": {
        "colab": {
          "base_uri": "https://localhost:8080/"
        },
        "id": "WNcfsho7QbAT",
        "outputId": "bfeb6ce7-7a0e-49f1-b4d6-7633130b3e46"
      },
      "execution_count": 15,
      "outputs": [
        {
          "output_type": "execute_result",
          "data": {
            "text/plain": [
              "True"
            ]
          },
          "metadata": {},
          "execution_count": 15
        }
      ]
    },
    {
      "cell_type": "code",
      "source": [
        "45< 34"
      ],
      "metadata": {
        "colab": {
          "base_uri": "https://localhost:8080/"
        },
        "id": "e9cnYHqCQeXD",
        "outputId": "ac3e810f-6129-48d2-a96a-3d2b1dfc3e02"
      },
      "execution_count": 16,
      "outputs": [
        {
          "output_type": "execute_result",
          "data": {
            "text/plain": [
              "False"
            ]
          },
          "metadata": {},
          "execution_count": 16
        }
      ]
    },
    {
      "cell_type": "code",
      "source": [
        "23 == 23"
      ],
      "metadata": {
        "colab": {
          "base_uri": "https://localhost:8080/"
        },
        "id": "dFB3QIVMQhWD",
        "outputId": "a01a702a-b7f0-4e55-9ba3-21be8531bd00"
      },
      "execution_count": 17,
      "outputs": [
        {
          "output_type": "execute_result",
          "data": {
            "text/plain": [
              "True"
            ]
          },
          "metadata": {},
          "execution_count": 17
        }
      ]
    },
    {
      "cell_type": "code",
      "source": [
        "23 == 21"
      ],
      "metadata": {
        "colab": {
          "base_uri": "https://localhost:8080/"
        },
        "id": "70Z5BlXqQldC",
        "outputId": "7fbacaea-9a0e-491d-8314-5ee638f683d1"
      },
      "execution_count": 18,
      "outputs": [
        {
          "output_type": "execute_result",
          "data": {
            "text/plain": [
              "False"
            ]
          },
          "metadata": {},
          "execution_count": 18
        }
      ]
    },
    {
      "cell_type": "code",
      "source": [
        "12 != 12"
      ],
      "metadata": {
        "colab": {
          "base_uri": "https://localhost:8080/"
        },
        "id": "m9A5YLYuQnu7",
        "outputId": "d08eca04-4c24-4a4e-99d1-515484682a0c"
      },
      "execution_count": 19,
      "outputs": [
        {
          "output_type": "execute_result",
          "data": {
            "text/plain": [
              "False"
            ]
          },
          "metadata": {},
          "execution_count": 19
        }
      ]
    },
    {
      "cell_type": "code",
      "source": [
        "'A' in 'Aman'"
      ],
      "metadata": {
        "colab": {
          "base_uri": "https://localhost:8080/"
        },
        "id": "2TRkyVK0QsQx",
        "outputId": "2c844335-94a1-430e-a904-4b0904565a4f"
      },
      "execution_count": 20,
      "outputs": [
        {
          "output_type": "execute_result",
          "data": {
            "text/plain": [
              "True"
            ]
          },
          "metadata": {},
          "execution_count": 20
        }
      ]
    },
    {
      "cell_type": "code",
      "source": [
        "56 not in [34,77,45,89]"
      ],
      "metadata": {
        "colab": {
          "base_uri": "https://localhost:8080/"
        },
        "id": "ERkDavRkRBXU",
        "outputId": "db235613-ae7e-42a8-b638-35a82dec2a80"
      },
      "execution_count": 21,
      "outputs": [
        {
          "output_type": "execute_result",
          "data": {
            "text/plain": [
              "True"
            ]
          },
          "metadata": {},
          "execution_count": 21
        }
      ]
    },
    {
      "cell_type": "code",
      "source": [
        "id(a)"
      ],
      "metadata": {
        "colab": {
          "base_uri": "https://localhost:8080/"
        },
        "id": "IYcJwheKRKO6",
        "outputId": "9d8cf8cc-9e9e-46d3-b1d8-965112d33f4f"
      },
      "execution_count": 22,
      "outputs": [
        {
          "output_type": "execute_result",
          "data": {
            "text/plain": [
              "136311413582960"
            ]
          },
          "metadata": {},
          "execution_count": 22
        }
      ]
    },
    {
      "cell_type": "code",
      "source": [
        "id(b)"
      ],
      "metadata": {
        "colab": {
          "base_uri": "https://localhost:8080/"
        },
        "id": "5v9r5mAfRiZ8",
        "outputId": "758099bb-7ccf-46f9-cc39-976efbb19680"
      },
      "execution_count": 23,
      "outputs": [
        {
          "output_type": "execute_result",
          "data": {
            "text/plain": [
              "136311845424144"
            ]
          },
          "metadata": {},
          "execution_count": 23
        }
      ]
    },
    {
      "cell_type": "code",
      "source": [
        "a is b"
      ],
      "metadata": {
        "colab": {
          "base_uri": "https://localhost:8080/"
        },
        "id": "YOYrcu5pRjx1",
        "outputId": "944a7f93-60fd-46e8-b8f4-b26b8c30ecbf"
      },
      "execution_count": 24,
      "outputs": [
        {
          "output_type": "execute_result",
          "data": {
            "text/plain": [
              "False"
            ]
          },
          "metadata": {},
          "execution_count": 24
        }
      ]
    },
    {
      "cell_type": "code",
      "source": [
        "c = a"
      ],
      "metadata": {
        "id": "nemvn3CZRs0M"
      },
      "execution_count": 25,
      "outputs": []
    },
    {
      "cell_type": "code",
      "source": [
        "c"
      ],
      "metadata": {
        "colab": {
          "base_uri": "https://localhost:8080/",
          "height": 36
        },
        "id": "45Fgb7tlRxRk",
        "outputId": "d45bb6a1-615b-484b-951d-1339fa04ff1f"
      },
      "execution_count": 26,
      "outputs": [
        {
          "output_type": "execute_result",
          "data": {
            "text/plain": [
              "'Aman'"
            ],
            "application/vnd.google.colaboratory.intrinsic+json": {
              "type": "string"
            }
          },
          "metadata": {},
          "execution_count": 26
        }
      ]
    },
    {
      "cell_type": "code",
      "source": [
        "id(c)"
      ],
      "metadata": {
        "colab": {
          "base_uri": "https://localhost:8080/"
        },
        "id": "7ZKj7C4lRx_5",
        "outputId": "3fb3ad7a-17f2-4fa4-ac16-64cc6145a08d"
      },
      "execution_count": 27,
      "outputs": [
        {
          "output_type": "execute_result",
          "data": {
            "text/plain": [
              "136311413582960"
            ]
          },
          "metadata": {},
          "execution_count": 27
        }
      ]
    },
    {
      "cell_type": "code",
      "source": [
        "a is c"
      ],
      "metadata": {
        "colab": {
          "base_uri": "https://localhost:8080/"
        },
        "id": "hcDX0hOyR0_r",
        "outputId": "df184d29-f956-4572-e818-32bca8e110da"
      },
      "execution_count": 30,
      "outputs": [
        {
          "output_type": "execute_result",
          "data": {
            "text/plain": [
              "True"
            ]
          },
          "metadata": {},
          "execution_count": 30
        }
      ]
    },
    {
      "cell_type": "code",
      "source": [
        "'''\n",
        "3 --- 0101\n",
        "4 --- 1010\n",
        " -------------\n",
        "      0000----> 0\n",
        "'''"
      ],
      "metadata": {
        "id": "b9Sx652pR5FI",
        "colab": {
          "base_uri": "https://localhost:8080/",
          "height": 36
        },
        "outputId": "87e7fbb7-703a-45c7-eb05-8d9404eb81af"
      },
      "execution_count": 33,
      "outputs": [
        {
          "output_type": "execute_result",
          "data": {
            "text/plain": [
              "'\\n3 --- 0101\\n4 --- 1010\\n -------------\\n      0000----> 0\\n'"
            ],
            "application/vnd.google.colaboratory.intrinsic+json": {
              "type": "string"
            }
          },
          "metadata": {},
          "execution_count": 33
        }
      ]
    },
    {
      "cell_type": "code",
      "source": [
        "3 & 4"
      ],
      "metadata": {
        "colab": {
          "base_uri": "https://localhost:8080/"
        },
        "id": "MusOJjLuSNrP",
        "outputId": "42689b61-9a6a-48c7-df1b-b49f6921afcb"
      },
      "execution_count": 34,
      "outputs": [
        {
          "output_type": "execute_result",
          "data": {
            "text/plain": [
              "0"
            ]
          },
          "metadata": {},
          "execution_count": 34
        }
      ]
    },
    {
      "cell_type": "code",
      "source": [
        "# Data Types\n",
        "'''\n",
        "1. Numeric --- int, float, complex # immutable data type\n",
        "2. Sequence  --- string(str), List(list), Tuple(tuple)\n",
        "3. Mapping ---- Dictionary(dict)\n",
        "4. Set Data Type ---- Set(set)\n",
        "5. Boolean --- True, False\n",
        "'''"
      ],
      "metadata": {
        "id": "_MeWRp-YSPA4",
        "colab": {
          "base_uri": "https://localhost:8080/",
          "height": 53
        },
        "outputId": "37140693-e440-40a7-e3cc-7bc6b46b853f"
      },
      "execution_count": 36,
      "outputs": [
        {
          "output_type": "execute_result",
          "data": {
            "text/plain": [
              "'\\n1. Numeric --- int, float, complex # immutable data type\\n2. Sequence  --- string(str), List(list), Tuple(tuple)\\n3. Mapping ---- Dictionary(dict)\\n4. Set Data Type ---- Set(set)\\n5. Boolean --- True, False\\n'"
            ],
            "application/vnd.google.colaboratory.intrinsic+json": {
              "type": "string"
            }
          },
          "metadata": {},
          "execution_count": 36
        }
      ]
    },
    {
      "cell_type": "code",
      "source": [
        "a = 5\n",
        "b = 5.7\n",
        "c = 3+5j"
      ],
      "metadata": {
        "id": "h0FutDHgThm5"
      },
      "execution_count": 37,
      "outputs": []
    },
    {
      "cell_type": "code",
      "source": [
        "type(a)"
      ],
      "metadata": {
        "colab": {
          "base_uri": "https://localhost:8080/"
        },
        "id": "v6qlLa_-Tp-O",
        "outputId": "fb5ef258-89fd-4160-f700-3887f0fc056b"
      },
      "execution_count": 38,
      "outputs": [
        {
          "output_type": "execute_result",
          "data": {
            "text/plain": [
              "int"
            ]
          },
          "metadata": {},
          "execution_count": 38
        }
      ]
    },
    {
      "cell_type": "code",
      "source": [
        "type(b)"
      ],
      "metadata": {
        "colab": {
          "base_uri": "https://localhost:8080/"
        },
        "id": "NZW-6is1Tsj_",
        "outputId": "5ee6c783-e9cb-4d6c-db95-3b751c9d2266"
      },
      "execution_count": 39,
      "outputs": [
        {
          "output_type": "execute_result",
          "data": {
            "text/plain": [
              "float"
            ]
          },
          "metadata": {},
          "execution_count": 39
        }
      ]
    },
    {
      "cell_type": "code",
      "source": [
        "type(c)"
      ],
      "metadata": {
        "colab": {
          "base_uri": "https://localhost:8080/"
        },
        "id": "057ff91JTwor",
        "outputId": "a00f8294-45ca-4c7a-9c49-e582e50dac66"
      },
      "execution_count": 40,
      "outputs": [
        {
          "output_type": "execute_result",
          "data": {
            "text/plain": [
              "complex"
            ]
          },
          "metadata": {},
          "execution_count": 40
        }
      ]
    },
    {
      "cell_type": "code",
      "source": [
        "c.real"
      ],
      "metadata": {
        "colab": {
          "base_uri": "https://localhost:8080/"
        },
        "id": "-zUhny6fTx1f",
        "outputId": "df67d027-aa8b-4c07-85ab-9bc336f82ad3"
      },
      "execution_count": 41,
      "outputs": [
        {
          "output_type": "execute_result",
          "data": {
            "text/plain": [
              "3.0"
            ]
          },
          "metadata": {},
          "execution_count": 41
        }
      ]
    },
    {
      "cell_type": "code",
      "source": [
        "c.imag"
      ],
      "metadata": {
        "colab": {
          "base_uri": "https://localhost:8080/"
        },
        "id": "83eozu8ZT85h",
        "outputId": "4f967b71-16d9-45b9-f754-0efb8d415d68"
      },
      "execution_count": 42,
      "outputs": [
        {
          "output_type": "execute_result",
          "data": {
            "text/plain": [
              "5.0"
            ]
          },
          "metadata": {},
          "execution_count": 42
        }
      ]
    },
    {
      "cell_type": "code",
      "source": [
        "x = 'Data Science'\n",
        "# String\n",
        "#1. immutable\n",
        "#2. string is enclosed with ''/\"\"/''' '''\n",
        "#3. to access the sub part of a string we use indexing/slicing"
      ],
      "metadata": {
        "id": "UQWpA-PPT_UL"
      },
      "execution_count": 44,
      "outputs": []
    },
    {
      "cell_type": "code",
      "source": [
        "type(x)"
      ],
      "metadata": {
        "colab": {
          "base_uri": "https://localhost:8080/"
        },
        "id": "Ogo8Mq7cUsEW",
        "outputId": "1149a237-1747-446a-ea51-466a95aab5c4"
      },
      "execution_count": 45,
      "outputs": [
        {
          "output_type": "execute_result",
          "data": {
            "text/plain": [
              "str"
            ]
          },
          "metadata": {},
          "execution_count": 45
        }
      ]
    },
    {
      "cell_type": "code",
      "source": [
        "x[0]"
      ],
      "metadata": {
        "colab": {
          "base_uri": "https://localhost:8080/",
          "height": 36
        },
        "id": "9FH_5GA_Us58",
        "outputId": "a820f8ba-99d3-4df7-97a1-fa3bc2503f87"
      },
      "execution_count": 46,
      "outputs": [
        {
          "output_type": "execute_result",
          "data": {
            "text/plain": [
              "'D'"
            ],
            "application/vnd.google.colaboratory.intrinsic+json": {
              "type": "string"
            }
          },
          "metadata": {},
          "execution_count": 46
        }
      ]
    },
    {
      "cell_type": "code",
      "source": [
        "x[-12]"
      ],
      "metadata": {
        "colab": {
          "base_uri": "https://localhost:8080/",
          "height": 36
        },
        "id": "6FimqFiBWHDV",
        "outputId": "d9ea47a9-75a5-46ea-97b7-f6b894437078"
      },
      "execution_count": 47,
      "outputs": [
        {
          "output_type": "execute_result",
          "data": {
            "text/plain": [
              "'D'"
            ],
            "application/vnd.google.colaboratory.intrinsic+json": {
              "type": "string"
            }
          },
          "metadata": {},
          "execution_count": 47
        }
      ]
    },
    {
      "cell_type": "code",
      "source": [
        "x[-1]"
      ],
      "metadata": {
        "colab": {
          "base_uri": "https://localhost:8080/",
          "height": 36
        },
        "id": "rWgCKJ1oWKE2",
        "outputId": "9ffeea14-7576-48d0-ac98-e44860aceba7"
      },
      "execution_count": 48,
      "outputs": [
        {
          "output_type": "execute_result",
          "data": {
            "text/plain": [
              "'e'"
            ],
            "application/vnd.google.colaboratory.intrinsic+json": {
              "type": "string"
            }
          },
          "metadata": {},
          "execution_count": 48
        }
      ]
    },
    {
      "cell_type": "code",
      "source": [
        "# slicing\n",
        "'''\n",
        "x[start(include)(BD 0):stop(Exclude):step(BD 1)]\n",
        "'''"
      ],
      "metadata": {
        "id": "1YDKx5ijWNnr",
        "colab": {
          "base_uri": "https://localhost:8080/",
          "height": 36
        },
        "outputId": "66ab116e-afc0-4911-9833-a44efefe8246"
      },
      "execution_count": 50,
      "outputs": [
        {
          "output_type": "execute_result",
          "data": {
            "text/plain": [
              "'\\nx[start(include)(BD 0):stop(Exclude):step(BD 1)]\\n'"
            ],
            "application/vnd.google.colaboratory.intrinsic+json": {
              "type": "string"
            }
          },
          "metadata": {},
          "execution_count": 50
        }
      ]
    },
    {
      "cell_type": "code",
      "source": [
        "x[5:8]"
      ],
      "metadata": {
        "colab": {
          "base_uri": "https://localhost:8080/",
          "height": 36
        },
        "id": "lUlkpdX-XQKs",
        "outputId": "ca51bae1-4346-4fc1-b522-0a94dacaafe7"
      },
      "execution_count": 51,
      "outputs": [
        {
          "output_type": "execute_result",
          "data": {
            "text/plain": [
              "'Sci'"
            ],
            "application/vnd.google.colaboratory.intrinsic+json": {
              "type": "string"
            }
          },
          "metadata": {},
          "execution_count": 51
        }
      ]
    },
    {
      "cell_type": "code",
      "source": [
        "x[5:7]"
      ],
      "metadata": {
        "colab": {
          "base_uri": "https://localhost:8080/",
          "height": 36
        },
        "id": "K8pLLmAyXRit",
        "outputId": "a0d73574-efb7-4cb3-e9ac-945b68c7e2bc"
      },
      "execution_count": 52,
      "outputs": [
        {
          "output_type": "execute_result",
          "data": {
            "text/plain": [
              "'Sc'"
            ],
            "application/vnd.google.colaboratory.intrinsic+json": {
              "type": "string"
            }
          },
          "metadata": {},
          "execution_count": 52
        }
      ]
    },
    {
      "cell_type": "code",
      "source": [
        "x[-7:-4]"
      ],
      "metadata": {
        "colab": {
          "base_uri": "https://localhost:8080/",
          "height": 36
        },
        "id": "ct8qLM_7XU1O",
        "outputId": "b8caec65-ef3b-40ca-ea23-a27c76ef55fc"
      },
      "execution_count": 53,
      "outputs": [
        {
          "output_type": "execute_result",
          "data": {
            "text/plain": [
              "'Sci'"
            ],
            "application/vnd.google.colaboratory.intrinsic+json": {
              "type": "string"
            }
          },
          "metadata": {},
          "execution_count": 53
        }
      ]
    },
    {
      "cell_type": "code",
      "source": [
        "x[0:4]"
      ],
      "metadata": {
        "colab": {
          "base_uri": "https://localhost:8080/",
          "height": 36
        },
        "id": "aSeG2bceXjcZ",
        "outputId": "08f4af67-4adb-41dd-9775-7e723ea6b1ba"
      },
      "execution_count": 54,
      "outputs": [
        {
          "output_type": "execute_result",
          "data": {
            "text/plain": [
              "'Data'"
            ],
            "application/vnd.google.colaboratory.intrinsic+json": {
              "type": "string"
            }
          },
          "metadata": {},
          "execution_count": 54
        }
      ]
    },
    {
      "cell_type": "code",
      "source": [
        "x[5:]"
      ],
      "metadata": {
        "colab": {
          "base_uri": "https://localhost:8080/",
          "height": 36
        },
        "id": "PYkkodbUXyz6",
        "outputId": "bcc2e29d-1354-4e96-df84-7785f3e63cf0"
      },
      "execution_count": 55,
      "outputs": [
        {
          "output_type": "execute_result",
          "data": {
            "text/plain": [
              "'Science'"
            ],
            "application/vnd.google.colaboratory.intrinsic+json": {
              "type": "string"
            }
          },
          "metadata": {},
          "execution_count": 55
        }
      ]
    },
    {
      "cell_type": "code",
      "source": [
        "x[5:12]"
      ],
      "metadata": {
        "colab": {
          "base_uri": "https://localhost:8080/",
          "height": 36
        },
        "id": "bUNqMGc4X-e9",
        "outputId": "1bb440a3-6531-42df-ae9e-31910396b2dc"
      },
      "execution_count": 56,
      "outputs": [
        {
          "output_type": "execute_result",
          "data": {
            "text/plain": [
              "'Science'"
            ],
            "application/vnd.google.colaboratory.intrinsic+json": {
              "type": "string"
            }
          },
          "metadata": {},
          "execution_count": 56
        }
      ]
    },
    {
      "cell_type": "code",
      "source": [
        "x[-7:12]"
      ],
      "metadata": {
        "colab": {
          "base_uri": "https://localhost:8080/",
          "height": 36
        },
        "id": "0bhmnKdrYDQQ",
        "outputId": "416d4011-66cf-4b86-e6bd-6a2b4e5b7694"
      },
      "execution_count": 57,
      "outputs": [
        {
          "output_type": "execute_result",
          "data": {
            "text/plain": [
              "'Science'"
            ],
            "application/vnd.google.colaboratory.intrinsic+json": {
              "type": "string"
            }
          },
          "metadata": {},
          "execution_count": 57
        }
      ]
    },
    {
      "cell_type": "code",
      "source": [
        "x[-1:-13:-1]"
      ],
      "metadata": {
        "colab": {
          "base_uri": "https://localhost:8080/",
          "height": 36
        },
        "id": "fTGmX5m3YNwu",
        "outputId": "aef1fc95-6913-4297-81e2-3382f5d42403"
      },
      "execution_count": 58,
      "outputs": [
        {
          "output_type": "execute_result",
          "data": {
            "text/plain": [
              "'ecneicS ataD'"
            ],
            "application/vnd.google.colaboratory.intrinsic+json": {
              "type": "string"
            }
          },
          "metadata": {},
          "execution_count": 58
        }
      ]
    },
    {
      "cell_type": "code",
      "source": [
        "x[5:12:1]"
      ],
      "metadata": {
        "colab": {
          "base_uri": "https://localhost:8080/",
          "height": 36
        },
        "id": "0qbg1OajYiEv",
        "outputId": "e17dca14-73ed-4980-fda6-6231381fc2cb"
      },
      "execution_count": 59,
      "outputs": [
        {
          "output_type": "execute_result",
          "data": {
            "text/plain": [
              "'Science'"
            ],
            "application/vnd.google.colaboratory.intrinsic+json": {
              "type": "string"
            }
          },
          "metadata": {},
          "execution_count": 59
        }
      ]
    },
    {
      "cell_type": "code",
      "source": [
        "x[5:12:2]"
      ],
      "metadata": {
        "colab": {
          "base_uri": "https://localhost:8080/",
          "height": 36
        },
        "id": "RofNYHORY2To",
        "outputId": "a65b5e73-d02c-4fad-cb92-f196c30c32c2"
      },
      "execution_count": 60,
      "outputs": [
        {
          "output_type": "execute_result",
          "data": {
            "text/plain": [
              "'Sine'"
            ],
            "application/vnd.google.colaboratory.intrinsic+json": {
              "type": "string"
            }
          },
          "metadata": {},
          "execution_count": 60
        }
      ]
    },
    {
      "cell_type": "code",
      "source": [
        "x[5:12:3]"
      ],
      "metadata": {
        "colab": {
          "base_uri": "https://localhost:8080/",
          "height": 36
        },
        "id": "l5H3xG9TY9qI",
        "outputId": "8043308f-cb87-4d2a-92b7-4ce40189a4f9"
      },
      "execution_count": 61,
      "outputs": [
        {
          "output_type": "execute_result",
          "data": {
            "text/plain": [
              "'See'"
            ],
            "application/vnd.google.colaboratory.intrinsic+json": {
              "type": "string"
            }
          },
          "metadata": {},
          "execution_count": 61
        }
      ]
    },
    {
      "cell_type": "code",
      "source": [
        "# Built-in Fuction\n",
        "'''\n",
        "1. capitalize\n",
        "2. title\n",
        "3. count\n",
        "4. index\n",
        "5. rindex\n",
        "6. rstrip\n",
        "7. lstrip\n",
        "8. strip\n",
        "9. Center\n",
        "10. isupper\n",
        "11. islower\n",
        "12. upper\n",
        "13. lower\n",
        "14. isalpha\n",
        "15. isnum\n",
        "16. isdigit\n",
        "17. isspace\n",
        "18. join\n",
        "19. split\n",
        "'''"
      ],
      "metadata": {
        "id": "iyc-PGg1ZCYC",
        "colab": {
          "base_uri": "https://localhost:8080/",
          "height": 53
        },
        "outputId": "f870b8f9-a0d7-49c5-99ac-69a7561df957"
      },
      "execution_count": 62,
      "outputs": [
        {
          "output_type": "execute_result",
          "data": {
            "text/plain": [
              "'\\n1. capitalize\\n2. title\\n3. count\\n4. index\\n5. rindex\\n6. rstrip\\n7. lstrip\\n8. strip\\n9. Center\\n10. isupper\\n11. islower\\n12. upper\\n13. lower\\n14. isalpha\\n15. isnum\\n16. isdigit\\n17. isspace\\n18. join\\n19. split\\n'"
            ],
            "application/vnd.google.colaboratory.intrinsic+json": {
              "type": "string"
            }
          },
          "metadata": {},
          "execution_count": 62
        }
      ]
    },
    {
      "cell_type": "code",
      "source": [
        "x"
      ],
      "metadata": {
        "colab": {
          "base_uri": "https://localhost:8080/",
          "height": 36
        },
        "id": "qfUnoHoQZ2kW",
        "outputId": "068d805b-28e0-47f8-8924-4405707e8257"
      },
      "execution_count": 63,
      "outputs": [
        {
          "output_type": "execute_result",
          "data": {
            "text/plain": [
              "'Data Science'"
            ],
            "application/vnd.google.colaboratory.intrinsic+json": {
              "type": "string"
            }
          },
          "metadata": {},
          "execution_count": 63
        }
      ]
    },
    {
      "cell_type": "code",
      "source": [
        "x.upper()"
      ],
      "metadata": {
        "colab": {
          "base_uri": "https://localhost:8080/",
          "height": 36
        },
        "id": "_cuod0MZZ3BA",
        "outputId": "1e22ee5f-b1f4-4c81-fdf8-c151bab2e849"
      },
      "execution_count": 64,
      "outputs": [
        {
          "output_type": "execute_result",
          "data": {
            "text/plain": [
              "'DATA SCIENCE'"
            ],
            "application/vnd.google.colaboratory.intrinsic+json": {
              "type": "string"
            }
          },
          "metadata": {},
          "execution_count": 64
        }
      ]
    },
    {
      "cell_type": "code",
      "execution_count": 68,
      "metadata": {
        "id": "Jn_qCbrEhIgu"
      },
      "outputs": [],
      "source": [
        "a = 'hello world'"
      ]
    },
    {
      "cell_type": "code",
      "source": [
        "a.capitalize()"
      ],
      "metadata": {
        "colab": {
          "base_uri": "https://localhost:8080/",
          "height": 36
        },
        "id": "Onz7DqTkhR65",
        "outputId": "022675b3-59a8-4c15-9f41-ff3329eeaa57"
      },
      "execution_count": 69,
      "outputs": [
        {
          "output_type": "execute_result",
          "data": {
            "text/plain": [
              "'Hello world'"
            ],
            "application/vnd.google.colaboratory.intrinsic+json": {
              "type": "string"
            }
          },
          "metadata": {},
          "execution_count": 69
        }
      ]
    },
    {
      "cell_type": "code",
      "source": [
        "a.title()"
      ],
      "metadata": {
        "colab": {
          "base_uri": "https://localhost:8080/",
          "height": 36
        },
        "id": "XNRRVbMqhlUd",
        "outputId": "8035edaa-2e99-4ec7-b2f0-94f359645f0e"
      },
      "execution_count": 70,
      "outputs": [
        {
          "output_type": "execute_result",
          "data": {
            "text/plain": [
              "'Hello World'"
            ],
            "application/vnd.google.colaboratory.intrinsic+json": {
              "type": "string"
            }
          },
          "metadata": {},
          "execution_count": 70
        }
      ]
    },
    {
      "cell_type": "code",
      "source": [
        "a.count('l')"
      ],
      "metadata": {
        "colab": {
          "base_uri": "https://localhost:8080/"
        },
        "id": "0n1mKIwFhqen",
        "outputId": "5450501b-f4ed-4432-bd99-453c95790d43"
      },
      "execution_count": 71,
      "outputs": [
        {
          "output_type": "execute_result",
          "data": {
            "text/plain": [
              "3"
            ]
          },
          "metadata": {},
          "execution_count": 71
        }
      ]
    },
    {
      "cell_type": "code",
      "source": [
        "a.index('h')"
      ],
      "metadata": {
        "colab": {
          "base_uri": "https://localhost:8080/"
        },
        "id": "_Mbm5WsShzdn",
        "outputId": "96d87f65-81a4-46f1-85e9-1d7a2c36dc84"
      },
      "execution_count": 72,
      "outputs": [
        {
          "output_type": "execute_result",
          "data": {
            "text/plain": [
              "0"
            ]
          },
          "metadata": {},
          "execution_count": 72
        }
      ]
    },
    {
      "cell_type": "code",
      "source": [
        "a.index('o')"
      ],
      "metadata": {
        "colab": {
          "base_uri": "https://localhost:8080/"
        },
        "id": "-nE9m_jyh7hY",
        "outputId": "ace6b367-2649-4c17-ce71-1e41120fadd9"
      },
      "execution_count": 73,
      "outputs": [
        {
          "output_type": "execute_result",
          "data": {
            "text/plain": [
              "4"
            ]
          },
          "metadata": {},
          "execution_count": 73
        }
      ]
    },
    {
      "cell_type": "code",
      "source": [
        "a.rindex('o')"
      ],
      "metadata": {
        "colab": {
          "base_uri": "https://localhost:8080/"
        },
        "id": "_mBHML3biEuK",
        "outputId": "85d40bce-9cc2-4419-83e6-b8bf1ea289b5"
      },
      "execution_count": 74,
      "outputs": [
        {
          "output_type": "execute_result",
          "data": {
            "text/plain": [
              "7"
            ]
          },
          "metadata": {},
          "execution_count": 74
        }
      ]
    },
    {
      "cell_type": "code",
      "source": [
        "b= '             hello       '\n",
        "b.strip()"
      ],
      "metadata": {
        "colab": {
          "base_uri": "https://localhost:8080/",
          "height": 36
        },
        "id": "plFQyuVpiLOX",
        "outputId": "aae6f1b1-af5c-4afc-dc28-a4f9ce3cc31c"
      },
      "execution_count": 75,
      "outputs": [
        {
          "output_type": "execute_result",
          "data": {
            "text/plain": [
              "'hello'"
            ],
            "application/vnd.google.colaboratory.intrinsic+json": {
              "type": "string"
            }
          },
          "metadata": {},
          "execution_count": 75
        }
      ]
    },
    {
      "cell_type": "code",
      "source": [
        "b.lstrip()"
      ],
      "metadata": {
        "colab": {
          "base_uri": "https://localhost:8080/",
          "height": 36
        },
        "id": "YOoo1ye8iW54",
        "outputId": "2a8b04c7-7e76-45fe-e74b-8b4b4e0f1df3"
      },
      "execution_count": 76,
      "outputs": [
        {
          "output_type": "execute_result",
          "data": {
            "text/plain": [
              "'hello       '"
            ],
            "application/vnd.google.colaboratory.intrinsic+json": {
              "type": "string"
            }
          },
          "metadata": {},
          "execution_count": 76
        }
      ]
    },
    {
      "cell_type": "code",
      "source": [
        "a"
      ],
      "metadata": {
        "colab": {
          "base_uri": "https://localhost:8080/",
          "height": 36
        },
        "id": "wirUx2ZPibir",
        "outputId": "c027cfad-a07c-46ea-822b-c26012fa874b"
      },
      "execution_count": 77,
      "outputs": [
        {
          "output_type": "execute_result",
          "data": {
            "text/plain": [
              "'hello world'"
            ],
            "application/vnd.google.colaboratory.intrinsic+json": {
              "type": "string"
            }
          },
          "metadata": {},
          "execution_count": 77
        }
      ]
    },
    {
      "cell_type": "code",
      "source": [
        "a.center(45,'@')"
      ],
      "metadata": {
        "colab": {
          "base_uri": "https://localhost:8080/",
          "height": 36
        },
        "id": "LbF9PK-di1rJ",
        "outputId": "3a481b78-1693-4cac-faf8-29eafce3630a"
      },
      "execution_count": 78,
      "outputs": [
        {
          "output_type": "execute_result",
          "data": {
            "text/plain": [
              "'@@@@@@@@@@@@@@@@@hello world@@@@@@@@@@@@@@@@@'"
            ],
            "application/vnd.google.colaboratory.intrinsic+json": {
              "type": "string"
            }
          },
          "metadata": {},
          "execution_count": 78
        }
      ]
    },
    {
      "cell_type": "code",
      "source": [
        "a.isupper()"
      ],
      "metadata": {
        "colab": {
          "base_uri": "https://localhost:8080/"
        },
        "id": "JQ4Fk-yLi4KA",
        "outputId": "bb514246-84b2-4725-83ab-eae8e338cb40"
      },
      "execution_count": 79,
      "outputs": [
        {
          "output_type": "execute_result",
          "data": {
            "text/plain": [
              "False"
            ]
          },
          "metadata": {},
          "execution_count": 79
        }
      ]
    },
    {
      "cell_type": "code",
      "source": [
        "a.islower()"
      ],
      "metadata": {
        "colab": {
          "base_uri": "https://localhost:8080/"
        },
        "id": "uPm_7KKOjFFt",
        "outputId": "9b10f208-3188-494e-9d7e-8a06207ca6b3"
      },
      "execution_count": 80,
      "outputs": [
        {
          "output_type": "execute_result",
          "data": {
            "text/plain": [
              "True"
            ]
          },
          "metadata": {},
          "execution_count": 80
        }
      ]
    },
    {
      "cell_type": "code",
      "source": [
        "a.upper()"
      ],
      "metadata": {
        "colab": {
          "base_uri": "https://localhost:8080/",
          "height": 36
        },
        "id": "2bq6pg8DjGnC",
        "outputId": "1df3e833-e4c6-47fa-ee2b-0ff852dac291"
      },
      "execution_count": 81,
      "outputs": [
        {
          "output_type": "execute_result",
          "data": {
            "text/plain": [
              "'HELLO WORLD'"
            ],
            "application/vnd.google.colaboratory.intrinsic+json": {
              "type": "string"
            }
          },
          "metadata": {},
          "execution_count": 81
        }
      ]
    },
    {
      "cell_type": "code",
      "source": [
        "a.lower()"
      ],
      "metadata": {
        "colab": {
          "base_uri": "https://localhost:8080/",
          "height": 36
        },
        "id": "EceFtms8jJRU",
        "outputId": "357ad91d-1c02-47b0-8259-93ebcf160ede"
      },
      "execution_count": 82,
      "outputs": [
        {
          "output_type": "execute_result",
          "data": {
            "text/plain": [
              "'hello world'"
            ],
            "application/vnd.google.colaboratory.intrinsic+json": {
              "type": "string"
            }
          },
          "metadata": {},
          "execution_count": 82
        }
      ]
    },
    {
      "cell_type": "code",
      "source": [
        "a.isdigit()"
      ],
      "metadata": {
        "colab": {
          "base_uri": "https://localhost:8080/"
        },
        "id": "CraEqD9GjNEG",
        "outputId": "9fe7d9b4-f3e2-40af-a3a3-d271b9c932a0"
      },
      "execution_count": 83,
      "outputs": [
        {
          "output_type": "execute_result",
          "data": {
            "text/plain": [
              "False"
            ]
          },
          "metadata": {},
          "execution_count": 83
        }
      ]
    },
    {
      "cell_type": "code",
      "source": [
        "a.isalpha()"
      ],
      "metadata": {
        "colab": {
          "base_uri": "https://localhost:8080/"
        },
        "id": "szE5SB8MjUwi",
        "outputId": "22a16705-e2a0-461b-f987-aa3784030309"
      },
      "execution_count": 84,
      "outputs": [
        {
          "output_type": "execute_result",
          "data": {
            "text/plain": [
              "False"
            ]
          },
          "metadata": {},
          "execution_count": 84
        }
      ]
    },
    {
      "cell_type": "code",
      "source": [
        "a.replace('h','m')"
      ],
      "metadata": {
        "colab": {
          "base_uri": "https://localhost:8080/",
          "height": 36
        },
        "id": "7ZKHyfQUkqAR",
        "outputId": "93160979-c6f6-45bd-aaa4-bc7f3301c0aa"
      },
      "execution_count": 85,
      "outputs": [
        {
          "output_type": "execute_result",
          "data": {
            "text/plain": [
              "'mello world'"
            ],
            "application/vnd.google.colaboratory.intrinsic+json": {
              "type": "string"
            }
          },
          "metadata": {},
          "execution_count": 85
        }
      ]
    },
    {
      "cell_type": "code",
      "source": [
        "a"
      ],
      "metadata": {
        "colab": {
          "base_uri": "https://localhost:8080/",
          "height": 36
        },
        "id": "n8tiAkTRkymo",
        "outputId": "e2d006c7-2c0b-4927-8b32-90dc5c034fe4"
      },
      "execution_count": 86,
      "outputs": [
        {
          "output_type": "execute_result",
          "data": {
            "text/plain": [
              "'hello world'"
            ],
            "application/vnd.google.colaboratory.intrinsic+json": {
              "type": "string"
            }
          },
          "metadata": {},
          "execution_count": 86
        }
      ]
    },
    {
      "cell_type": "code",
      "source": [
        "a"
      ],
      "metadata": {
        "colab": {
          "base_uri": "https://localhost:8080/",
          "height": 36
        },
        "id": "u_h6g2s5jZTJ",
        "outputId": "f2399d49-7d72-4349-8226-7c91c96b0098"
      },
      "execution_count": 87,
      "outputs": [
        {
          "output_type": "execute_result",
          "data": {
            "text/plain": [
              "'hello world'"
            ],
            "application/vnd.google.colaboratory.intrinsic+json": {
              "type": "string"
            }
          },
          "metadata": {},
          "execution_count": 87
        }
      ]
    },
    {
      "cell_type": "code",
      "source": [
        "x = 'akshat@gmail.com'\n",
        "x.split('@')"
      ],
      "metadata": {
        "colab": {
          "base_uri": "https://localhost:8080/"
        },
        "id": "3qOT-AiXjbz5",
        "outputId": "2af3ca4e-82df-48de-d63d-c4f085b6600a"
      },
      "execution_count": 88,
      "outputs": [
        {
          "output_type": "execute_result",
          "data": {
            "text/plain": [
              "['akshat', 'gmail.com']"
            ]
          },
          "metadata": {},
          "execution_count": 88
        }
      ]
    },
    {
      "cell_type": "code",
      "source": [
        "x = 'akshat@gmail.com'\n",
        "x.split('a')"
      ],
      "metadata": {
        "colab": {
          "base_uri": "https://localhost:8080/"
        },
        "id": "Hl7glOAmjwlp",
        "outputId": "e8f43a92-a1c1-48c6-b64b-443a3064079a"
      },
      "execution_count": 89,
      "outputs": [
        {
          "output_type": "execute_result",
          "data": {
            "text/plain": [
              "['', 'ksh', 't@gm', 'il.com']"
            ]
          },
          "metadata": {},
          "execution_count": 89
        }
      ]
    },
    {
      "cell_type": "code",
      "source": [
        "c = ['akshat', 'gmail.com']"
      ],
      "metadata": {
        "id": "VqCE91Pxj6T5"
      },
      "execution_count": 90,
      "outputs": []
    },
    {
      "cell_type": "code",
      "source": [
        "'-'.join(c)"
      ],
      "metadata": {
        "colab": {
          "base_uri": "https://localhost:8080/",
          "height": 36
        },
        "id": "hN49aHWakE_9",
        "outputId": "32bd02af-6052-4aa2-aeae-aef4146985e2"
      },
      "execution_count": 91,
      "outputs": [
        {
          "output_type": "execute_result",
          "data": {
            "text/plain": [
              "'akshat-gmail.com'"
            ],
            "application/vnd.google.colaboratory.intrinsic+json": {
              "type": "string"
            }
          },
          "metadata": {},
          "execution_count": 91
        }
      ]
    },
    {
      "cell_type": "code",
      "source": [
        "'hello' + 'world'"
      ],
      "metadata": {
        "colab": {
          "base_uri": "https://localhost:8080/",
          "height": 36
        },
        "id": "fGKASb7ZkJbH",
        "outputId": "bc32e872-ed18-4f14-b1e1-7afcca940fed"
      },
      "execution_count": 92,
      "outputs": [
        {
          "output_type": "execute_result",
          "data": {
            "text/plain": [
              "'helloworld'"
            ],
            "application/vnd.google.colaboratory.intrinsic+json": {
              "type": "string"
            }
          },
          "metadata": {},
          "execution_count": 92
        }
      ]
    },
    {
      "cell_type": "code",
      "source": [
        "20*'hello'"
      ],
      "metadata": {
        "colab": {
          "base_uri": "https://localhost:8080/",
          "height": 36
        },
        "id": "BWGKlTU5kajI",
        "outputId": "2d79490f-b5ee-4f9c-a713-ccaf608d04a5"
      },
      "execution_count": 93,
      "outputs": [
        {
          "output_type": "execute_result",
          "data": {
            "text/plain": [
              "'hellohellohellohellohellohellohellohellohellohellohellohellohellohellohellohellohellohellohellohello'"
            ],
            "application/vnd.google.colaboratory.intrinsic+json": {
              "type": "string"
            }
          },
          "metadata": {},
          "execution_count": 93
        }
      ]
    },
    {
      "cell_type": "code",
      "source": [
        "# LIST\n",
        "# --------\n",
        "'''\n",
        "1. Mutable DT\n",
        "2. []\n",
        "3. indexing/slicing , loops\n",
        "4. repeated item\n",
        "5. homo.+hetero.\n",
        "'''"
      ],
      "metadata": {
        "id": "k92hIPW_kcHW",
        "colab": {
          "base_uri": "https://localhost:8080/",
          "height": 36
        },
        "outputId": "f7640b9d-faea-4d9f-8bbd-eaef0d249aea"
      },
      "execution_count": 94,
      "outputs": [
        {
          "output_type": "execute_result",
          "data": {
            "text/plain": [
              "'\\n1. Mutable DT\\n2. []\\n3. indexing/slicing , loops\\n4. repeated item\\n5. homo.+hetero.\\n'"
            ],
            "application/vnd.google.colaboratory.intrinsic+json": {
              "type": "string"
            }
          },
          "metadata": {},
          "execution_count": 94
        }
      ]
    },
    {
      "cell_type": "code",
      "source": [
        "m = [23,56,88,99,100]\n",
        "m1 = [23, 2.9, 'hello', 2.9, 100]"
      ],
      "metadata": {
        "id": "bsy4tULglB6w"
      },
      "execution_count": 95,
      "outputs": []
    },
    {
      "cell_type": "code",
      "source": [
        "type(m1)"
      ],
      "metadata": {
        "colab": {
          "base_uri": "https://localhost:8080/"
        },
        "id": "0GPXHBd8lLWk",
        "outputId": "e6a262ea-97dc-493e-a760-6076aff6237d"
      },
      "execution_count": 96,
      "outputs": [
        {
          "output_type": "execute_result",
          "data": {
            "text/plain": [
              "list"
            ]
          },
          "metadata": {},
          "execution_count": 96
        }
      ]
    },
    {
      "cell_type": "code",
      "source": [
        "m"
      ],
      "metadata": {
        "colab": {
          "base_uri": "https://localhost:8080/"
        },
        "id": "kx-1m2fdlMhV",
        "outputId": "c229e32c-dab6-4652-978c-6ccd71495eaa"
      },
      "execution_count": 97,
      "outputs": [
        {
          "output_type": "execute_result",
          "data": {
            "text/plain": [
              "[23, 56, 88, 99, 100]"
            ]
          },
          "metadata": {},
          "execution_count": 97
        }
      ]
    },
    {
      "cell_type": "code",
      "source": [
        "m1"
      ],
      "metadata": {
        "colab": {
          "base_uri": "https://localhost:8080/"
        },
        "id": "I2bmE3B0lUIi",
        "outputId": "44801abe-1839-4e67-e7a7-82519a702e28"
      },
      "execution_count": 98,
      "outputs": [
        {
          "output_type": "execute_result",
          "data": {
            "text/plain": [
              "[23, 2.9, 'hello', 2.9, 100]"
            ]
          },
          "metadata": {},
          "execution_count": 98
        }
      ]
    },
    {
      "cell_type": "code",
      "source": [
        "# 1. List concat.\n",
        "# 2. List repeat."
      ],
      "metadata": {
        "id": "pau5xRImlVNu"
      },
      "execution_count": 99,
      "outputs": []
    },
    {
      "cell_type": "code",
      "source": [
        "m1[2][0:3]"
      ],
      "metadata": {
        "colab": {
          "base_uri": "https://localhost:8080/",
          "height": 36
        },
        "id": "1BMeeVCrlehr",
        "outputId": "a2e0b607-dd22-49a4-b57a-095f60238874"
      },
      "execution_count": 100,
      "outputs": [
        {
          "output_type": "execute_result",
          "data": {
            "text/plain": [
              "'hel'"
            ],
            "application/vnd.google.colaboratory.intrinsic+json": {
              "type": "string"
            }
          },
          "metadata": {},
          "execution_count": 100
        }
      ]
    },
    {
      "cell_type": "code",
      "source": [
        "m1[1:4]"
      ],
      "metadata": {
        "colab": {
          "base_uri": "https://localhost:8080/"
        },
        "id": "9gqbx_14lwS4",
        "outputId": "3795f982-53f1-475c-c3bf-0f20b28be1a8"
      },
      "execution_count": 101,
      "outputs": [
        {
          "output_type": "execute_result",
          "data": {
            "text/plain": [
              "[2.9, 'hello', 2.9]"
            ]
          },
          "metadata": {},
          "execution_count": 101
        }
      ]
    },
    {
      "cell_type": "code",
      "source": [
        "# Built-in Function\n",
        "'''\n",
        "1. append\n",
        "2. extend\n",
        "3. insert\n",
        "4. count\n",
        "5. index\n",
        "6. copy\n",
        "7. pop\n",
        "8. remove\n",
        "9. sort\n",
        "10. reverse\n",
        "'''"
      ],
      "metadata": {
        "id": "wJK70z4vmCUv",
        "colab": {
          "base_uri": "https://localhost:8080/",
          "height": 36
        },
        "outputId": "8ed5a4c6-21b7-4886-9697-d14cf69ef6e2"
      },
      "execution_count": 102,
      "outputs": [
        {
          "output_type": "execute_result",
          "data": {
            "text/plain": [
              "'\\n1. append\\n2. extend\\n3. insert\\n4. count\\n5. index\\n6. copy\\n7. pop\\n8. remove\\n9. sort\\n10. reverse\\n'"
            ],
            "application/vnd.google.colaboratory.intrinsic+json": {
              "type": "string"
            }
          },
          "metadata": {},
          "execution_count": 102
        }
      ]
    },
    {
      "cell_type": "code",
      "source": [
        "m"
      ],
      "metadata": {
        "colab": {
          "base_uri": "https://localhost:8080/"
        },
        "id": "3fdB7E_MmV39",
        "outputId": "cde08581-4f6c-4c8b-9f13-24ab5cf25e9b"
      },
      "execution_count": 103,
      "outputs": [
        {
          "output_type": "execute_result",
          "data": {
            "text/plain": [
              "[23, 56, 88, 99, 100]"
            ]
          },
          "metadata": {},
          "execution_count": 103
        }
      ]
    },
    {
      "cell_type": "code",
      "source": [
        "m.append(101)"
      ],
      "metadata": {
        "id": "ymD6tRBemWs6"
      },
      "execution_count": 104,
      "outputs": []
    },
    {
      "cell_type": "code",
      "source": [
        "m"
      ],
      "metadata": {
        "colab": {
          "base_uri": "https://localhost:8080/"
        },
        "id": "xOfjsb6jmfcd",
        "outputId": "895f638f-f210-4328-8c65-33e1b0724456"
      },
      "execution_count": 105,
      "outputs": [
        {
          "output_type": "execute_result",
          "data": {
            "text/plain": [
              "[23, 56, 88, 99, 100, 101]"
            ]
          },
          "metadata": {},
          "execution_count": 105
        }
      ]
    },
    {
      "cell_type": "code",
      "source": [
        "m.extend(['akshat','raju'])"
      ],
      "metadata": {
        "id": "-4iM_DANmjlx"
      },
      "execution_count": 106,
      "outputs": []
    },
    {
      "cell_type": "code",
      "source": [
        "m"
      ],
      "metadata": {
        "colab": {
          "base_uri": "https://localhost:8080/"
        },
        "id": "ADWSsG0Wmvyh",
        "outputId": "489ae9f8-da1c-4591-bc85-c1fb95f72fb3"
      },
      "execution_count": 107,
      "outputs": [
        {
          "output_type": "execute_result",
          "data": {
            "text/plain": [
              "[23, 56, 88, 99, 100, 101, 'akshat', 'raju']"
            ]
          },
          "metadata": {},
          "execution_count": 107
        }
      ]
    },
    {
      "cell_type": "code",
      "source": [
        "m.insert(3,120)"
      ],
      "metadata": {
        "id": "YZoivKDOmwY_"
      },
      "execution_count": 108,
      "outputs": []
    },
    {
      "cell_type": "code",
      "source": [
        "m"
      ],
      "metadata": {
        "colab": {
          "base_uri": "https://localhost:8080/"
        },
        "id": "RU4abjjYnAHC",
        "outputId": "2c1698b2-9bbf-49c6-e96f-820ea6d3c0fc"
      },
      "execution_count": 109,
      "outputs": [
        {
          "output_type": "execute_result",
          "data": {
            "text/plain": [
              "[23, 56, 88, 120, 99, 100, 101, 'akshat', 'raju']"
            ]
          },
          "metadata": {},
          "execution_count": 109
        }
      ]
    },
    {
      "cell_type": "code",
      "source": [
        "m1.count(2.9)"
      ],
      "metadata": {
        "colab": {
          "base_uri": "https://localhost:8080/"
        },
        "id": "EIAMlpxBnA5N",
        "outputId": "1ff6ca99-7f05-4507-c549-8bc9cee86f6b"
      },
      "execution_count": 110,
      "outputs": [
        {
          "output_type": "execute_result",
          "data": {
            "text/plain": [
              "2"
            ]
          },
          "metadata": {},
          "execution_count": 110
        }
      ]
    },
    {
      "cell_type": "code",
      "source": [
        "m1"
      ],
      "metadata": {
        "colab": {
          "base_uri": "https://localhost:8080/"
        },
        "id": "TiER1oOknWCJ",
        "outputId": "c3f4fcf8-90fd-4830-c423-0b1eb0f7202b"
      },
      "execution_count": 111,
      "outputs": [
        {
          "output_type": "execute_result",
          "data": {
            "text/plain": [
              "[23, 2.9, 'hello', 2.9, 100]"
            ]
          },
          "metadata": {},
          "execution_count": 111
        }
      ]
    },
    {
      "cell_type": "code",
      "source": [
        "m1.index('hello')"
      ],
      "metadata": {
        "colab": {
          "base_uri": "https://localhost:8080/"
        },
        "id": "GW88tSEHnW62",
        "outputId": "c9504783-c8c4-4b8d-f54d-64f90560ef9e"
      },
      "execution_count": 112,
      "outputs": [
        {
          "output_type": "execute_result",
          "data": {
            "text/plain": [
              "2"
            ]
          },
          "metadata": {},
          "execution_count": 112
        }
      ]
    },
    {
      "cell_type": "code",
      "source": [
        "n = m.copy()"
      ],
      "metadata": {
        "id": "zrYKFNUgnabR"
      },
      "execution_count": 113,
      "outputs": []
    },
    {
      "cell_type": "code",
      "source": [
        "n"
      ],
      "metadata": {
        "colab": {
          "base_uri": "https://localhost:8080/"
        },
        "id": "GZK3t1Y2nh2B",
        "outputId": "bc652f00-5cab-46e1-8c11-9050ecc16770"
      },
      "execution_count": 114,
      "outputs": [
        {
          "output_type": "execute_result",
          "data": {
            "text/plain": [
              "[23, 56, 88, 120, 99, 100, 101, 'akshat', 'raju']"
            ]
          },
          "metadata": {},
          "execution_count": 114
        }
      ]
    },
    {
      "cell_type": "code",
      "source": [
        "m.pop()"
      ],
      "metadata": {
        "colab": {
          "base_uri": "https://localhost:8080/",
          "height": 36
        },
        "id": "KhWvdpzDniW6",
        "outputId": "90de820c-488c-48dc-bc8c-65d71ec72d40"
      },
      "execution_count": 115,
      "outputs": [
        {
          "output_type": "execute_result",
          "data": {
            "text/plain": [
              "'raju'"
            ],
            "application/vnd.google.colaboratory.intrinsic+json": {
              "type": "string"
            }
          },
          "metadata": {},
          "execution_count": 115
        }
      ]
    },
    {
      "cell_type": "code",
      "source": [
        "m"
      ],
      "metadata": {
        "colab": {
          "base_uri": "https://localhost:8080/"
        },
        "id": "XGt8Rj27nrLo",
        "outputId": "8d7945c4-f6d6-447c-8b47-e4caf413bb64"
      },
      "execution_count": 116,
      "outputs": [
        {
          "output_type": "execute_result",
          "data": {
            "text/plain": [
              "[23, 56, 88, 120, 99, 100, 101, 'akshat']"
            ]
          },
          "metadata": {},
          "execution_count": 116
        }
      ]
    },
    {
      "cell_type": "code",
      "source": [
        "m.pop()"
      ],
      "metadata": {
        "colab": {
          "base_uri": "https://localhost:8080/",
          "height": 36
        },
        "id": "21P9WP-enslk",
        "outputId": "c55b6b56-43c5-4e6e-a4aa-78f180d9db83"
      },
      "execution_count": 117,
      "outputs": [
        {
          "output_type": "execute_result",
          "data": {
            "text/plain": [
              "'akshat'"
            ],
            "application/vnd.google.colaboratory.intrinsic+json": {
              "type": "string"
            }
          },
          "metadata": {},
          "execution_count": 117
        }
      ]
    },
    {
      "cell_type": "code",
      "source": [
        "m"
      ],
      "metadata": {
        "colab": {
          "base_uri": "https://localhost:8080/"
        },
        "id": "yyzImX-Qnvml",
        "outputId": "c72b22f3-78c5-4d89-812c-0d20e0013897"
      },
      "execution_count": 118,
      "outputs": [
        {
          "output_type": "execute_result",
          "data": {
            "text/plain": [
              "[23, 56, 88, 120, 99, 100, 101]"
            ]
          },
          "metadata": {},
          "execution_count": 118
        }
      ]
    },
    {
      "cell_type": "code",
      "source": [
        "m.remove(120)"
      ],
      "metadata": {
        "id": "x7HhImlnnwGL"
      },
      "execution_count": 119,
      "outputs": []
    },
    {
      "cell_type": "code",
      "source": [
        "m"
      ],
      "metadata": {
        "colab": {
          "base_uri": "https://localhost:8080/"
        },
        "id": "iMiTjHJ-nzst",
        "outputId": "bffe440b-30c4-4689-951e-18b961b5d8d1"
      },
      "execution_count": 120,
      "outputs": [
        {
          "output_type": "execute_result",
          "data": {
            "text/plain": [
              "[23, 56, 88, 99, 100, 101]"
            ]
          },
          "metadata": {},
          "execution_count": 120
        }
      ]
    },
    {
      "cell_type": "code",
      "source": [
        "del m[-1]"
      ],
      "metadata": {
        "id": "NRnrefvCn0a0"
      },
      "execution_count": 121,
      "outputs": []
    },
    {
      "cell_type": "code",
      "source": [
        "m"
      ],
      "metadata": {
        "colab": {
          "base_uri": "https://localhost:8080/"
        },
        "id": "Z7pfl4hon6ky",
        "outputId": "664b1b78-9322-4b3c-da32-fbfae72bf1f2"
      },
      "execution_count": 122,
      "outputs": [
        {
          "output_type": "execute_result",
          "data": {
            "text/plain": [
              "[23, 56, 88, 99, 100]"
            ]
          },
          "metadata": {},
          "execution_count": 122
        }
      ]
    },
    {
      "cell_type": "code",
      "source": [
        "d = [13,66,20,12,100]\n",
        "d.sort()"
      ],
      "metadata": {
        "id": "knmI_wIJn7Oh"
      },
      "execution_count": 123,
      "outputs": []
    },
    {
      "cell_type": "code",
      "source": [
        "d"
      ],
      "metadata": {
        "colab": {
          "base_uri": "https://localhost:8080/"
        },
        "id": "qphsRXiOoIW_",
        "outputId": "89e5b94d-cffc-4a86-997f-75cea36a6748"
      },
      "execution_count": 124,
      "outputs": [
        {
          "output_type": "execute_result",
          "data": {
            "text/plain": [
              "[12, 13, 20, 66, 100]"
            ]
          },
          "metadata": {},
          "execution_count": 124
        }
      ]
    },
    {
      "cell_type": "code",
      "source": [
        "d.sort(reverse=True)"
      ],
      "metadata": {
        "id": "eWM1DIqDoJDV"
      },
      "execution_count": 125,
      "outputs": []
    },
    {
      "cell_type": "code",
      "source": [
        "d"
      ],
      "metadata": {
        "colab": {
          "base_uri": "https://localhost:8080/"
        },
        "id": "U8a5sP_soNOE",
        "outputId": "e6296e6e-c6b3-4b5a-a365-e6f645293396"
      },
      "execution_count": 126,
      "outputs": [
        {
          "output_type": "execute_result",
          "data": {
            "text/plain": [
              "[100, 66, 20, 13, 12]"
            ]
          },
          "metadata": {},
          "execution_count": 126
        }
      ]
    },
    {
      "cell_type": "code",
      "source": [
        "s = ['akshat','ayan','neha','sweta']"
      ],
      "metadata": {
        "id": "FrzAKi1yoOB1"
      },
      "execution_count": 127,
      "outputs": []
    },
    {
      "cell_type": "code",
      "source": [
        "s[::-1]"
      ],
      "metadata": {
        "colab": {
          "base_uri": "https://localhost:8080/"
        },
        "id": "Iy7Dwzg_oS2c",
        "outputId": "ce932406-0116-4aa3-a59d-df5e30559aab"
      },
      "execution_count": 128,
      "outputs": [
        {
          "output_type": "execute_result",
          "data": {
            "text/plain": [
              "['sweta', 'neha', 'ayan', 'akshat']"
            ]
          },
          "metadata": {},
          "execution_count": 128
        }
      ]
    },
    {
      "cell_type": "code",
      "source": [
        "s"
      ],
      "metadata": {
        "colab": {
          "base_uri": "https://localhost:8080/"
        },
        "id": "YufiHk9HoUyB",
        "outputId": "3767479c-fd62-4081-f147-839834775aa3"
      },
      "execution_count": 129,
      "outputs": [
        {
          "output_type": "execute_result",
          "data": {
            "text/plain": [
              "['akshat', 'ayan', 'neha', 'sweta']"
            ]
          },
          "metadata": {},
          "execution_count": 129
        }
      ]
    },
    {
      "cell_type": "code",
      "source": [
        "s.reverse()"
      ],
      "metadata": {
        "id": "yjO9oSM6oWta"
      },
      "execution_count": 130,
      "outputs": []
    },
    {
      "cell_type": "code",
      "source": [
        "s"
      ],
      "metadata": {
        "colab": {
          "base_uri": "https://localhost:8080/"
        },
        "id": "X3DFzX4NoaI-",
        "outputId": "44154045-e662-4c3d-cba7-3dcfb7b98b4e"
      },
      "execution_count": 131,
      "outputs": [
        {
          "output_type": "execute_result",
          "data": {
            "text/plain": [
              "['sweta', 'neha', 'ayan', 'akshat']"
            ]
          },
          "metadata": {},
          "execution_count": 131
        }
      ]
    },
    {
      "cell_type": "code",
      "source": [
        "# Nested list\n",
        "k = [23,67,90,['hello','hii'],80]"
      ],
      "metadata": {
        "id": "VpPte-yioa0h"
      },
      "execution_count": 132,
      "outputs": []
    },
    {
      "cell_type": "code",
      "source": [
        "type(k)"
      ],
      "metadata": {
        "colab": {
          "base_uri": "https://localhost:8080/"
        },
        "id": "vopABsQpp068",
        "outputId": "6b464629-7161-494f-e393-237b3359dc30"
      },
      "execution_count": 133,
      "outputs": [
        {
          "output_type": "execute_result",
          "data": {
            "text/plain": [
              "list"
            ]
          },
          "metadata": {},
          "execution_count": 133
        }
      ]
    },
    {
      "cell_type": "code",
      "source": [
        "k[3][1][1:]"
      ],
      "metadata": {
        "colab": {
          "base_uri": "https://localhost:8080/",
          "height": 36
        },
        "id": "FcHiRfFLp2j2",
        "outputId": "fe8d96e6-859a-4e70-a6b1-6a1078916d02"
      },
      "execution_count": 134,
      "outputs": [
        {
          "output_type": "execute_result",
          "data": {
            "text/plain": [
              "'ii'"
            ],
            "application/vnd.google.colaboratory.intrinsic+json": {
              "type": "string"
            }
          },
          "metadata": {},
          "execution_count": 134
        }
      ]
    },
    {
      "cell_type": "code",
      "source": [
        "s"
      ],
      "metadata": {
        "colab": {
          "base_uri": "https://localhost:8080/"
        },
        "id": "parzxPYnp_G6",
        "outputId": "9e479422-c1d5-42ad-f275-d839c60fa930"
      },
      "execution_count": 135,
      "outputs": [
        {
          "output_type": "execute_result",
          "data": {
            "text/plain": [
              "['sweta', 'neha', 'ayan', 'akshat']"
            ]
          },
          "metadata": {},
          "execution_count": 135
        }
      ]
    },
    {
      "cell_type": "code",
      "source": [
        "s[2] = 'Rahul'"
      ],
      "metadata": {
        "id": "I5qdlEmHqISI"
      },
      "execution_count": 136,
      "outputs": []
    },
    {
      "cell_type": "code",
      "source": [
        "s"
      ],
      "metadata": {
        "colab": {
          "base_uri": "https://localhost:8080/"
        },
        "id": "YHk1aHfIqMPW",
        "outputId": "2d89d178-0f40-4e91-d8d6-074d17bc9842"
      },
      "execution_count": 137,
      "outputs": [
        {
          "output_type": "execute_result",
          "data": {
            "text/plain": [
              "['sweta', 'neha', 'Rahul', 'akshat']"
            ]
          },
          "metadata": {},
          "execution_count": 137
        }
      ]
    },
    {
      "cell_type": "code",
      "source": [
        "# Tuple\n",
        "# 1. Immutable\n",
        "# 2. index/slicing/loops\n",
        "# 3. repeted\n",
        "# 4. both kind of data\n",
        "# 5. ()"
      ],
      "metadata": {
        "id": "hDh6hC2TqPjI"
      },
      "execution_count": 139,
      "outputs": []
    },
    {
      "cell_type": "code",
      "source": [
        "t = (23,77,90,'hello','hii',90,100)"
      ],
      "metadata": {
        "id": "xdALvy8lqfPd"
      },
      "execution_count": 140,
      "outputs": []
    },
    {
      "cell_type": "code",
      "source": [
        "type(t)"
      ],
      "metadata": {
        "colab": {
          "base_uri": "https://localhost:8080/"
        },
        "id": "kpP0_6p8qtbV",
        "outputId": "d542595e-f89e-4bac-8796-3d74f7565c69"
      },
      "execution_count": 141,
      "outputs": [
        {
          "output_type": "execute_result",
          "data": {
            "text/plain": [
              "tuple"
            ]
          },
          "metadata": {},
          "execution_count": 141
        }
      ]
    },
    {
      "cell_type": "code",
      "source": [
        "t[0]"
      ],
      "metadata": {
        "colab": {
          "base_uri": "https://localhost:8080/"
        },
        "id": "u9qmSoxjquk3",
        "outputId": "6e639561-dbb7-4b1c-eb70-e14b5a414a6d"
      },
      "execution_count": 142,
      "outputs": [
        {
          "output_type": "execute_result",
          "data": {
            "text/plain": [
              "23"
            ]
          },
          "metadata": {},
          "execution_count": 142
        }
      ]
    },
    {
      "cell_type": "code",
      "source": [
        "t[1:5]"
      ],
      "metadata": {
        "colab": {
          "base_uri": "https://localhost:8080/"
        },
        "id": "Xg3PMH7pqwia",
        "outputId": "13b74da2-0384-4b65-b7ba-4310a8c2722a"
      },
      "execution_count": 143,
      "outputs": [
        {
          "output_type": "execute_result",
          "data": {
            "text/plain": [
              "(77, 90, 'hello', 'hii')"
            ]
          },
          "metadata": {},
          "execution_count": 143
        }
      ]
    },
    {
      "cell_type": "code",
      "source": [
        "# 1. concat\n",
        "# 2. repeat"
      ],
      "metadata": {
        "id": "yBa6qseKqyTH"
      },
      "execution_count": 145,
      "outputs": []
    },
    {
      "cell_type": "code",
      "source": [
        "#. Built-in\n",
        "'''\n",
        "1. count\n",
        "2. index\n",
        "'''"
      ],
      "metadata": {
        "id": "PylYK51uq6Tu",
        "colab": {
          "base_uri": "https://localhost:8080/",
          "height": 36
        },
        "outputId": "5530041b-09ef-43a2-9f13-b5ac22b23a4a"
      },
      "execution_count": 146,
      "outputs": [
        {
          "output_type": "execute_result",
          "data": {
            "text/plain": [
              "'\\n1. count\\n2. index\\n'"
            ],
            "application/vnd.google.colaboratory.intrinsic+json": {
              "type": "string"
            }
          },
          "metadata": {},
          "execution_count": 146
        }
      ]
    },
    {
      "cell_type": "code",
      "source": [
        "t.count(90)"
      ],
      "metadata": {
        "colab": {
          "base_uri": "https://localhost:8080/"
        },
        "id": "HRrPyIr4q_NS",
        "outputId": "f3fa04e8-6d56-4863-f14b-0f1d67c6a124"
      },
      "execution_count": 147,
      "outputs": [
        {
          "output_type": "execute_result",
          "data": {
            "text/plain": [
              "2"
            ]
          },
          "metadata": {},
          "execution_count": 147
        }
      ]
    },
    {
      "cell_type": "code",
      "source": [
        "t.index(100)"
      ],
      "metadata": {
        "colab": {
          "base_uri": "https://localhost:8080/"
        },
        "id": "_7c9GwvvrBPm",
        "outputId": "bf699f61-390a-4c16-f688-7481f7ee27ea"
      },
      "execution_count": 148,
      "outputs": [
        {
          "output_type": "execute_result",
          "data": {
            "text/plain": [
              "6"
            ]
          },
          "metadata": {},
          "execution_count": 148
        }
      ]
    },
    {
      "cell_type": "code",
      "source": [
        "len(t)"
      ],
      "metadata": {
        "colab": {
          "base_uri": "https://localhost:8080/"
        },
        "id": "rmQgFQ7prEdH",
        "outputId": "e4ce9768-8e1d-40d4-efb0-911433bbf160"
      },
      "execution_count": 149,
      "outputs": [
        {
          "output_type": "execute_result",
          "data": {
            "text/plain": [
              "7"
            ]
          },
          "metadata": {},
          "execution_count": 149
        }
      ]
    },
    {
      "cell_type": "code",
      "source": [
        "from typing_extensions import dataclass_transform\n",
        "# Dictionary Data Type\n",
        "'''\n",
        "1. {}\n",
        "2. key-value\n",
        "3. no indexing/slicing\n",
        "4. unordered\n",
        "5. both data\n",
        "'''"
      ],
      "metadata": {
        "id": "t7duNtGerHl7",
        "colab": {
          "base_uri": "https://localhost:8080/",
          "height": 36
        },
        "outputId": "1a69d696-bf53-4b8a-f0de-79c53a841dbd"
      },
      "execution_count": 150,
      "outputs": [
        {
          "output_type": "execute_result",
          "data": {
            "text/plain": [
              "'\\n1. {}\\n2. key-value\\n3. no indexing/slicing\\n4. unordered\\n5. both data\\n'"
            ],
            "application/vnd.google.colaboratory.intrinsic+json": {
              "type": "string"
            }
          },
          "metadata": {},
          "execution_count": 150
        }
      ]
    },
    {
      "cell_type": "code",
      "source": [
        "d = {'name':'akshat', 'marks':80}"
      ],
      "metadata": {
        "id": "a9x3dQyEsaNN"
      },
      "execution_count": 151,
      "outputs": []
    },
    {
      "cell_type": "code",
      "source": [
        "type(d)"
      ],
      "metadata": {
        "colab": {
          "base_uri": "https://localhost:8080/"
        },
        "id": "0XDRxZAYspj_",
        "outputId": "83fa49e0-08b3-4053-b217-02db9aef2638"
      },
      "execution_count": 152,
      "outputs": [
        {
          "output_type": "execute_result",
          "data": {
            "text/plain": [
              "dict"
            ]
          },
          "metadata": {},
          "execution_count": 152
        }
      ]
    },
    {
      "cell_type": "code",
      "source": [
        "len(d)"
      ],
      "metadata": {
        "colab": {
          "base_uri": "https://localhost:8080/"
        },
        "id": "flYfyHkHsrD9",
        "outputId": "7a8368b8-66b0-4a14-af67-c9e18bc5f7fe"
      },
      "execution_count": 153,
      "outputs": [
        {
          "output_type": "execute_result",
          "data": {
            "text/plain": [
              "2"
            ]
          },
          "metadata": {},
          "execution_count": 153
        }
      ]
    },
    {
      "cell_type": "code",
      "source": [
        "d1 = {'name':['akash','rohit','rony','riya'], 'marks':[80,78,89,70], 'city':['kol','pune','pune','kol']}\n",
        "d1"
      ],
      "metadata": {
        "colab": {
          "base_uri": "https://localhost:8080/"
        },
        "id": "pZjn2pzcs_gx",
        "outputId": "124c60d1-29ea-4432-d80c-166d4e8db7d7"
      },
      "execution_count": 154,
      "outputs": [
        {
          "output_type": "execute_result",
          "data": {
            "text/plain": [
              "{'name': ['akash', 'rohit', 'rony', 'riya'],\n",
              " 'marks': [80, 78, 89, 70],\n",
              " 'city': ['kol', 'pune', 'pune', 'kol']}"
            ]
          },
          "metadata": {},
          "execution_count": 154
        }
      ]
    },
    {
      "cell_type": "code",
      "source": [
        "d1['pincode'] = [9045, 7281, 8907, 5676]"
      ],
      "metadata": {
        "id": "67yBXZwitXgi"
      },
      "execution_count": 155,
      "outputs": []
    },
    {
      "cell_type": "code",
      "source": [
        "d1"
      ],
      "metadata": {
        "colab": {
          "base_uri": "https://localhost:8080/"
        },
        "id": "ndN_ExLJtlqU",
        "outputId": "932081f5-7a35-4cb0-ee94-96a7b5478ed1"
      },
      "execution_count": 156,
      "outputs": [
        {
          "output_type": "execute_result",
          "data": {
            "text/plain": [
              "{'name': ['akash', 'rohit', 'rony', 'riya'],\n",
              " 'marks': [80, 78, 89, 70],\n",
              " 'city': ['kol', 'pune', 'pune', 'kol'],\n",
              " 'pincode': [9045, 7281, 8907, 5676]}"
            ]
          },
          "metadata": {},
          "execution_count": 156
        }
      ]
    },
    {
      "cell_type": "code",
      "source": [
        "d1['city']"
      ],
      "metadata": {
        "colab": {
          "base_uri": "https://localhost:8080/"
        },
        "id": "f8xm63rCtm1t",
        "outputId": "28c0d3fc-7a35-43ff-ca5b-3f10a8526a01"
      },
      "execution_count": 157,
      "outputs": [
        {
          "output_type": "execute_result",
          "data": {
            "text/plain": [
              "['kol', 'pune', 'pune', 'kol']"
            ]
          },
          "metadata": {},
          "execution_count": 157
        }
      ]
    },
    {
      "cell_type": "code",
      "source": [
        "d1['name'].append('neha')"
      ],
      "metadata": {
        "id": "f4rciaP3tuqc"
      },
      "execution_count": 158,
      "outputs": []
    },
    {
      "cell_type": "code",
      "source": [
        "d1"
      ],
      "metadata": {
        "colab": {
          "base_uri": "https://localhost:8080/"
        },
        "id": "Ra0Urs0Pt66J",
        "outputId": "3bc510b2-ce7c-4efa-e6a9-44727213bc9b"
      },
      "execution_count": 159,
      "outputs": [
        {
          "output_type": "execute_result",
          "data": {
            "text/plain": [
              "{'name': ['akash', 'rohit', 'rony', 'riya', 'neha'],\n",
              " 'marks': [80, 78, 89, 70],\n",
              " 'city': ['kol', 'pune', 'pune', 'kol'],\n",
              " 'pincode': [9045, 7281, 8907, 5676]}"
            ]
          },
          "metadata": {},
          "execution_count": 159
        }
      ]
    },
    {
      "cell_type": "code",
      "source": [
        "d1['name']"
      ],
      "metadata": {
        "colab": {
          "base_uri": "https://localhost:8080/"
        },
        "id": "YTBjpBCBuCjg",
        "outputId": "e7ea6e3d-6d63-4599-a42e-b76382be200f"
      },
      "execution_count": 160,
      "outputs": [
        {
          "output_type": "execute_result",
          "data": {
            "text/plain": [
              "['akash', 'rohit', 'rony', 'riya', 'neha']"
            ]
          },
          "metadata": {},
          "execution_count": 160
        }
      ]
    },
    {
      "cell_type": "code",
      "source": [
        "d1['name'] = [name.upper() for name in d1['name']]"
      ],
      "metadata": {
        "id": "F9bPhbxQwKUh"
      },
      "execution_count": 161,
      "outputs": []
    },
    {
      "cell_type": "code",
      "source": [
        "d1"
      ],
      "metadata": {
        "colab": {
          "base_uri": "https://localhost:8080/"
        },
        "id": "X4T7BKnswVwf",
        "outputId": "e34b66a0-6340-4bb9-aa14-bd27d633975b"
      },
      "execution_count": 162,
      "outputs": [
        {
          "output_type": "execute_result",
          "data": {
            "text/plain": [
              "{'name': ['AKASH', 'ROHIT', 'RONY', 'RIYA', 'NEHA'],\n",
              " 'marks': [80, 78, 89, 70],\n",
              " 'city': ['kol', 'pune', 'pune', 'kol'],\n",
              " 'pincode': [9045, 7281, 8907, 5676]}"
            ]
          },
          "metadata": {},
          "execution_count": 162
        }
      ]
    },
    {
      "cell_type": "code",
      "source": [
        "d1['name'].remove('RONY')"
      ],
      "metadata": {
        "id": "l-q0TtMXwWh4"
      },
      "execution_count": 163,
      "outputs": []
    },
    {
      "cell_type": "code",
      "source": [
        "d1"
      ],
      "metadata": {
        "colab": {
          "base_uri": "https://localhost:8080/"
        },
        "id": "_B7EIfFWwuB1",
        "outputId": "98ce50c8-8318-42d9-9ff0-335ef159a2f3"
      },
      "execution_count": 164,
      "outputs": [
        {
          "output_type": "execute_result",
          "data": {
            "text/plain": [
              "{'name': ['AKASH', 'ROHIT', 'RIYA', 'NEHA'],\n",
              " 'marks': [80, 78, 89, 70],\n",
              " 'city': ['kol', 'pune', 'pune', 'kol'],\n",
              " 'pincode': [9045, 7281, 8907, 5676]}"
            ]
          },
          "metadata": {},
          "execution_count": 164
        }
      ]
    },
    {
      "cell_type": "code",
      "source": [
        "# Built-in fuctions\n",
        "# 1. keys\n",
        "# 2. values\n",
        "# 3. items\n",
        "# 4. get\n",
        "# 5. copy\n",
        "# 6. clear\n",
        "# 7. pop\n",
        "# 8. popitems"
      ],
      "metadata": {
        "id": "YnMJvWZ4wuoZ"
      },
      "execution_count": 165,
      "outputs": []
    },
    {
      "cell_type": "code",
      "source": [
        "d1.keys()"
      ],
      "metadata": {
        "colab": {
          "base_uri": "https://localhost:8080/"
        },
        "id": "KDyoNpKMxVhT",
        "outputId": "e4f0a3b9-32bd-40fd-8d8d-04ed4b6453de"
      },
      "execution_count": 166,
      "outputs": [
        {
          "output_type": "execute_result",
          "data": {
            "text/plain": [
              "dict_keys(['name', 'marks', 'city', 'pincode'])"
            ]
          },
          "metadata": {},
          "execution_count": 166
        }
      ]
    },
    {
      "cell_type": "code",
      "source": [
        "d1.values()"
      ],
      "metadata": {
        "colab": {
          "base_uri": "https://localhost:8080/"
        },
        "id": "M2Pmfi-XxXKT",
        "outputId": "26c7224b-671b-438f-b031-5d54642a1a74"
      },
      "execution_count": 167,
      "outputs": [
        {
          "output_type": "execute_result",
          "data": {
            "text/plain": [
              "dict_values([['AKASH', 'ROHIT', 'RIYA', 'NEHA'], [80, 78, 89, 70], ['kol', 'pune', 'pune', 'kol'], [9045, 7281, 8907, 5676]])"
            ]
          },
          "metadata": {},
          "execution_count": 167
        }
      ]
    },
    {
      "cell_type": "code",
      "source": [
        "d1.items()"
      ],
      "metadata": {
        "colab": {
          "base_uri": "https://localhost:8080/"
        },
        "id": "VMdkna6VxaDk",
        "outputId": "00a16397-2911-4654-deae-3df6969d1c28"
      },
      "execution_count": 168,
      "outputs": [
        {
          "output_type": "execute_result",
          "data": {
            "text/plain": [
              "dict_items([('name', ['AKASH', 'ROHIT', 'RIYA', 'NEHA']), ('marks', [80, 78, 89, 70]), ('city', ['kol', 'pune', 'pune', 'kol']), ('pincode', [9045, 7281, 8907, 5676])])"
            ]
          },
          "metadata": {},
          "execution_count": 168
        }
      ]
    },
    {
      "cell_type": "code",
      "source": [
        "# d1['gmail']\n",
        "'''\n",
        "gettting key error\n",
        "'''"
      ],
      "metadata": {
        "colab": {
          "base_uri": "https://localhost:8080/",
          "height": 36
        },
        "id": "TbF4l7Xpxfp-",
        "outputId": "101f14db-4be8-4f8b-af03-bc1645d4f138"
      },
      "execution_count": 171,
      "outputs": [
        {
          "output_type": "execute_result",
          "data": {
            "text/plain": [
              "'\\ngettting key error\\n'"
            ],
            "application/vnd.google.colaboratory.intrinsic+json": {
              "type": "string"
            }
          },
          "metadata": {},
          "execution_count": 171
        }
      ]
    },
    {
      "cell_type": "code",
      "source": [
        "d1.get('name')"
      ],
      "metadata": {
        "colab": {
          "base_uri": "https://localhost:8080/"
        },
        "id": "jFV_2pPcxo5p",
        "outputId": "3f7a4037-869d-49d8-efbb-ef68ab202dd2"
      },
      "execution_count": 172,
      "outputs": [
        {
          "output_type": "execute_result",
          "data": {
            "text/plain": [
              "['AKASH', 'ROHIT', 'RIYA', 'NEHA']"
            ]
          },
          "metadata": {},
          "execution_count": 172
        }
      ]
    },
    {
      "cell_type": "code",
      "source": [
        "d1.get('gmail')"
      ],
      "metadata": {
        "id": "CfXjy0W-xrdT"
      },
      "execution_count": 173,
      "outputs": []
    },
    {
      "cell_type": "code",
      "source": [
        "d1.pop('city')"
      ],
      "metadata": {
        "colab": {
          "base_uri": "https://localhost:8080/"
        },
        "id": "njmJHJFTxvVG",
        "outputId": "43836053-a21c-46e5-d39b-53763ce6e168"
      },
      "execution_count": 174,
      "outputs": [
        {
          "output_type": "execute_result",
          "data": {
            "text/plain": [
              "['kol', 'pune', 'pune', 'kol']"
            ]
          },
          "metadata": {},
          "execution_count": 174
        }
      ]
    },
    {
      "cell_type": "code",
      "source": [
        "d1"
      ],
      "metadata": {
        "colab": {
          "base_uri": "https://localhost:8080/"
        },
        "id": "zaqznjk9x4J8",
        "outputId": "fbef0fe5-89dd-41fb-8a97-75be9c473bf5"
      },
      "execution_count": 175,
      "outputs": [
        {
          "output_type": "execute_result",
          "data": {
            "text/plain": [
              "{'name': ['AKASH', 'ROHIT', 'RIYA', 'NEHA'],\n",
              " 'marks': [80, 78, 89, 70],\n",
              " 'pincode': [9045, 7281, 8907, 5676]}"
            ]
          },
          "metadata": {},
          "execution_count": 175
        }
      ]
    },
    {
      "cell_type": "code",
      "source": [
        "d1.popitem()"
      ],
      "metadata": {
        "colab": {
          "base_uri": "https://localhost:8080/"
        },
        "id": "BSnSDz06x_Hd",
        "outputId": "81432830-f452-40f4-8444-4331bdf2e225"
      },
      "execution_count": 176,
      "outputs": [
        {
          "output_type": "execute_result",
          "data": {
            "text/plain": [
              "('pincode', [9045, 7281, 8907, 5676])"
            ]
          },
          "metadata": {},
          "execution_count": 176
        }
      ]
    },
    {
      "cell_type": "code",
      "source": [
        "d1"
      ],
      "metadata": {
        "colab": {
          "base_uri": "https://localhost:8080/"
        },
        "id": "2_10nMyGyDJl",
        "outputId": "8a4f36fc-f7c8-40df-9ccd-efd59e2402c4"
      },
      "execution_count": 177,
      "outputs": [
        {
          "output_type": "execute_result",
          "data": {
            "text/plain": [
              "{'name': ['AKASH', 'ROHIT', 'RIYA', 'NEHA'], 'marks': [80, 78, 89, 70]}"
            ]
          },
          "metadata": {},
          "execution_count": 177
        }
      ]
    },
    {
      "cell_type": "code",
      "source": [
        "d2 = d1.copy()"
      ],
      "metadata": {
        "id": "stipRtkLyG26"
      },
      "execution_count": 178,
      "outputs": []
    },
    {
      "cell_type": "code",
      "source": [
        "d2.clear()"
      ],
      "metadata": {
        "id": "7jOCcDE5yK93"
      },
      "execution_count": 179,
      "outputs": []
    },
    {
      "cell_type": "code",
      "source": [
        "d2"
      ],
      "metadata": {
        "colab": {
          "base_uri": "https://localhost:8080/"
        },
        "id": "13dY9-mdyLtq",
        "outputId": "1e410c64-63cf-41d6-9c8f-c37c9bdc9c40"
      },
      "execution_count": 180,
      "outputs": [
        {
          "output_type": "execute_result",
          "data": {
            "text/plain": [
              "{}"
            ]
          },
          "metadata": {},
          "execution_count": 180
        }
      ]
    },
    {
      "cell_type": "code",
      "source": [
        "'''\n",
        "[]---->List\n",
        "()---->Tupple\n",
        "''---->String\n",
        "{}---->dictionary and set\n",
        "'''"
      ],
      "metadata": {
        "id": "ZiQHt9ruyOhk",
        "colab": {
          "base_uri": "https://localhost:8080/",
          "height": 36
        },
        "outputId": "69d79016-6d84-491a-f740-291bf972ac7c"
      },
      "execution_count": 182,
      "outputs": [
        {
          "output_type": "execute_result",
          "data": {
            "text/plain": [
              "\"\\n[]---->List\\n()---->Tupple\\n''---->String\\n{}---->dictionary and set\\n\""
            ],
            "application/vnd.google.colaboratory.intrinsic+json": {
              "type": "string"
            }
          },
          "metadata": {},
          "execution_count": 182
        }
      ]
    },
    {
      "cell_type": "code",
      "source": [
        "d1 = {'name':['akash','rohit','rony','riya'], 'marks':[80,78,89,70], 'city':['kol','pune','pune','kol']}\n",
        "d1"
      ],
      "metadata": {
        "colab": {
          "base_uri": "https://localhost:8080/"
        },
        "id": "eDwkBYjyybEy",
        "outputId": "1984e8de-cbd5-4122-d667-7001d0cc9889"
      },
      "execution_count": 183,
      "outputs": [
        {
          "output_type": "execute_result",
          "data": {
            "text/plain": [
              "{'name': ['akash', 'rohit', 'rony', 'riya'],\n",
              " 'marks': [80, 78, 89, 70],\n",
              " 'city': ['kol', 'pune', 'pune', 'kol']}"
            ]
          },
          "metadata": {},
          "execution_count": 183
        }
      ]
    },
    {
      "cell_type": "code",
      "source": [
        "# SET Data Type\n",
        "'''\n",
        "1. unique collection\n",
        "2. unordered\n",
        "3. {}\n",
        "'''"
      ],
      "metadata": {
        "id": "9YmaZbrbygAO",
        "colab": {
          "base_uri": "https://localhost:8080/",
          "height": 36
        },
        "outputId": "12a5c557-bae1-40a7-b136-de3ae3d7cfc1"
      },
      "execution_count": 184,
      "outputs": [
        {
          "output_type": "execute_result",
          "data": {
            "text/plain": [
              "'\\n1. unique collection\\n2. unordered\\n3. {}\\n'"
            ],
            "application/vnd.google.colaboratory.intrinsic+json": {
              "type": "string"
            }
          },
          "metadata": {},
          "execution_count": 184
        }
      ]
    },
    {
      "cell_type": "code",
      "source": [
        "s = {23,55,77,34,51}\n",
        "s1 = {45,6,45,3,21,21}"
      ],
      "metadata": {
        "id": "GnIdoIWiz0Jt"
      },
      "execution_count": 185,
      "outputs": []
    },
    {
      "cell_type": "code",
      "source": [
        "s"
      ],
      "metadata": {
        "colab": {
          "base_uri": "https://localhost:8080/"
        },
        "id": "lUHiOHwJz9K0",
        "outputId": "87a23e50-af71-483b-88e0-53465816ea0c"
      },
      "execution_count": 186,
      "outputs": [
        {
          "output_type": "execute_result",
          "data": {
            "text/plain": [
              "{23, 34, 51, 55, 77}"
            ]
          },
          "metadata": {},
          "execution_count": 186
        }
      ]
    },
    {
      "cell_type": "code",
      "source": [
        "type(s1)"
      ],
      "metadata": {
        "colab": {
          "base_uri": "https://localhost:8080/"
        },
        "id": "rZ8BnFRIz9pa",
        "outputId": "a0944a19-fdfa-4aed-a51f-8d63f94cacbd"
      },
      "execution_count": 187,
      "outputs": [
        {
          "output_type": "execute_result",
          "data": {
            "text/plain": [
              "set"
            ]
          },
          "metadata": {},
          "execution_count": 187
        }
      ]
    },
    {
      "cell_type": "code",
      "source": [
        "s1"
      ],
      "metadata": {
        "colab": {
          "base_uri": "https://localhost:8080/"
        },
        "id": "LULwJAN70BFp",
        "outputId": "8c4e0408-dbff-4e5c-bbdf-cbbe737dc111"
      },
      "execution_count": 188,
      "outputs": [
        {
          "output_type": "execute_result",
          "data": {
            "text/plain": [
              "{3, 6, 21, 45}"
            ]
          },
          "metadata": {},
          "execution_count": 188
        }
      ]
    },
    {
      "cell_type": "code",
      "source": [
        "# Built-in function\n",
        "'''\n",
        "1. add\n",
        "2. remove\n",
        "3. discard\n",
        "4. pop\n",
        "5. copy\n",
        "6. clear\n",
        "7. union\n",
        "8. intersection\n",
        "9. update\n",
        "10.difference\n",
        "'''"
      ],
      "metadata": {
        "id": "gds820gQ0IUy",
        "colab": {
          "base_uri": "https://localhost:8080/",
          "height": 36
        },
        "outputId": "9ea74729-9c21-461c-f734-ac0bee393160"
      },
      "execution_count": 189,
      "outputs": [
        {
          "output_type": "execute_result",
          "data": {
            "text/plain": [
              "'\\n1. add\\n2. remove\\n3. discard\\n4. pop\\n5. copy\\n6. clear\\n7. union\\n8. intersection\\n9. update\\n10.difference\\n'"
            ],
            "application/vnd.google.colaboratory.intrinsic+json": {
              "type": "string"
            }
          },
          "metadata": {},
          "execution_count": 189
        }
      ]
    },
    {
      "cell_type": "code",
      "source": [
        "s.add(100)"
      ],
      "metadata": {
        "id": "dqHJFz4G0eB7"
      },
      "execution_count": 190,
      "outputs": []
    },
    {
      "cell_type": "code",
      "source": [
        "s"
      ],
      "metadata": {
        "colab": {
          "base_uri": "https://localhost:8080/"
        },
        "id": "Iytxzl9B0e7W",
        "outputId": "bf369b23-59af-4904-c635-8ff6aa5694ea"
      },
      "execution_count": 191,
      "outputs": [
        {
          "output_type": "execute_result",
          "data": {
            "text/plain": [
              "{23, 34, 51, 55, 77, 100}"
            ]
          },
          "metadata": {},
          "execution_count": 191
        }
      ]
    },
    {
      "cell_type": "code",
      "source": [
        "s.remove(55)"
      ],
      "metadata": {
        "id": "t5JDKbTd0h__"
      },
      "execution_count": 192,
      "outputs": []
    },
    {
      "cell_type": "code",
      "source": [
        "s.discard(51)"
      ],
      "metadata": {
        "id": "RylD3s1V0lKu"
      },
      "execution_count": 193,
      "outputs": []
    },
    {
      "cell_type": "code",
      "source": [
        "s"
      ],
      "metadata": {
        "colab": {
          "base_uri": "https://localhost:8080/"
        },
        "id": "O6Y_v4jf0mKd",
        "outputId": "c31c223e-aeb5-4dcd-befc-6a6c267fc4bd"
      },
      "execution_count": 194,
      "outputs": [
        {
          "output_type": "execute_result",
          "data": {
            "text/plain": [
              "{23, 34, 77, 100}"
            ]
          },
          "metadata": {},
          "execution_count": 194
        }
      ]
    },
    {
      "cell_type": "code",
      "source": [
        "s.pop()"
      ],
      "metadata": {
        "colab": {
          "base_uri": "https://localhost:8080/"
        },
        "id": "QmTArrbG0pko",
        "outputId": "94df91f3-3912-4dc5-cd57-c4094439fc9d"
      },
      "execution_count": 195,
      "outputs": [
        {
          "output_type": "execute_result",
          "data": {
            "text/plain": [
              "34"
            ]
          },
          "metadata": {},
          "execution_count": 195
        }
      ]
    },
    {
      "cell_type": "code",
      "source": [
        "s"
      ],
      "metadata": {
        "colab": {
          "base_uri": "https://localhost:8080/"
        },
        "id": "bmGXuFWH05D3",
        "outputId": "18755186-c9ec-4f30-ebe8-acf445dc4a2d"
      },
      "execution_count": 196,
      "outputs": [
        {
          "output_type": "execute_result",
          "data": {
            "text/plain": [
              "{23, 77, 100}"
            ]
          },
          "metadata": {},
          "execution_count": 196
        }
      ]
    },
    {
      "cell_type": "code",
      "source": [
        "s1"
      ],
      "metadata": {
        "colab": {
          "base_uri": "https://localhost:8080/"
        },
        "id": "EPtA16tj0-2u",
        "outputId": "c33e72b0-5a43-4ca1-dc95-0cd9b5feacef"
      },
      "execution_count": 197,
      "outputs": [
        {
          "output_type": "execute_result",
          "data": {
            "text/plain": [
              "{3, 6, 21, 45}"
            ]
          },
          "metadata": {},
          "execution_count": 197
        }
      ]
    },
    {
      "cell_type": "code",
      "source": [
        "s2 = {8,6,3,90}"
      ],
      "metadata": {
        "id": "2YXLIhR-0_de"
      },
      "execution_count": 198,
      "outputs": []
    },
    {
      "cell_type": "code",
      "source": [
        "s1.intersection(s2)"
      ],
      "metadata": {
        "colab": {
          "base_uri": "https://localhost:8080/"
        },
        "id": "Hsefo7TS1R3O",
        "outputId": "109a4fb1-ab6d-429e-f27c-b44abc2adb77"
      },
      "execution_count": 199,
      "outputs": [
        {
          "output_type": "execute_result",
          "data": {
            "text/plain": [
              "{3, 6}"
            ]
          },
          "metadata": {},
          "execution_count": 199
        }
      ]
    },
    {
      "cell_type": "code",
      "source": [
        "s1.union(s2)"
      ],
      "metadata": {
        "colab": {
          "base_uri": "https://localhost:8080/"
        },
        "id": "ym7WkM3A1Wyj",
        "outputId": "1d30a1b5-27d1-4b0f-e5d8-766c4e9f2776"
      },
      "execution_count": 200,
      "outputs": [
        {
          "output_type": "execute_result",
          "data": {
            "text/plain": [
              "{3, 6, 8, 21, 45, 90}"
            ]
          },
          "metadata": {},
          "execution_count": 200
        }
      ]
    },
    {
      "cell_type": "code",
      "source": [
        "s1.difference(s2)"
      ],
      "metadata": {
        "colab": {
          "base_uri": "https://localhost:8080/"
        },
        "id": "KEniSpWo1aGw",
        "outputId": "30fafe88-ba93-4c66-b21c-40234e27cb06"
      },
      "execution_count": 201,
      "outputs": [
        {
          "output_type": "execute_result",
          "data": {
            "text/plain": [
              "{21, 45}"
            ]
          },
          "metadata": {},
          "execution_count": 201
        }
      ]
    },
    {
      "cell_type": "code",
      "source": [
        "s1.update(s2)"
      ],
      "metadata": {
        "id": "qM64MX8W1gZC"
      },
      "execution_count": 202,
      "outputs": []
    },
    {
      "cell_type": "code",
      "source": [
        "s1"
      ],
      "metadata": {
        "id": "ldAywh1o1qbH",
        "outputId": "a341bc8b-f6ff-462a-f3c4-9f0049195005",
        "colab": {
          "base_uri": "https://localhost:8080/"
        }
      },
      "execution_count": 203,
      "outputs": [
        {
          "output_type": "execute_result",
          "data": {
            "text/plain": [
              "{3, 6, 8, 21, 45, 90}"
            ]
          },
          "metadata": {},
          "execution_count": 203
        }
      ]
    },
    {
      "cell_type": "code",
      "execution_count": 205,
      "metadata": {
        "id": "VXNHWst_LNg8",
        "colab": {
          "base_uri": "https://localhost:8080/",
          "height": 36
        },
        "outputId": "a4eb7f7a-a0b1-4799-bea8-fa16683e6aa3"
      },
      "outputs": [
        {
          "output_type": "execute_result",
          "data": {
            "text/plain": [
              "'\\n--- if, elif, else\\n--- Loop\\n'"
            ],
            "application/vnd.google.colaboratory.intrinsic+json": {
              "type": "string"
            }
          },
          "metadata": {},
          "execution_count": 205
        }
      ],
      "source": [
        "'''\n",
        "--- if, elif, else\n",
        "--- Loop\n",
        "'''"
      ]
    },
    {
      "cell_type": "code",
      "source": [
        "a = input('Enter Your Name: ')\n",
        "print('Hello',a)"
      ],
      "metadata": {
        "colab": {
          "base_uri": "https://localhost:8080/"
        },
        "id": "3KngZndPMN7W",
        "outputId": "aee10150-de0c-4516-f1c2-de426088a8fa"
      },
      "execution_count": 206,
      "outputs": [
        {
          "output_type": "stream",
          "name": "stdout",
          "text": [
            "Enter Your Name: suman\n",
            "Hello suman\n"
          ]
        }
      ]
    },
    {
      "cell_type": "code",
      "source": [
        "type(a)"
      ],
      "metadata": {
        "colab": {
          "base_uri": "https://localhost:8080/"
        },
        "id": "R9if20E3MT1b",
        "outputId": "68f489c5-cd82-4aa3-e9cb-28607bcc1dcd"
      },
      "execution_count": 207,
      "outputs": [
        {
          "output_type": "execute_result",
          "data": {
            "text/plain": [
              "str"
            ]
          },
          "metadata": {},
          "execution_count": 207
        }
      ]
    },
    {
      "cell_type": "code",
      "source": [
        "x = float(input('Enter first no: '))\n",
        "y = float(input('Enter second no: '))\n",
        "c = x+y\n",
        "print('Result is', c)"
      ],
      "metadata": {
        "colab": {
          "base_uri": "https://localhost:8080/"
        },
        "id": "_1XgngtHMlDV",
        "outputId": "d5c5eb3c-dadf-49f4-b449-033d856d6286"
      },
      "execution_count": 208,
      "outputs": [
        {
          "output_type": "stream",
          "name": "stdout",
          "text": [
            "Enter first no: 2\n",
            "Enter second no: 3\n",
            "Result is 5.0\n"
          ]
        }
      ]
    },
    {
      "cell_type": "code",
      "source": [
        "x = eval(input('Enter first no: '))\n",
        "y = eval(input('Enter second no: '))\n",
        "c = x+y\n",
        "print('Result is', c)"
      ],
      "metadata": {
        "id": "s1jt6MCrM0jC",
        "colab": {
          "base_uri": "https://localhost:8080/"
        },
        "outputId": "5d6e4b0a-b67f-4910-d8d9-89a7d90e60c6"
      },
      "execution_count": 209,
      "outputs": [
        {
          "output_type": "stream",
          "name": "stdout",
          "text": [
            "Enter first no: 2.5\n",
            "Enter second no: 3.5\n",
            "Result is 6.0\n"
          ]
        }
      ]
    },
    {
      "cell_type": "code",
      "source": [
        "eval('5'+'+'+'6')"
      ],
      "metadata": {
        "colab": {
          "base_uri": "https://localhost:8080/"
        },
        "id": "5p_w6j-rNgGx",
        "outputId": "441a7a4a-43c9-403e-c86f-88d0411281be"
      },
      "execution_count": 210,
      "outputs": [
        {
          "output_type": "execute_result",
          "data": {
            "text/plain": [
              "11"
            ]
          },
          "metadata": {},
          "execution_count": 210
        }
      ]
    },
    {
      "cell_type": "code",
      "source": [
        "name = ['akash','rajat','mukesh','manaav']\n",
        "age = [23,21,24,22]"
      ],
      "metadata": {
        "id": "h-OAEAisNmPu"
      },
      "execution_count": 211,
      "outputs": []
    },
    {
      "cell_type": "code",
      "source": [
        "dict(zip(name,age))"
      ],
      "metadata": {
        "colab": {
          "base_uri": "https://localhost:8080/"
        },
        "id": "R-cZZAMDPdOU",
        "outputId": "e23a3fbe-a048-422c-c078-6708f1e02a45"
      },
      "execution_count": 212,
      "outputs": [
        {
          "output_type": "execute_result",
          "data": {
            "text/plain": [
              "{'akash': 23, 'rajat': 21, 'mukesh': 24, 'manaav': 22}"
            ]
          },
          "metadata": {},
          "execution_count": 212
        }
      ]
    },
    {
      "cell_type": "code",
      "source": [
        "zip(name,age)"
      ],
      "metadata": {
        "colab": {
          "base_uri": "https://localhost:8080/"
        },
        "id": "gDaSMWjlPqzM",
        "outputId": "9daf33aa-a4db-49be-b7a9-479e076f28b1"
      },
      "execution_count": 213,
      "outputs": [
        {
          "output_type": "execute_result",
          "data": {
            "text/plain": [
              "<zip at 0x7bf978551880>"
            ]
          },
          "metadata": {},
          "execution_count": 213
        }
      ]
    },
    {
      "cell_type": "code",
      "source": [
        "list(zip(name,age))"
      ],
      "metadata": {
        "colab": {
          "base_uri": "https://localhost:8080/"
        },
        "id": "39toGVa_Pysl",
        "outputId": "fba7fab7-8fb3-40a6-b8aa-b7e15f39d7a3"
      },
      "execution_count": 214,
      "outputs": [
        {
          "output_type": "execute_result",
          "data": {
            "text/plain": [
              "[('akash', 23), ('rajat', 21), ('mukesh', 24), ('manaav', 22)]"
            ]
          },
          "metadata": {},
          "execution_count": 214
        }
      ]
    },
    {
      "cell_type": "code",
      "source": [
        "# if\n",
        "# elif\n",
        "# elif\n",
        "# else"
      ],
      "metadata": {
        "id": "2QPcHVMNP9cP"
      },
      "execution_count": 216,
      "outputs": []
    },
    {
      "cell_type": "code",
      "source": [
        "age = eval(input('Enter Your age: '))\n",
        "if age>=18 and age<=80:\n",
        "  print('You can cast the vote')\n",
        "elif age>80:\n",
        "  print('Invalid age')\n",
        "else:\n",
        "  print('Sorry')"
      ],
      "metadata": {
        "colab": {
          "base_uri": "https://localhost:8080/"
        },
        "id": "Mw7sXHb1Q8lU",
        "outputId": "1cf3d8c5-7847-4e41-823a-fc27895ded99"
      },
      "execution_count": 217,
      "outputs": [
        {
          "output_type": "stream",
          "name": "stdout",
          "text": [
            "Enter Your age: 18\n",
            "You can cast the vote\n"
          ]
        }
      ]
    },
    {
      "cell_type": "code",
      "source": [
        "today = input('Enter the day: ')\n",
        "if today=='sat':\n",
        "  print('Half Day')\n",
        "elif today == 'sun':\n",
        "  print('Lets party')\n",
        "elif today == 'mon':\n",
        "  print('WFH')\n",
        "else:\n",
        "  print('9-5')"
      ],
      "metadata": {
        "colab": {
          "base_uri": "https://localhost:8080/"
        },
        "id": "6k77KgScRRnW",
        "outputId": "6e60e2be-bbe1-4cec-93fc-d60a81215fc7"
      },
      "execution_count": 218,
      "outputs": [
        {
          "output_type": "stream",
          "name": "stdout",
          "text": [
            "Enter the day: sun\n",
            "Lets party\n"
          ]
        }
      ]
    },
    {
      "cell_type": "code",
      "source": [
        "# Nested\n",
        "today = input('Enter the day: ')\n",
        "if today=='sat':\n",
        "  print('Half Day')\n",
        "elif today == 'sun':\n",
        "  hlt = input('HOw is your Health ?')\n",
        "  if hlt == 'good':\n",
        "    print('Lets party')\n",
        "  else:\n",
        "    print('Take Rest')\n",
        "elif today == 'mon':\n",
        "  print('WFH')\n",
        "else:\n",
        "  print('9-5')"
      ],
      "metadata": {
        "colab": {
          "base_uri": "https://localhost:8080/"
        },
        "id": "e-8ANrkISc0X",
        "outputId": "0af84283-06e6-4a91-abab-5a60c6f4560f"
      },
      "execution_count": 220,
      "outputs": [
        {
          "output_type": "stream",
          "name": "stdout",
          "text": [
            "Enter the day: sun\n",
            "HOw is your Health ?bad\n",
            "Take Rest\n"
          ]
        }
      ]
    },
    {
      "cell_type": "code",
      "source": [
        "# 1. Iteration\n",
        "# 2. range"
      ],
      "metadata": {
        "id": "1Xx7FbgMTJ9H"
      },
      "execution_count": 221,
      "outputs": []
    },
    {
      "cell_type": "code",
      "source": [
        "a = ['akash','rohit','rajat','neha']\n",
        "for i in a:\n",
        "  print('Hello world')\n",
        "  print(i)"
      ],
      "metadata": {
        "colab": {
          "base_uri": "https://localhost:8080/"
        },
        "id": "6SQRz-fOTnAu",
        "outputId": "18918d95-f217-43bb-a449-fad63af069b7"
      },
      "execution_count": 222,
      "outputs": [
        {
          "output_type": "stream",
          "name": "stdout",
          "text": [
            "Hello world\n",
            "akash\n",
            "Hello world\n",
            "rohit\n",
            "Hello world\n",
            "rajat\n",
            "Hello world\n",
            "neha\n"
          ]
        }
      ]
    },
    {
      "cell_type": "code",
      "source": [
        "a = ['akash',23,56,100,'rohit',23,'rajat',90,'neha']\n",
        "for i in a:\n",
        "  if type(i) == int:\n",
        "    print(i)"
      ],
      "metadata": {
        "colab": {
          "base_uri": "https://localhost:8080/"
        },
        "id": "vkYH5kfkT82C",
        "outputId": "733712ce-01ae-4b14-a771-95ce4a6d0973"
      },
      "execution_count": 223,
      "outputs": [
        {
          "output_type": "stream",
          "name": "stdout",
          "text": [
            "23\n",
            "56\n",
            "100\n",
            "23\n",
            "90\n"
          ]
        }
      ]
    },
    {
      "cell_type": "code",
      "source": [
        "for i in a:\n",
        "  print(i)\n",
        "  if i == 'rohit':\n",
        "    break"
      ],
      "metadata": {
        "colab": {
          "base_uri": "https://localhost:8080/"
        },
        "id": "5iwbx_4FVEUT",
        "outputId": "bdafc4c5-128b-4979-de0d-78f5f840c945"
      },
      "execution_count": 224,
      "outputs": [
        {
          "output_type": "stream",
          "name": "stdout",
          "text": [
            "akash\n",
            "23\n",
            "56\n",
            "100\n",
            "rohit\n"
          ]
        }
      ]
    },
    {
      "cell_type": "code",
      "source": [
        "for i in a:\n",
        "  if i == 'rohit':\n",
        "    continue\n",
        "  print(i)"
      ],
      "metadata": {
        "colab": {
          "base_uri": "https://localhost:8080/"
        },
        "id": "T3hAXlX4VdA5",
        "outputId": "778f0302-dba9-47db-8977-1806103d1132"
      },
      "execution_count": 225,
      "outputs": [
        {
          "output_type": "stream",
          "name": "stdout",
          "text": [
            "akash\n",
            "23\n",
            "56\n",
            "100\n",
            "23\n",
            "rajat\n",
            "90\n",
            "neha\n"
          ]
        }
      ]
    },
    {
      "cell_type": "code",
      "source": [
        "a"
      ],
      "metadata": {
        "colab": {
          "base_uri": "https://localhost:8080/"
        },
        "id": "kh_PaMh2VthR",
        "outputId": "27cf38ec-4786-4057-dc28-94bdaaca51b4"
      },
      "execution_count": 226,
      "outputs": [
        {
          "output_type": "execute_result",
          "data": {
            "text/plain": [
              "['akash', 23, 56, 100, 'rohit', 23, 'rajat', 90, 'neha']"
            ]
          },
          "metadata": {},
          "execution_count": 226
        }
      ]
    },
    {
      "cell_type": "code",
      "source": [
        "# Print the pattern in below.\n",
        "'''\n",
        "*\n",
        "* *\n",
        "* * *\n",
        "* * * *\n",
        "* * * * *\n",
        "'''"
      ],
      "metadata": {
        "id": "dY7hslJWVuq0",
        "colab": {
          "base_uri": "https://localhost:8080/",
          "height": 36
        },
        "outputId": "e0578be4-3ca2-4e0a-a2ee-5830bd1941fc"
      },
      "execution_count": 229,
      "outputs": [
        {
          "output_type": "execute_result",
          "data": {
            "text/plain": [
              "'\\n*\\n* *\\n* * *\\n* * * *\\n* * * * *\\n'"
            ],
            "application/vnd.google.colaboratory.intrinsic+json": {
              "type": "string"
            }
          },
          "metadata": {},
          "execution_count": 229
        }
      ]
    },
    {
      "cell_type": "code",
      "source": [
        "if 1:\n",
        "  print('Two')"
      ],
      "metadata": {
        "colab": {
          "base_uri": "https://localhost:8080/"
        },
        "id": "rb7XkYTuXVtv",
        "outputId": "1469862d-79bd-41fd-d4de-7463c23288b0"
      },
      "execution_count": 230,
      "outputs": [
        {
          "output_type": "stream",
          "name": "stdout",
          "text": [
            "Two\n"
          ]
        }
      ]
    },
    {
      "cell_type": "code",
      "source": [
        "if {}:\n",
        "  print('Hii')"
      ],
      "metadata": {
        "id": "y7EuHuRzXfY0"
      },
      "execution_count": 231,
      "outputs": []
    },
    {
      "cell_type": "code",
      "source": [
        "x = 0\n",
        "while x<=10:\n",
        "  print(x)\n",
        "  x += 1"
      ],
      "metadata": {
        "colab": {
          "base_uri": "https://localhost:8080/"
        },
        "id": "CGgjd4JDXx1S",
        "outputId": "0b83b0b3-0c90-4623-8c6b-2393f739a8fa"
      },
      "execution_count": 232,
      "outputs": [
        {
          "output_type": "stream",
          "name": "stdout",
          "text": [
            "0\n",
            "1\n",
            "2\n",
            "3\n",
            "4\n",
            "5\n",
            "6\n",
            "7\n",
            "8\n",
            "9\n",
            "10\n"
          ]
        }
      ]
    },
    {
      "cell_type": "code",
      "source": [
        "# Function:\n",
        "# 1. Built-in\n",
        "# 2. UDF\n",
        "'''\n",
        "      1. Based on i/p and o/p\n",
        "      2. Mixed\n",
        "          1. taking multiple i/p\n",
        "          2. Returning multiple o/p\n",
        "          3. Default Values\n",
        "          4. Keyword Argument\n",
        "          5. * args # tuple\n",
        "          6. ** kwargs # dict\n",
        "Define , call\n",
        "'''"
      ],
      "metadata": {
        "id": "g1xMsoRMYJHo",
        "colab": {
          "base_uri": "https://localhost:8080/",
          "height": 53
        },
        "outputId": "39fa04ed-2af6-403c-c829-376881c5e11f"
      },
      "execution_count": 234,
      "outputs": [
        {
          "output_type": "execute_result",
          "data": {
            "text/plain": [
              "'\\n      1. Based on i/p and o/p\\n      2. Mixed\\n          1. taking multiple i/p\\n          2. Returning multiple o/p\\n          3. Default Values\\n          4. Keyword Argument\\n          5. * args # tuple\\n          6. ** kwargs # dict\\nDefine , call\\n'"
            ],
            "application/vnd.google.colaboratory.intrinsic+json": {
              "type": "string"
            }
          },
          "metadata": {},
          "execution_count": 234
        }
      ]
    },
    {
      "cell_type": "code",
      "source": [
        "def my_fun(x,y,z):\n",
        "  return o/p"
      ],
      "metadata": {
        "id": "gKTJh6g6aGmo"
      },
      "execution_count": 235,
      "outputs": []
    },
    {
      "cell_type": "code",
      "source": [
        "def first():\n",
        "  print('Hello')"
      ],
      "metadata": {
        "id": "ULDZSXz_aX86"
      },
      "execution_count": 236,
      "outputs": []
    },
    {
      "cell_type": "code",
      "source": [
        "first()"
      ],
      "metadata": {
        "colab": {
          "base_uri": "https://localhost:8080/"
        },
        "id": "qUzo5rfuagOw",
        "outputId": "f838c72d-afae-46de-c52a-080bbedd36a9"
      },
      "execution_count": 237,
      "outputs": [
        {
          "output_type": "stream",
          "name": "stdout",
          "text": [
            "Hello\n"
          ]
        }
      ]
    },
    {
      "cell_type": "code",
      "source": [
        "a = first()\n",
        "print(a)"
      ],
      "metadata": {
        "colab": {
          "base_uri": "https://localhost:8080/"
        },
        "id": "Iq6PUjaXajYW",
        "outputId": "2c48ba4c-6ef4-45f4-c101-4cf8bb0a5c13"
      },
      "execution_count": 238,
      "outputs": [
        {
          "output_type": "stream",
          "name": "stdout",
          "text": [
            "Hello\n",
            "None\n"
          ]
        }
      ]
    },
    {
      "cell_type": "code",
      "source": [
        "def first():\n",
        "  return ('Hello')"
      ],
      "metadata": {
        "id": "_ggqoV5bas_R"
      },
      "execution_count": 239,
      "outputs": []
    },
    {
      "cell_type": "code",
      "source": [
        "b = first()\n",
        "print(b)"
      ],
      "metadata": {
        "colab": {
          "base_uri": "https://localhost:8080/"
        },
        "id": "jbIfGkrja1NP",
        "outputId": "09d9de97-fae3-4ed5-c5f8-4b3d99fed6f3"
      },
      "execution_count": 240,
      "outputs": [
        {
          "output_type": "stream",
          "name": "stdout",
          "text": [
            "Hello\n"
          ]
        }
      ]
    },
    {
      "cell_type": "code",
      "source": [
        "'''\n",
        "def second(x,y=1,z):\n",
        "  return x*y, x+y+z, z-x\n",
        "'''"
      ],
      "metadata": {
        "colab": {
          "base_uri": "https://localhost:8080/",
          "height": 36
        },
        "id": "-IJoGjSwa4eh",
        "outputId": "ac5b9305-c8df-4900-d46e-51b878c16e28"
      },
      "execution_count": 244,
      "outputs": [
        {
          "output_type": "execute_result",
          "data": {
            "text/plain": [
              "'\\ndef second(x,y=1,z):\\n  return x*y, x+y+z, z-x\\n'"
            ],
            "application/vnd.google.colaboratory.intrinsic+json": {
              "type": "string"
            }
          },
          "metadata": {},
          "execution_count": 244
        }
      ]
    },
    {
      "cell_type": "code",
      "source": [
        "def second(x,y,z):\n",
        "  return x*y, x+y+z, z-x"
      ],
      "metadata": {
        "id": "1DnUrHGtTIVv"
      },
      "execution_count": 246,
      "outputs": []
    },
    {
      "cell_type": "code",
      "source": [
        "second(3,6,4)"
      ],
      "metadata": {
        "colab": {
          "base_uri": "https://localhost:8080/"
        },
        "id": "qXgeZaqpbOVF",
        "outputId": "d5615208-9cb0-4c2e-8a7b-2369c3d958f3"
      },
      "execution_count": 247,
      "outputs": [
        {
          "output_type": "execute_result",
          "data": {
            "text/plain": [
              "(18, 13, 1)"
            ]
          },
          "metadata": {},
          "execution_count": 247
        }
      ]
    },
    {
      "cell_type": "code",
      "source": [
        "second(z=3,x=6,y=4)"
      ],
      "metadata": {
        "colab": {
          "base_uri": "https://localhost:8080/"
        },
        "id": "aQzk3DjLbPqD",
        "outputId": "2fd8124a-725f-49f5-ca4f-9d7e2431a5e8"
      },
      "execution_count": 248,
      "outputs": [
        {
          "output_type": "execute_result",
          "data": {
            "text/plain": [
              "(24, 13, -3)"
            ]
          },
          "metadata": {},
          "execution_count": 248
        }
      ]
    },
    {
      "cell_type": "code",
      "source": [
        "x,y,z = second(5,6,8)"
      ],
      "metadata": {
        "id": "qo-8CfFdblVd"
      },
      "execution_count": 249,
      "outputs": []
    },
    {
      "cell_type": "code",
      "source": [
        "x"
      ],
      "metadata": {
        "colab": {
          "base_uri": "https://localhost:8080/"
        },
        "id": "0QVUte3KbyCT",
        "outputId": "5aaebe34-2a25-47fe-a93a-701a1a29f9d1"
      },
      "execution_count": 250,
      "outputs": [
        {
          "output_type": "execute_result",
          "data": {
            "text/plain": [
              "30"
            ]
          },
          "metadata": {},
          "execution_count": 250
        }
      ]
    },
    {
      "cell_type": "code",
      "source": [
        "y"
      ],
      "metadata": {
        "colab": {
          "base_uri": "https://localhost:8080/"
        },
        "id": "aJpK0O5Ick6G",
        "outputId": "d63953b8-9b57-4fda-c487-eaa768ea833d"
      },
      "execution_count": 251,
      "outputs": [
        {
          "output_type": "execute_result",
          "data": {
            "text/plain": [
              "19"
            ]
          },
          "metadata": {},
          "execution_count": 251
        }
      ]
    },
    {
      "cell_type": "code",
      "source": [
        "z"
      ],
      "metadata": {
        "colab": {
          "base_uri": "https://localhost:8080/"
        },
        "id": "JMdUu5ulclvT",
        "outputId": "aa6e5330-3a5e-4a2c-aef7-87d84cdac71b"
      },
      "execution_count": 252,
      "outputs": [
        {
          "output_type": "execute_result",
          "data": {
            "text/plain": [
              "3"
            ]
          },
          "metadata": {},
          "execution_count": 252
        }
      ]
    },
    {
      "cell_type": "code",
      "source": [
        "# *args\n",
        "def third(*x):\n",
        "  return x\n",
        "\n",
        "print(third())\n",
        "print(third(3))\n",
        "print(third(2,65,22))"
      ],
      "metadata": {
        "colab": {
          "base_uri": "https://localhost:8080/"
        },
        "id": "0I0JsbEXcmF3",
        "outputId": "a61443ac-64b8-4487-baab-3eba8530f6da"
      },
      "execution_count": 260,
      "outputs": [
        {
          "output_type": "stream",
          "name": "stdout",
          "text": [
            "()\n",
            "(3,)\n",
            "(2, 65, 22)\n"
          ]
        }
      ]
    },
    {
      "cell_type": "code",
      "source": [
        "d = (9,)"
      ],
      "metadata": {
        "id": "L-kq060Kc7P3"
      },
      "execution_count": 254,
      "outputs": []
    },
    {
      "cell_type": "code",
      "source": [
        "type(d)"
      ],
      "metadata": {
        "colab": {
          "base_uri": "https://localhost:8080/"
        },
        "id": "4cHdm1KodKLn",
        "outputId": "11591742-c68f-421b-9488-dec104a7d2d5"
      },
      "execution_count": 255,
      "outputs": [
        {
          "output_type": "execute_result",
          "data": {
            "text/plain": [
              "tuple"
            ]
          },
          "metadata": {},
          "execution_count": 255
        }
      ]
    },
    {
      "cell_type": "code",
      "source": [
        "s =8,7,4,5"
      ],
      "metadata": {
        "id": "YMkwgDE5dL5d"
      },
      "execution_count": 256,
      "outputs": []
    },
    {
      "cell_type": "code",
      "source": [
        "type(s)"
      ],
      "metadata": {
        "colab": {
          "base_uri": "https://localhost:8080/"
        },
        "id": "NLzjJvzbdTmP",
        "outputId": "504c2b39-ebd5-45ae-bb02-ca7f4349ec2f"
      },
      "execution_count": 257,
      "outputs": [
        {
          "output_type": "execute_result",
          "data": {
            "text/plain": [
              "tuple"
            ]
          },
          "metadata": {},
          "execution_count": 257
        }
      ]
    },
    {
      "cell_type": "code",
      "source": [
        "# *kwargs\n",
        "def fourth(**x):\n",
        "  return x\n",
        "\n",
        "print(fourth())\n",
        "print(fourth(x='akash',y=56))"
      ],
      "metadata": {
        "colab": {
          "base_uri": "https://localhost:8080/"
        },
        "id": "wBpDgQiJdUt4",
        "outputId": "ad45084a-e873-44d9-83c8-32c7ec0bef7a"
      },
      "execution_count": 261,
      "outputs": [
        {
          "output_type": "stream",
          "name": "stdout",
          "text": [
            "{}\n",
            "{'x': 'akash', 'y': 56}\n"
          ]
        }
      ]
    },
    {
      "cell_type": "code",
      "source": [
        "s1 = {2,6,7}\n",
        "s1.clear()"
      ],
      "metadata": {
        "id": "CDrWEFmddnE1"
      },
      "execution_count": 262,
      "outputs": []
    },
    {
      "cell_type": "code",
      "source": [
        "s1"
      ],
      "metadata": {
        "colab": {
          "base_uri": "https://localhost:8080/"
        },
        "id": "hDb34h5yd054",
        "outputId": "a04cbd7d-cac6-41af-d45c-ad9eded0572b"
      },
      "execution_count": 263,
      "outputs": [
        {
          "output_type": "execute_result",
          "data": {
            "text/plain": [
              "set()"
            ]
          },
          "metadata": {},
          "execution_count": 263
        }
      ]
    },
    {
      "cell_type": "code",
      "source": [
        "# Write a function which gives the following output based on the following input.\n",
        "'''\n",
        "i/p='hello'\n",
        "o/p = hElLo\n",
        "'''"
      ],
      "metadata": {
        "id": "SD_1gXe0d2Ck",
        "colab": {
          "base_uri": "https://localhost:8080/",
          "height": 36
        },
        "outputId": "c8588329-615d-4cb2-d070-2b7174a463db"
      },
      "execution_count": 265,
      "outputs": [
        {
          "output_type": "execute_result",
          "data": {
            "text/plain": [
              "\"\\ni/p='hello'\\no/p = hElLo\\n\""
            ],
            "application/vnd.google.colaboratory.intrinsic+json": {
              "type": "string"
            }
          },
          "metadata": {},
          "execution_count": 265
        }
      ]
    },
    {
      "cell_type": "code",
      "source": [
        "def alt(a):\n",
        "    a=list(a)\n",
        "    for i in range(1,len(a),2):\n",
        "        a[i]=a[i].upper()\n",
        "    str1=\"\"\n",
        "    a=str1.join(a)\n",
        "    return a\n",
        "\n",
        "\n",
        "print(alt('hello'))"
      ],
      "metadata": {
        "colab": {
          "base_uri": "https://localhost:8080/"
        },
        "id": "RxPqF4yjfw0G",
        "outputId": "d0fb13fd-97ba-485d-8fa6-dfdfb5926d94"
      },
      "execution_count": 266,
      "outputs": [
        {
          "output_type": "stream",
          "name": "stdout",
          "text": [
            "hElLo\n"
          ]
        }
      ]
    },
    {
      "cell_type": "code",
      "source": [
        "# PIP"
      ],
      "metadata": {
        "id": "UQiAbZISfxYu"
      },
      "execution_count": 268,
      "outputs": []
    }
  ]
}