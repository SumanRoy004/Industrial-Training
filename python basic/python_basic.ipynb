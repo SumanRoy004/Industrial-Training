{
  "nbformat": 4,
  "nbformat_minor": 0,
  "metadata": {
    "colab": {
      "provenance": [],
      "include_colab_link": true
    },
    "kernelspec": {
      "name": "python3",
      "display_name": "Python 3"
    },
    "language_info": {
      "name": "python"
    }
  },
  "cells": [
    {
      "cell_type": "markdown",
      "metadata": {
        "id": "view-in-github",
        "colab_type": "text"
      },
      "source": [
        "<a href=\"https://colab.research.google.com/github/SumanRoy004/only-for-uploading-colab-file/blob/main/python_basic.ipynb\" target=\"_parent\"><img src=\"https://colab.research.google.com/assets/colab-badge.svg\" alt=\"Open In Colab\"/></a>"
      ]
    },
    {
      "cell_type": "code",
      "execution_count": 1,
      "metadata": {
        "colab": {
          "base_uri": "https://localhost:8080/"
        },
        "id": "5B28ekdyK3WV",
        "outputId": "3df1fb94-2c32-4275-b439-c2b3e8f14bbe"
      },
      "outputs": [
        {
          "output_type": "execute_result",
          "data": {
            "text/plain": [
              "9"
            ]
          },
          "metadata": {},
          "execution_count": 1
        }
      ],
      "source": [
        "4+5"
      ]
    },
    {
      "cell_type": "code",
      "source": [
        "print('Hello World')"
      ],
      "metadata": {
        "colab": {
          "base_uri": "https://localhost:8080/"
        },
        "id": "I_1ctI30MgOy",
        "outputId": "07ca6c77-bf69-43b4-b4f4-c2db89b23605"
      },
      "execution_count": 2,
      "outputs": [
        {
          "output_type": "stream",
          "name": "stdout",
          "text": [
            "Hello World\n"
          ]
        }
      ]
    },
    {
      "cell_type": "code",
      "source": [
        "a = 'Aman'\n",
        "b = 90"
      ],
      "metadata": {
        "id": "O5tS8BO6Ms4m"
      },
      "execution_count": 3,
      "outputs": []
    },
    {
      "cell_type": "code",
      "source": [
        "print(a)"
      ],
      "metadata": {
        "colab": {
          "base_uri": "https://localhost:8080/"
        },
        "id": "fzrGZKWsM7_B",
        "outputId": "a99063b7-5d5b-4066-ac28-8dd396c09189"
      },
      "execution_count": 4,
      "outputs": [
        {
          "output_type": "stream",
          "name": "stdout",
          "text": [
            "Aman\n"
          ]
        }
      ]
    },
    {
      "cell_type": "code",
      "source": [
        "print(b)"
      ],
      "metadata": {
        "colab": {
          "base_uri": "https://localhost:8080/"
        },
        "id": "SjApzfK1NA-5",
        "outputId": "f76e1c17-d5cf-4119-a554-6b39468f72fc"
      },
      "execution_count": 5,
      "outputs": [
        {
          "output_type": "stream",
          "name": "stdout",
          "text": [
            "90\n"
          ]
        }
      ]
    },
    {
      "cell_type": "code",
      "source": [
        "print(a,b)"
      ],
      "metadata": {
        "colab": {
          "base_uri": "https://localhost:8080/"
        },
        "id": "j6FhcQFhNCuO",
        "outputId": "4aaa6633-9f0f-46ff-e0f0-352682e44b53"
      },
      "execution_count": 6,
      "outputs": [
        {
          "output_type": "stream",
          "name": "stdout",
          "text": [
            "Aman 90\n"
          ]
        }
      ]
    },
    {
      "cell_type": "code",
      "source": [
        "print(a,b,sep='     ')"
      ],
      "metadata": {
        "colab": {
          "base_uri": "https://localhost:8080/"
        },
        "id": "twY6h_u-NFO-",
        "outputId": "ee955c8a-00dc-4196-852c-9c1751da2da3"
      },
      "execution_count": 7,
      "outputs": [
        {
          "output_type": "stream",
          "name": "stdout",
          "text": [
            "Aman     90\n"
          ]
        }
      ]
    },
    {
      "cell_type": "code",
      "source": [
        "print('Hii my name is',a,'My roll no is',b)"
      ],
      "metadata": {
        "colab": {
          "base_uri": "https://localhost:8080/"
        },
        "id": "3FFb6QsqNoLk",
        "outputId": "fe2ceac5-3e57-4ef8-f089-d044a7fac33c"
      },
      "execution_count": 8,
      "outputs": [
        {
          "output_type": "stream",
          "name": "stdout",
          "text": [
            "Hii my name is Aman My roll no is 90\n"
          ]
        }
      ]
    },
    {
      "cell_type": "code",
      "source": [
        "print(5*8)"
      ],
      "metadata": {
        "colab": {
          "base_uri": "https://localhost:8080/"
        },
        "id": "cFdJ5YbJOKwl",
        "outputId": "bbc9df30-966c-4095-ae00-29fece8ca167"
      },
      "execution_count": 9,
      "outputs": [
        {
          "output_type": "stream",
          "name": "stdout",
          "text": [
            "40\n"
          ]
        }
      ]
    },
    {
      "cell_type": "code",
      "source": [
        "print(2**3)"
      ],
      "metadata": {
        "colab": {
          "base_uri": "https://localhost:8080/"
        },
        "id": "pfLCA_57OXPp",
        "outputId": "4771dc3c-3151-43d9-ec8b-39bb5656b3b5"
      },
      "execution_count": 10,
      "outputs": [
        {
          "output_type": "stream",
          "name": "stdout",
          "text": [
            "8\n"
          ]
        }
      ]
    },
    {
      "cell_type": "code",
      "source": [
        "print(10/3)"
      ],
      "metadata": {
        "colab": {
          "base_uri": "https://localhost:8080/"
        },
        "id": "9L5zvKLzObr7",
        "outputId": "c874de63-193a-4042-fee9-0f2b67e5033f"
      },
      "execution_count": 11,
      "outputs": [
        {
          "output_type": "stream",
          "name": "stdout",
          "text": [
            "3.3333333333333335\n"
          ]
        }
      ]
    },
    {
      "cell_type": "code",
      "source": [
        "print(10//3)"
      ],
      "metadata": {
        "colab": {
          "base_uri": "https://localhost:8080/"
        },
        "id": "LpGy9b0tOeS4",
        "outputId": "f7244555-8da6-4721-b7e2-5c8a84138c11"
      },
      "execution_count": 12,
      "outputs": [
        {
          "output_type": "stream",
          "name": "stdout",
          "text": [
            "3\n"
          ]
        }
      ]
    },
    {
      "cell_type": "code",
      "source": [
        "print('Aman '*10)"
      ],
      "metadata": {
        "colab": {
          "base_uri": "https://localhost:8080/"
        },
        "id": "HmmYT5xnOiSr",
        "outputId": "4abce30c-e74b-47a5-afd0-2bad7a8a2b75"
      },
      "execution_count": 13,
      "outputs": [
        {
          "output_type": "stream",
          "name": "stdout",
          "text": [
            "Aman Aman Aman Aman Aman Aman Aman Aman Aman Aman \n"
          ]
        }
      ]
    },
    {
      "cell_type": "code",
      "source": [
        "# Operator\n",
        "'''\n",
        "1. Arithmatic     +,-,*,/,**,//,%\n",
        "2. Relational     >,>=,<,<=,==,!=\n",
        "3. Logical        and, or, not\n",
        "4. Bitwise        &, ^, ~\n",
        "5. Assignment     =,  += ,-= ,*= ,/= ,**= ,//= ,%=\n",
        "6. Membership     in, not in\n",
        "7. Identity       is, is not\n",
        "'''"
      ],
      "metadata": {
        "id": "N996ecEqPSn6",
        "colab": {
          "base_uri": "https://localhost:8080/",
          "height": 53
        },
        "outputId": "e690b0bb-66ea-47fd-93e4-fbfccd4ec3cc"
      },
      "execution_count": 14,
      "outputs": [
        {
          "output_type": "execute_result",
          "data": {
            "text/plain": [
              "'\\n1. Arithmatic     +,-,*,/,**,//,%\\n2. Relational     >,>=,<,<=,==,!=\\n3. Logical        and, or, not\\n4. Bitwise        &, ^, ~\\n5. Assignment     =,  += ,-= ,*= ,/= ,**= ,//= ,%=\\n6. Membership     in, not in\\n7. Identity       is, is not\\n'"
            ],
            "application/vnd.google.colaboratory.intrinsic+json": {
              "type": "string"
            }
          },
          "metadata": {},
          "execution_count": 14
        }
      ]
    },
    {
      "cell_type": "code",
      "source": [
        "45 > 34"
      ],
      "metadata": {
        "colab": {
          "base_uri": "https://localhost:8080/"
        },
        "id": "WNcfsho7QbAT",
        "outputId": "cb48764d-16ba-4c15-faf8-339cdabb5f58"
      },
      "execution_count": 15,
      "outputs": [
        {
          "output_type": "execute_result",
          "data": {
            "text/plain": [
              "True"
            ]
          },
          "metadata": {},
          "execution_count": 15
        }
      ]
    },
    {
      "cell_type": "code",
      "source": [
        "45< 34"
      ],
      "metadata": {
        "colab": {
          "base_uri": "https://localhost:8080/"
        },
        "id": "e9cnYHqCQeXD",
        "outputId": "e0c9e5a8-ba2d-408f-a482-0c3c1db097e2"
      },
      "execution_count": 16,
      "outputs": [
        {
          "output_type": "execute_result",
          "data": {
            "text/plain": [
              "False"
            ]
          },
          "metadata": {},
          "execution_count": 16
        }
      ]
    },
    {
      "cell_type": "code",
      "source": [
        "23 == 23"
      ],
      "metadata": {
        "colab": {
          "base_uri": "https://localhost:8080/"
        },
        "id": "dFB3QIVMQhWD",
        "outputId": "67d9788a-253d-46a2-82c6-53fdafdfb4e0"
      },
      "execution_count": 17,
      "outputs": [
        {
          "output_type": "execute_result",
          "data": {
            "text/plain": [
              "True"
            ]
          },
          "metadata": {},
          "execution_count": 17
        }
      ]
    },
    {
      "cell_type": "code",
      "source": [
        "23 == 21"
      ],
      "metadata": {
        "colab": {
          "base_uri": "https://localhost:8080/"
        },
        "id": "70Z5BlXqQldC",
        "outputId": "3fc01b22-afee-444e-990c-6c3af902c830"
      },
      "execution_count": 18,
      "outputs": [
        {
          "output_type": "execute_result",
          "data": {
            "text/plain": [
              "False"
            ]
          },
          "metadata": {},
          "execution_count": 18
        }
      ]
    },
    {
      "cell_type": "code",
      "source": [
        "12 != 12"
      ],
      "metadata": {
        "colab": {
          "base_uri": "https://localhost:8080/"
        },
        "id": "m9A5YLYuQnu7",
        "outputId": "13993651-5f48-47d4-9270-59d3405c4ecd"
      },
      "execution_count": 19,
      "outputs": [
        {
          "output_type": "execute_result",
          "data": {
            "text/plain": [
              "False"
            ]
          },
          "metadata": {},
          "execution_count": 19
        }
      ]
    },
    {
      "cell_type": "code",
      "source": [
        "'A' in 'Aman'"
      ],
      "metadata": {
        "colab": {
          "base_uri": "https://localhost:8080/"
        },
        "id": "2TRkyVK0QsQx",
        "outputId": "0e264067-d3ad-42f8-c0f8-aa8ee718dea5"
      },
      "execution_count": 20,
      "outputs": [
        {
          "output_type": "execute_result",
          "data": {
            "text/plain": [
              "True"
            ]
          },
          "metadata": {},
          "execution_count": 20
        }
      ]
    },
    {
      "cell_type": "code",
      "source": [
        "56 not in [34,77,45,89]"
      ],
      "metadata": {
        "colab": {
          "base_uri": "https://localhost:8080/"
        },
        "id": "ERkDavRkRBXU",
        "outputId": "87f6c9f2-1804-4f58-c769-754863089737"
      },
      "execution_count": 21,
      "outputs": [
        {
          "output_type": "execute_result",
          "data": {
            "text/plain": [
              "True"
            ]
          },
          "metadata": {},
          "execution_count": 21
        }
      ]
    },
    {
      "cell_type": "code",
      "source": [
        "id(a)"
      ],
      "metadata": {
        "colab": {
          "base_uri": "https://localhost:8080/"
        },
        "id": "IYcJwheKRKO6",
        "outputId": "6cfc2975-4978-44ff-dce4-289b86546dc6"
      },
      "execution_count": 22,
      "outputs": [
        {
          "output_type": "execute_result",
          "data": {
            "text/plain": [
              "133996140669104"
            ]
          },
          "metadata": {},
          "execution_count": 22
        }
      ]
    },
    {
      "cell_type": "code",
      "source": [
        "id(b)"
      ],
      "metadata": {
        "colab": {
          "base_uri": "https://localhost:8080/"
        },
        "id": "5v9r5mAfRiZ8",
        "outputId": "2702875a-06a7-4039-f212-2aa771d9b611"
      },
      "execution_count": 23,
      "outputs": [
        {
          "output_type": "execute_result",
          "data": {
            "text/plain": [
              "133996438506512"
            ]
          },
          "metadata": {},
          "execution_count": 23
        }
      ]
    },
    {
      "cell_type": "code",
      "source": [
        "a is b"
      ],
      "metadata": {
        "colab": {
          "base_uri": "https://localhost:8080/"
        },
        "id": "YOYrcu5pRjx1",
        "outputId": "9fb2cd5b-9118-4b5e-d442-d816a7d62088"
      },
      "execution_count": 24,
      "outputs": [
        {
          "output_type": "execute_result",
          "data": {
            "text/plain": [
              "False"
            ]
          },
          "metadata": {},
          "execution_count": 24
        }
      ]
    },
    {
      "cell_type": "code",
      "source": [
        "c = a"
      ],
      "metadata": {
        "id": "nemvn3CZRs0M"
      },
      "execution_count": 25,
      "outputs": []
    },
    {
      "cell_type": "code",
      "source": [
        "c"
      ],
      "metadata": {
        "colab": {
          "base_uri": "https://localhost:8080/",
          "height": 36
        },
        "id": "45Fgb7tlRxRk",
        "outputId": "5595399b-1173-465d-9a45-212ca09546d2"
      },
      "execution_count": 26,
      "outputs": [
        {
          "output_type": "execute_result",
          "data": {
            "text/plain": [
              "'Aman'"
            ],
            "application/vnd.google.colaboratory.intrinsic+json": {
              "type": "string"
            }
          },
          "metadata": {},
          "execution_count": 26
        }
      ]
    },
    {
      "cell_type": "code",
      "source": [
        "id(c)"
      ],
      "metadata": {
        "colab": {
          "base_uri": "https://localhost:8080/"
        },
        "id": "7ZKj7C4lRx_5",
        "outputId": "2850e62f-fff1-4968-9c4c-74db9d3abe25"
      },
      "execution_count": 27,
      "outputs": [
        {
          "output_type": "execute_result",
          "data": {
            "text/plain": [
              "133996140669104"
            ]
          },
          "metadata": {},
          "execution_count": 27
        }
      ]
    },
    {
      "cell_type": "code",
      "source": [
        "a is c"
      ],
      "metadata": {
        "colab": {
          "base_uri": "https://localhost:8080/"
        },
        "id": "hcDX0hOyR0_r",
        "outputId": "b0b7c09e-2603-409f-cd42-3365de5e91c2"
      },
      "execution_count": 28,
      "outputs": [
        {
          "output_type": "execute_result",
          "data": {
            "text/plain": [
              "True"
            ]
          },
          "metadata": {},
          "execution_count": 28
        }
      ]
    },
    {
      "cell_type": "code",
      "source": [
        "'''\n",
        "3 --- 0101\n",
        "4 --- 1010\n",
        " -------------\n",
        "      0000----> 0\n",
        "'''"
      ],
      "metadata": {
        "id": "b9Sx652pR5FI",
        "colab": {
          "base_uri": "https://localhost:8080/",
          "height": 36
        },
        "outputId": "32f619e8-d4cd-4064-cf0f-eb4c143f0d1e"
      },
      "execution_count": 29,
      "outputs": [
        {
          "output_type": "execute_result",
          "data": {
            "text/plain": [
              "'\\n3 --- 0101\\n4 --- 1010\\n -------------\\n      0000----> 0\\n'"
            ],
            "application/vnd.google.colaboratory.intrinsic+json": {
              "type": "string"
            }
          },
          "metadata": {},
          "execution_count": 29
        }
      ]
    },
    {
      "cell_type": "code",
      "source": [
        "3 & 4"
      ],
      "metadata": {
        "colab": {
          "base_uri": "https://localhost:8080/"
        },
        "id": "MusOJjLuSNrP",
        "outputId": "6e9ce4fe-40ec-4d78-d6ee-249cb5e25e04"
      },
      "execution_count": 30,
      "outputs": [
        {
          "output_type": "execute_result",
          "data": {
            "text/plain": [
              "0"
            ]
          },
          "metadata": {},
          "execution_count": 30
        }
      ]
    },
    {
      "cell_type": "code",
      "source": [
        "# Data Types\n",
        "'''\n",
        "1. Numeric --- int, float, complex # immutable data type\n",
        "2. Sequence  --- string(str), List(list), Tuple(tuple)\n",
        "3. Mapping ---- Dictionary(dict)\n",
        "4. Set Data Type ---- Set(set)\n",
        "5. Boolean --- True, False\n",
        "'''"
      ],
      "metadata": {
        "id": "_MeWRp-YSPA4",
        "colab": {
          "base_uri": "https://localhost:8080/",
          "height": 53
        },
        "outputId": "67fb1b2d-1c56-4880-b5a5-fa0fcec9ba54"
      },
      "execution_count": 31,
      "outputs": [
        {
          "output_type": "execute_result",
          "data": {
            "text/plain": [
              "'\\n1. Numeric --- int, float, complex # immutable data type\\n2. Sequence  --- string(str), List(list), Tuple(tuple)\\n3. Mapping ---- Dictionary(dict)\\n4. Set Data Type ---- Set(set)\\n5. Boolean --- True, False\\n'"
            ],
            "application/vnd.google.colaboratory.intrinsic+json": {
              "type": "string"
            }
          },
          "metadata": {},
          "execution_count": 31
        }
      ]
    },
    {
      "cell_type": "code",
      "source": [
        "a = 5\n",
        "b = 5.7\n",
        "c = 3+5j"
      ],
      "metadata": {
        "id": "h0FutDHgThm5"
      },
      "execution_count": 32,
      "outputs": []
    },
    {
      "cell_type": "code",
      "source": [
        "type(a)"
      ],
      "metadata": {
        "colab": {
          "base_uri": "https://localhost:8080/"
        },
        "id": "v6qlLa_-Tp-O",
        "outputId": "5a2f1a02-0ce5-45ad-8218-4ad7a04c3a22"
      },
      "execution_count": 33,
      "outputs": [
        {
          "output_type": "execute_result",
          "data": {
            "text/plain": [
              "int"
            ]
          },
          "metadata": {},
          "execution_count": 33
        }
      ]
    },
    {
      "cell_type": "code",
      "source": [
        "type(b)"
      ],
      "metadata": {
        "colab": {
          "base_uri": "https://localhost:8080/"
        },
        "id": "NZW-6is1Tsj_",
        "outputId": "a34617a2-b928-4972-b2bf-33e4972d099b"
      },
      "execution_count": 34,
      "outputs": [
        {
          "output_type": "execute_result",
          "data": {
            "text/plain": [
              "float"
            ]
          },
          "metadata": {},
          "execution_count": 34
        }
      ]
    },
    {
      "cell_type": "code",
      "source": [
        "type(c)"
      ],
      "metadata": {
        "colab": {
          "base_uri": "https://localhost:8080/"
        },
        "id": "057ff91JTwor",
        "outputId": "1d08fce1-53fa-4969-d906-baff499afc4c"
      },
      "execution_count": 35,
      "outputs": [
        {
          "output_type": "execute_result",
          "data": {
            "text/plain": [
              "complex"
            ]
          },
          "metadata": {},
          "execution_count": 35
        }
      ]
    },
    {
      "cell_type": "code",
      "source": [
        "c.real"
      ],
      "metadata": {
        "colab": {
          "base_uri": "https://localhost:8080/"
        },
        "id": "-zUhny6fTx1f",
        "outputId": "bb6e8d49-e5c7-4039-dd86-97cba04fe41a"
      },
      "execution_count": 36,
      "outputs": [
        {
          "output_type": "execute_result",
          "data": {
            "text/plain": [
              "3.0"
            ]
          },
          "metadata": {},
          "execution_count": 36
        }
      ]
    },
    {
      "cell_type": "code",
      "source": [
        "c.imag"
      ],
      "metadata": {
        "colab": {
          "base_uri": "https://localhost:8080/"
        },
        "id": "83eozu8ZT85h",
        "outputId": "c09efa75-d950-4747-a8a8-7a454a0c97fe"
      },
      "execution_count": 37,
      "outputs": [
        {
          "output_type": "execute_result",
          "data": {
            "text/plain": [
              "5.0"
            ]
          },
          "metadata": {},
          "execution_count": 37
        }
      ]
    },
    {
      "cell_type": "code",
      "source": [
        "x = 'Data Science'\n",
        "# String\n",
        "#1. immutable\n",
        "#2. string is enclosed with ''/\"\"/''' '''\n",
        "#3. to access the sub part of a string we use indexing/slicing"
      ],
      "metadata": {
        "id": "UQWpA-PPT_UL"
      },
      "execution_count": 38,
      "outputs": []
    },
    {
      "cell_type": "code",
      "source": [
        "type(x)"
      ],
      "metadata": {
        "colab": {
          "base_uri": "https://localhost:8080/"
        },
        "id": "Ogo8Mq7cUsEW",
        "outputId": "ede049a8-3e9d-4c48-8195-c68d5a26db72"
      },
      "execution_count": 39,
      "outputs": [
        {
          "output_type": "execute_result",
          "data": {
            "text/plain": [
              "str"
            ]
          },
          "metadata": {},
          "execution_count": 39
        }
      ]
    },
    {
      "cell_type": "code",
      "source": [
        "x[0]"
      ],
      "metadata": {
        "colab": {
          "base_uri": "https://localhost:8080/",
          "height": 36
        },
        "id": "9FH_5GA_Us58",
        "outputId": "f1f99bf9-21c6-4dc9-ed9e-d75f2ed457d5"
      },
      "execution_count": 40,
      "outputs": [
        {
          "output_type": "execute_result",
          "data": {
            "text/plain": [
              "'D'"
            ],
            "application/vnd.google.colaboratory.intrinsic+json": {
              "type": "string"
            }
          },
          "metadata": {},
          "execution_count": 40
        }
      ]
    },
    {
      "cell_type": "code",
      "source": [
        "x[-12]"
      ],
      "metadata": {
        "colab": {
          "base_uri": "https://localhost:8080/",
          "height": 36
        },
        "id": "6FimqFiBWHDV",
        "outputId": "d9f2bf0e-47d9-48cd-a8e1-54032f4c051f"
      },
      "execution_count": 41,
      "outputs": [
        {
          "output_type": "execute_result",
          "data": {
            "text/plain": [
              "'D'"
            ],
            "application/vnd.google.colaboratory.intrinsic+json": {
              "type": "string"
            }
          },
          "metadata": {},
          "execution_count": 41
        }
      ]
    },
    {
      "cell_type": "code",
      "source": [
        "x[-1]"
      ],
      "metadata": {
        "colab": {
          "base_uri": "https://localhost:8080/",
          "height": 36
        },
        "id": "rWgCKJ1oWKE2",
        "outputId": "8e7d7112-28ff-4c9a-af13-d6f6759c0df1"
      },
      "execution_count": 42,
      "outputs": [
        {
          "output_type": "execute_result",
          "data": {
            "text/plain": [
              "'e'"
            ],
            "application/vnd.google.colaboratory.intrinsic+json": {
              "type": "string"
            }
          },
          "metadata": {},
          "execution_count": 42
        }
      ]
    },
    {
      "cell_type": "code",
      "source": [
        "# slicing\n",
        "'''\n",
        "x[start(include)(BD 0):stop(Exclude):step(BD 1)]\n",
        "'''"
      ],
      "metadata": {
        "id": "1YDKx5ijWNnr",
        "colab": {
          "base_uri": "https://localhost:8080/",
          "height": 36
        },
        "outputId": "3480a7dc-129a-4195-dd07-552ddfc2fe69"
      },
      "execution_count": 43,
      "outputs": [
        {
          "output_type": "execute_result",
          "data": {
            "text/plain": [
              "'\\nx[start(include)(BD 0):stop(Exclude):step(BD 1)]\\n'"
            ],
            "application/vnd.google.colaboratory.intrinsic+json": {
              "type": "string"
            }
          },
          "metadata": {},
          "execution_count": 43
        }
      ]
    },
    {
      "cell_type": "code",
      "source": [
        "x[5:8]"
      ],
      "metadata": {
        "colab": {
          "base_uri": "https://localhost:8080/",
          "height": 36
        },
        "id": "lUlkpdX-XQKs",
        "outputId": "a68d8497-8299-4c1e-a7e5-2d3157ba6289"
      },
      "execution_count": 44,
      "outputs": [
        {
          "output_type": "execute_result",
          "data": {
            "text/plain": [
              "'Sci'"
            ],
            "application/vnd.google.colaboratory.intrinsic+json": {
              "type": "string"
            }
          },
          "metadata": {},
          "execution_count": 44
        }
      ]
    },
    {
      "cell_type": "code",
      "source": [
        "x[5:7]"
      ],
      "metadata": {
        "colab": {
          "base_uri": "https://localhost:8080/",
          "height": 36
        },
        "id": "K8pLLmAyXRit",
        "outputId": "a707bf4c-bf41-4242-cad3-0ce51fb22551"
      },
      "execution_count": 45,
      "outputs": [
        {
          "output_type": "execute_result",
          "data": {
            "text/plain": [
              "'Sc'"
            ],
            "application/vnd.google.colaboratory.intrinsic+json": {
              "type": "string"
            }
          },
          "metadata": {},
          "execution_count": 45
        }
      ]
    },
    {
      "cell_type": "code",
      "source": [
        "x[-7:-4]"
      ],
      "metadata": {
        "colab": {
          "base_uri": "https://localhost:8080/",
          "height": 36
        },
        "id": "ct8qLM_7XU1O",
        "outputId": "8656a756-f8a3-4cec-f280-453d2e208c48"
      },
      "execution_count": 46,
      "outputs": [
        {
          "output_type": "execute_result",
          "data": {
            "text/plain": [
              "'Sci'"
            ],
            "application/vnd.google.colaboratory.intrinsic+json": {
              "type": "string"
            }
          },
          "metadata": {},
          "execution_count": 46
        }
      ]
    },
    {
      "cell_type": "code",
      "source": [
        "x[0:4]"
      ],
      "metadata": {
        "colab": {
          "base_uri": "https://localhost:8080/",
          "height": 36
        },
        "id": "aSeG2bceXjcZ",
        "outputId": "aa35257f-aec1-4266-b829-d0aaae557f3d"
      },
      "execution_count": 47,
      "outputs": [
        {
          "output_type": "execute_result",
          "data": {
            "text/plain": [
              "'Data'"
            ],
            "application/vnd.google.colaboratory.intrinsic+json": {
              "type": "string"
            }
          },
          "metadata": {},
          "execution_count": 47
        }
      ]
    },
    {
      "cell_type": "code",
      "source": [
        "x[5:]"
      ],
      "metadata": {
        "colab": {
          "base_uri": "https://localhost:8080/",
          "height": 36
        },
        "id": "PYkkodbUXyz6",
        "outputId": "fc3cbae0-ee0f-4f03-ddb5-b908f2ca526a"
      },
      "execution_count": 48,
      "outputs": [
        {
          "output_type": "execute_result",
          "data": {
            "text/plain": [
              "'Science'"
            ],
            "application/vnd.google.colaboratory.intrinsic+json": {
              "type": "string"
            }
          },
          "metadata": {},
          "execution_count": 48
        }
      ]
    },
    {
      "cell_type": "code",
      "source": [
        "x[5:12]"
      ],
      "metadata": {
        "colab": {
          "base_uri": "https://localhost:8080/",
          "height": 36
        },
        "id": "bUNqMGc4X-e9",
        "outputId": "27910a01-fffd-4929-d0f7-81dd90ecf1f3"
      },
      "execution_count": 49,
      "outputs": [
        {
          "output_type": "execute_result",
          "data": {
            "text/plain": [
              "'Science'"
            ],
            "application/vnd.google.colaboratory.intrinsic+json": {
              "type": "string"
            }
          },
          "metadata": {},
          "execution_count": 49
        }
      ]
    },
    {
      "cell_type": "code",
      "source": [
        "x[-7:12]"
      ],
      "metadata": {
        "colab": {
          "base_uri": "https://localhost:8080/",
          "height": 36
        },
        "id": "0bhmnKdrYDQQ",
        "outputId": "f9d5ea57-a8ba-4caf-92de-ca43d952a82a"
      },
      "execution_count": 50,
      "outputs": [
        {
          "output_type": "execute_result",
          "data": {
            "text/plain": [
              "'Science'"
            ],
            "application/vnd.google.colaboratory.intrinsic+json": {
              "type": "string"
            }
          },
          "metadata": {},
          "execution_count": 50
        }
      ]
    },
    {
      "cell_type": "code",
      "source": [
        "x[-1:-13:-1]"
      ],
      "metadata": {
        "colab": {
          "base_uri": "https://localhost:8080/",
          "height": 36
        },
        "id": "fTGmX5m3YNwu",
        "outputId": "135d614b-c5f5-49fc-ade0-305cc63f94a0"
      },
      "execution_count": 51,
      "outputs": [
        {
          "output_type": "execute_result",
          "data": {
            "text/plain": [
              "'ecneicS ataD'"
            ],
            "application/vnd.google.colaboratory.intrinsic+json": {
              "type": "string"
            }
          },
          "metadata": {},
          "execution_count": 51
        }
      ]
    },
    {
      "cell_type": "code",
      "source": [
        "x[5:12:1]"
      ],
      "metadata": {
        "colab": {
          "base_uri": "https://localhost:8080/",
          "height": 36
        },
        "id": "0qbg1OajYiEv",
        "outputId": "d6a74cb5-ce4f-4e0b-9dfb-c7c641f1fc29"
      },
      "execution_count": 52,
      "outputs": [
        {
          "output_type": "execute_result",
          "data": {
            "text/plain": [
              "'Science'"
            ],
            "application/vnd.google.colaboratory.intrinsic+json": {
              "type": "string"
            }
          },
          "metadata": {},
          "execution_count": 52
        }
      ]
    },
    {
      "cell_type": "code",
      "source": [
        "x[5:12:2]"
      ],
      "metadata": {
        "colab": {
          "base_uri": "https://localhost:8080/",
          "height": 36
        },
        "id": "RofNYHORY2To",
        "outputId": "f17d0f62-aef0-4a66-fba0-8682dd93e9fd"
      },
      "execution_count": 53,
      "outputs": [
        {
          "output_type": "execute_result",
          "data": {
            "text/plain": [
              "'Sine'"
            ],
            "application/vnd.google.colaboratory.intrinsic+json": {
              "type": "string"
            }
          },
          "metadata": {},
          "execution_count": 53
        }
      ]
    },
    {
      "cell_type": "code",
      "source": [
        "x[5:12:3]"
      ],
      "metadata": {
        "colab": {
          "base_uri": "https://localhost:8080/",
          "height": 36
        },
        "id": "l5H3xG9TY9qI",
        "outputId": "2204648a-d9e3-45d7-cc69-058a4127101a"
      },
      "execution_count": 54,
      "outputs": [
        {
          "output_type": "execute_result",
          "data": {
            "text/plain": [
              "'See'"
            ],
            "application/vnd.google.colaboratory.intrinsic+json": {
              "type": "string"
            }
          },
          "metadata": {},
          "execution_count": 54
        }
      ]
    },
    {
      "cell_type": "code",
      "source": [
        "# Built-in Fuction\n",
        "'''\n",
        "1. capitalize\n",
        "2. title\n",
        "3. count\n",
        "4. index\n",
        "5. rindex\n",
        "6. rstrip\n",
        "7. lstrip\n",
        "8. strip\n",
        "9. Center\n",
        "10. isupper\n",
        "11. islower\n",
        "12. upper\n",
        "13. lower\n",
        "14. isalpha\n",
        "15. isnum\n",
        "16. isdigit\n",
        "17. isspace\n",
        "18. join\n",
        "19. split\n",
        "'''"
      ],
      "metadata": {
        "id": "iyc-PGg1ZCYC",
        "colab": {
          "base_uri": "https://localhost:8080/",
          "height": 53
        },
        "outputId": "b022a655-10dc-4bdf-eb15-e359cd0223c7"
      },
      "execution_count": 55,
      "outputs": [
        {
          "output_type": "execute_result",
          "data": {
            "text/plain": [
              "'\\n1. capitalize\\n2. title\\n3. count\\n4. index\\n5. rindex\\n6. rstrip\\n7. lstrip\\n8. strip\\n9. Center\\n10. isupper\\n11. islower\\n12. upper\\n13. lower\\n14. isalpha\\n15. isnum\\n16. isdigit\\n17. isspace\\n18. join\\n19. split\\n'"
            ],
            "application/vnd.google.colaboratory.intrinsic+json": {
              "type": "string"
            }
          },
          "metadata": {},
          "execution_count": 55
        }
      ]
    },
    {
      "cell_type": "code",
      "source": [
        "x"
      ],
      "metadata": {
        "colab": {
          "base_uri": "https://localhost:8080/",
          "height": 36
        },
        "id": "qfUnoHoQZ2kW",
        "outputId": "c0d2ef89-f467-43fd-e5fb-a8ef291ecc18"
      },
      "execution_count": 56,
      "outputs": [
        {
          "output_type": "execute_result",
          "data": {
            "text/plain": [
              "'Data Science'"
            ],
            "application/vnd.google.colaboratory.intrinsic+json": {
              "type": "string"
            }
          },
          "metadata": {},
          "execution_count": 56
        }
      ]
    },
    {
      "cell_type": "code",
      "source": [
        "x.upper()"
      ],
      "metadata": {
        "colab": {
          "base_uri": "https://localhost:8080/",
          "height": 36
        },
        "id": "_cuod0MZZ3BA",
        "outputId": "4e3f6658-7bc6-434c-d716-f8df46484ee1"
      },
      "execution_count": 57,
      "outputs": [
        {
          "output_type": "execute_result",
          "data": {
            "text/plain": [
              "'DATA SCIENCE'"
            ],
            "application/vnd.google.colaboratory.intrinsic+json": {
              "type": "string"
            }
          },
          "metadata": {},
          "execution_count": 57
        }
      ]
    },
    {
      "cell_type": "code",
      "execution_count": 58,
      "metadata": {
        "id": "Jn_qCbrEhIgu"
      },
      "outputs": [],
      "source": [
        "a = 'hello world'"
      ]
    },
    {
      "cell_type": "code",
      "source": [
        "a.capitalize()"
      ],
      "metadata": {
        "colab": {
          "base_uri": "https://localhost:8080/",
          "height": 36
        },
        "id": "Onz7DqTkhR65",
        "outputId": "d943fee5-f380-4c28-e785-0b4690b576b1"
      },
      "execution_count": 59,
      "outputs": [
        {
          "output_type": "execute_result",
          "data": {
            "text/plain": [
              "'Hello world'"
            ],
            "application/vnd.google.colaboratory.intrinsic+json": {
              "type": "string"
            }
          },
          "metadata": {},
          "execution_count": 59
        }
      ]
    },
    {
      "cell_type": "code",
      "source": [
        "a.title()"
      ],
      "metadata": {
        "colab": {
          "base_uri": "https://localhost:8080/",
          "height": 36
        },
        "id": "XNRRVbMqhlUd",
        "outputId": "b8158c07-3c6b-4cda-ab16-992528dcc7ce"
      },
      "execution_count": 60,
      "outputs": [
        {
          "output_type": "execute_result",
          "data": {
            "text/plain": [
              "'Hello World'"
            ],
            "application/vnd.google.colaboratory.intrinsic+json": {
              "type": "string"
            }
          },
          "metadata": {},
          "execution_count": 60
        }
      ]
    },
    {
      "cell_type": "code",
      "source": [
        "a.count('l')"
      ],
      "metadata": {
        "colab": {
          "base_uri": "https://localhost:8080/"
        },
        "id": "0n1mKIwFhqen",
        "outputId": "dadf5f2b-3fe3-4248-9d21-cbb5c8129847"
      },
      "execution_count": 61,
      "outputs": [
        {
          "output_type": "execute_result",
          "data": {
            "text/plain": [
              "3"
            ]
          },
          "metadata": {},
          "execution_count": 61
        }
      ]
    },
    {
      "cell_type": "code",
      "source": [
        "a.index('h')"
      ],
      "metadata": {
        "colab": {
          "base_uri": "https://localhost:8080/"
        },
        "id": "_Mbm5WsShzdn",
        "outputId": "357a120d-e4ab-4426-add2-08582b17596e"
      },
      "execution_count": 62,
      "outputs": [
        {
          "output_type": "execute_result",
          "data": {
            "text/plain": [
              "0"
            ]
          },
          "metadata": {},
          "execution_count": 62
        }
      ]
    },
    {
      "cell_type": "code",
      "source": [
        "a.index('o')"
      ],
      "metadata": {
        "colab": {
          "base_uri": "https://localhost:8080/"
        },
        "id": "-nE9m_jyh7hY",
        "outputId": "efd8a650-4676-44fe-be5d-68e9054154dc"
      },
      "execution_count": 63,
      "outputs": [
        {
          "output_type": "execute_result",
          "data": {
            "text/plain": [
              "4"
            ]
          },
          "metadata": {},
          "execution_count": 63
        }
      ]
    },
    {
      "cell_type": "code",
      "source": [
        "a.rindex('o')"
      ],
      "metadata": {
        "colab": {
          "base_uri": "https://localhost:8080/"
        },
        "id": "_mBHML3biEuK",
        "outputId": "aee2e647-86d7-4d9b-ad3f-8876ba60cc79"
      },
      "execution_count": 64,
      "outputs": [
        {
          "output_type": "execute_result",
          "data": {
            "text/plain": [
              "7"
            ]
          },
          "metadata": {},
          "execution_count": 64
        }
      ]
    },
    {
      "cell_type": "code",
      "source": [
        "b= '             hello       '\n",
        "b.strip()"
      ],
      "metadata": {
        "colab": {
          "base_uri": "https://localhost:8080/",
          "height": 36
        },
        "id": "plFQyuVpiLOX",
        "outputId": "d7fc0d73-fca8-4719-eb61-3ba0bd6266fa"
      },
      "execution_count": 65,
      "outputs": [
        {
          "output_type": "execute_result",
          "data": {
            "text/plain": [
              "'hello'"
            ],
            "application/vnd.google.colaboratory.intrinsic+json": {
              "type": "string"
            }
          },
          "metadata": {},
          "execution_count": 65
        }
      ]
    },
    {
      "cell_type": "code",
      "source": [
        "b.lstrip()"
      ],
      "metadata": {
        "colab": {
          "base_uri": "https://localhost:8080/",
          "height": 36
        },
        "id": "YOoo1ye8iW54",
        "outputId": "2a274f1d-3627-4f47-b076-eea3f53ed246"
      },
      "execution_count": 66,
      "outputs": [
        {
          "output_type": "execute_result",
          "data": {
            "text/plain": [
              "'hello       '"
            ],
            "application/vnd.google.colaboratory.intrinsic+json": {
              "type": "string"
            }
          },
          "metadata": {},
          "execution_count": 66
        }
      ]
    },
    {
      "cell_type": "code",
      "source": [
        "a"
      ],
      "metadata": {
        "colab": {
          "base_uri": "https://localhost:8080/",
          "height": 36
        },
        "id": "wirUx2ZPibir",
        "outputId": "49397a86-4a97-4e3e-e85d-4e95eaf6ff63"
      },
      "execution_count": 67,
      "outputs": [
        {
          "output_type": "execute_result",
          "data": {
            "text/plain": [
              "'hello world'"
            ],
            "application/vnd.google.colaboratory.intrinsic+json": {
              "type": "string"
            }
          },
          "metadata": {},
          "execution_count": 67
        }
      ]
    },
    {
      "cell_type": "code",
      "source": [
        "a.center(45,'@')"
      ],
      "metadata": {
        "colab": {
          "base_uri": "https://localhost:8080/",
          "height": 36
        },
        "id": "LbF9PK-di1rJ",
        "outputId": "578203e3-3db1-4224-ccbd-597648487099"
      },
      "execution_count": 68,
      "outputs": [
        {
          "output_type": "execute_result",
          "data": {
            "text/plain": [
              "'@@@@@@@@@@@@@@@@@hello world@@@@@@@@@@@@@@@@@'"
            ],
            "application/vnd.google.colaboratory.intrinsic+json": {
              "type": "string"
            }
          },
          "metadata": {},
          "execution_count": 68
        }
      ]
    },
    {
      "cell_type": "code",
      "source": [
        "a.isupper()"
      ],
      "metadata": {
        "colab": {
          "base_uri": "https://localhost:8080/"
        },
        "id": "JQ4Fk-yLi4KA",
        "outputId": "d81042e4-6d69-4b8e-ee84-3fb9751c3bda"
      },
      "execution_count": 69,
      "outputs": [
        {
          "output_type": "execute_result",
          "data": {
            "text/plain": [
              "False"
            ]
          },
          "metadata": {},
          "execution_count": 69
        }
      ]
    },
    {
      "cell_type": "code",
      "source": [
        "a.islower()"
      ],
      "metadata": {
        "colab": {
          "base_uri": "https://localhost:8080/"
        },
        "id": "uPm_7KKOjFFt",
        "outputId": "db67b50c-8c9c-4646-f228-f8487d22add9"
      },
      "execution_count": 70,
      "outputs": [
        {
          "output_type": "execute_result",
          "data": {
            "text/plain": [
              "True"
            ]
          },
          "metadata": {},
          "execution_count": 70
        }
      ]
    },
    {
      "cell_type": "code",
      "source": [
        "a.upper()"
      ],
      "metadata": {
        "colab": {
          "base_uri": "https://localhost:8080/",
          "height": 36
        },
        "id": "2bq6pg8DjGnC",
        "outputId": "d530adcb-9c62-47d2-faf9-74d3fda1b8f0"
      },
      "execution_count": 71,
      "outputs": [
        {
          "output_type": "execute_result",
          "data": {
            "text/plain": [
              "'HELLO WORLD'"
            ],
            "application/vnd.google.colaboratory.intrinsic+json": {
              "type": "string"
            }
          },
          "metadata": {},
          "execution_count": 71
        }
      ]
    },
    {
      "cell_type": "code",
      "source": [
        "a.lower()"
      ],
      "metadata": {
        "colab": {
          "base_uri": "https://localhost:8080/",
          "height": 36
        },
        "id": "EceFtms8jJRU",
        "outputId": "975358a1-ecdc-43fe-ba67-5bef907f2b0d"
      },
      "execution_count": 72,
      "outputs": [
        {
          "output_type": "execute_result",
          "data": {
            "text/plain": [
              "'hello world'"
            ],
            "application/vnd.google.colaboratory.intrinsic+json": {
              "type": "string"
            }
          },
          "metadata": {},
          "execution_count": 72
        }
      ]
    },
    {
      "cell_type": "code",
      "source": [
        "a.isdigit()"
      ],
      "metadata": {
        "colab": {
          "base_uri": "https://localhost:8080/"
        },
        "id": "CraEqD9GjNEG",
        "outputId": "9e38320c-3549-4c4e-8dee-b1bf9478e822"
      },
      "execution_count": 73,
      "outputs": [
        {
          "output_type": "execute_result",
          "data": {
            "text/plain": [
              "False"
            ]
          },
          "metadata": {},
          "execution_count": 73
        }
      ]
    },
    {
      "cell_type": "code",
      "source": [
        "a.isalpha()"
      ],
      "metadata": {
        "colab": {
          "base_uri": "https://localhost:8080/"
        },
        "id": "szE5SB8MjUwi",
        "outputId": "ff6d00c5-7567-4fc5-fa7e-1f06de073509"
      },
      "execution_count": 74,
      "outputs": [
        {
          "output_type": "execute_result",
          "data": {
            "text/plain": [
              "False"
            ]
          },
          "metadata": {},
          "execution_count": 74
        }
      ]
    },
    {
      "cell_type": "code",
      "source": [
        "a.replace('h','m')"
      ],
      "metadata": {
        "colab": {
          "base_uri": "https://localhost:8080/",
          "height": 36
        },
        "id": "7ZKHyfQUkqAR",
        "outputId": "68255710-0c1a-42a9-8c6d-834033a60ea3"
      },
      "execution_count": 75,
      "outputs": [
        {
          "output_type": "execute_result",
          "data": {
            "text/plain": [
              "'mello world'"
            ],
            "application/vnd.google.colaboratory.intrinsic+json": {
              "type": "string"
            }
          },
          "metadata": {},
          "execution_count": 75
        }
      ]
    },
    {
      "cell_type": "code",
      "source": [
        "a"
      ],
      "metadata": {
        "colab": {
          "base_uri": "https://localhost:8080/",
          "height": 36
        },
        "id": "n8tiAkTRkymo",
        "outputId": "468cfa6f-81b2-4e80-86a2-a753edddb530"
      },
      "execution_count": 76,
      "outputs": [
        {
          "output_type": "execute_result",
          "data": {
            "text/plain": [
              "'hello world'"
            ],
            "application/vnd.google.colaboratory.intrinsic+json": {
              "type": "string"
            }
          },
          "metadata": {},
          "execution_count": 76
        }
      ]
    },
    {
      "cell_type": "code",
      "source": [
        "a"
      ],
      "metadata": {
        "colab": {
          "base_uri": "https://localhost:8080/",
          "height": 36
        },
        "id": "u_h6g2s5jZTJ",
        "outputId": "7c00f9cb-f8b0-489e-c3b8-44f1f59b7a2c"
      },
      "execution_count": 77,
      "outputs": [
        {
          "output_type": "execute_result",
          "data": {
            "text/plain": [
              "'hello world'"
            ],
            "application/vnd.google.colaboratory.intrinsic+json": {
              "type": "string"
            }
          },
          "metadata": {},
          "execution_count": 77
        }
      ]
    },
    {
      "cell_type": "code",
      "source": [
        "x = 'akshat@gmail.com'\n",
        "x.split('@')"
      ],
      "metadata": {
        "colab": {
          "base_uri": "https://localhost:8080/"
        },
        "id": "3qOT-AiXjbz5",
        "outputId": "b1ecf917-bc2a-41ad-89df-beb01f0dbb0d"
      },
      "execution_count": 78,
      "outputs": [
        {
          "output_type": "execute_result",
          "data": {
            "text/plain": [
              "['akshat', 'gmail.com']"
            ]
          },
          "metadata": {},
          "execution_count": 78
        }
      ]
    },
    {
      "cell_type": "code",
      "source": [
        "x = 'akshat@gmail.com'\n",
        "x.split('a')"
      ],
      "metadata": {
        "colab": {
          "base_uri": "https://localhost:8080/"
        },
        "id": "Hl7glOAmjwlp",
        "outputId": "75c49d0b-fb6f-4bf3-c2d3-11ea2ad6ac1a"
      },
      "execution_count": 79,
      "outputs": [
        {
          "output_type": "execute_result",
          "data": {
            "text/plain": [
              "['', 'ksh', 't@gm', 'il.com']"
            ]
          },
          "metadata": {},
          "execution_count": 79
        }
      ]
    },
    {
      "cell_type": "code",
      "source": [
        "c = ['akshat', 'gmail.com']"
      ],
      "metadata": {
        "id": "VqCE91Pxj6T5"
      },
      "execution_count": 80,
      "outputs": []
    },
    {
      "cell_type": "code",
      "source": [
        "'-'.join(c)"
      ],
      "metadata": {
        "colab": {
          "base_uri": "https://localhost:8080/",
          "height": 36
        },
        "id": "hN49aHWakE_9",
        "outputId": "3e5c122a-830e-49dc-c728-bf7cffa2dd38"
      },
      "execution_count": 81,
      "outputs": [
        {
          "output_type": "execute_result",
          "data": {
            "text/plain": [
              "'akshat-gmail.com'"
            ],
            "application/vnd.google.colaboratory.intrinsic+json": {
              "type": "string"
            }
          },
          "metadata": {},
          "execution_count": 81
        }
      ]
    },
    {
      "cell_type": "code",
      "source": [
        "'hello' + 'world'"
      ],
      "metadata": {
        "colab": {
          "base_uri": "https://localhost:8080/",
          "height": 36
        },
        "id": "fGKASb7ZkJbH",
        "outputId": "547eab58-2f06-4ed7-e268-61056698aea8"
      },
      "execution_count": 82,
      "outputs": [
        {
          "output_type": "execute_result",
          "data": {
            "text/plain": [
              "'helloworld'"
            ],
            "application/vnd.google.colaboratory.intrinsic+json": {
              "type": "string"
            }
          },
          "metadata": {},
          "execution_count": 82
        }
      ]
    },
    {
      "cell_type": "code",
      "source": [
        "20*'hello'"
      ],
      "metadata": {
        "colab": {
          "base_uri": "https://localhost:8080/",
          "height": 36
        },
        "id": "BWGKlTU5kajI",
        "outputId": "47d69dca-7118-4563-a95d-3d9dbff62c02"
      },
      "execution_count": 83,
      "outputs": [
        {
          "output_type": "execute_result",
          "data": {
            "text/plain": [
              "'hellohellohellohellohellohellohellohellohellohellohellohellohellohellohellohellohellohellohellohello'"
            ],
            "application/vnd.google.colaboratory.intrinsic+json": {
              "type": "string"
            }
          },
          "metadata": {},
          "execution_count": 83
        }
      ]
    },
    {
      "cell_type": "code",
      "source": [
        "# LIST\n",
        "# --------\n",
        "'''\n",
        "1. Mutable DT\n",
        "2. []\n",
        "3. indexing/slicing , loops\n",
        "4. repeated item\n",
        "5. homo.+hetero.\n",
        "'''"
      ],
      "metadata": {
        "id": "k92hIPW_kcHW",
        "colab": {
          "base_uri": "https://localhost:8080/",
          "height": 36
        },
        "outputId": "32eeeb30-f77a-47b1-fe1a-d61653b2e9a2"
      },
      "execution_count": 84,
      "outputs": [
        {
          "output_type": "execute_result",
          "data": {
            "text/plain": [
              "'\\n1. Mutable DT\\n2. []\\n3. indexing/slicing , loops\\n4. repeated item\\n5. homo.+hetero.\\n'"
            ],
            "application/vnd.google.colaboratory.intrinsic+json": {
              "type": "string"
            }
          },
          "metadata": {},
          "execution_count": 84
        }
      ]
    },
    {
      "cell_type": "code",
      "source": [
        "m = [23,56,88,99,100]\n",
        "m1 = [23, 2.9, 'hello', 2.9, 100]"
      ],
      "metadata": {
        "id": "bsy4tULglB6w"
      },
      "execution_count": 85,
      "outputs": []
    },
    {
      "cell_type": "code",
      "source": [
        "type(m1)"
      ],
      "metadata": {
        "colab": {
          "base_uri": "https://localhost:8080/"
        },
        "id": "0GPXHBd8lLWk",
        "outputId": "1329b6a7-f96c-4043-edf9-63672fc612aa"
      },
      "execution_count": 86,
      "outputs": [
        {
          "output_type": "execute_result",
          "data": {
            "text/plain": [
              "list"
            ]
          },
          "metadata": {},
          "execution_count": 86
        }
      ]
    },
    {
      "cell_type": "code",
      "source": [
        "m"
      ],
      "metadata": {
        "colab": {
          "base_uri": "https://localhost:8080/"
        },
        "id": "kx-1m2fdlMhV",
        "outputId": "f00b3fd3-52e5-429f-a951-192811485274"
      },
      "execution_count": 87,
      "outputs": [
        {
          "output_type": "execute_result",
          "data": {
            "text/plain": [
              "[23, 56, 88, 99, 100]"
            ]
          },
          "metadata": {},
          "execution_count": 87
        }
      ]
    },
    {
      "cell_type": "code",
      "source": [
        "m1"
      ],
      "metadata": {
        "colab": {
          "base_uri": "https://localhost:8080/"
        },
        "id": "I2bmE3B0lUIi",
        "outputId": "ba71d2bf-05f9-48e9-cb2f-ce56f3946226"
      },
      "execution_count": 88,
      "outputs": [
        {
          "output_type": "execute_result",
          "data": {
            "text/plain": [
              "[23, 2.9, 'hello', 2.9, 100]"
            ]
          },
          "metadata": {},
          "execution_count": 88
        }
      ]
    },
    {
      "cell_type": "code",
      "source": [
        "# 1. List concat.\n",
        "# 2. List repeat."
      ],
      "metadata": {
        "id": "pau5xRImlVNu"
      },
      "execution_count": 89,
      "outputs": []
    },
    {
      "cell_type": "code",
      "source": [
        "m1[2][0:3]"
      ],
      "metadata": {
        "colab": {
          "base_uri": "https://localhost:8080/",
          "height": 36
        },
        "id": "1BMeeVCrlehr",
        "outputId": "23a52202-9511-4e32-d309-cdc75ce43968"
      },
      "execution_count": 90,
      "outputs": [
        {
          "output_type": "execute_result",
          "data": {
            "text/plain": [
              "'hel'"
            ],
            "application/vnd.google.colaboratory.intrinsic+json": {
              "type": "string"
            }
          },
          "metadata": {},
          "execution_count": 90
        }
      ]
    },
    {
      "cell_type": "code",
      "source": [
        "m1[1:4]"
      ],
      "metadata": {
        "colab": {
          "base_uri": "https://localhost:8080/"
        },
        "id": "9gqbx_14lwS4",
        "outputId": "07b01003-378b-491b-f248-97dc5c810872"
      },
      "execution_count": 91,
      "outputs": [
        {
          "output_type": "execute_result",
          "data": {
            "text/plain": [
              "[2.9, 'hello', 2.9]"
            ]
          },
          "metadata": {},
          "execution_count": 91
        }
      ]
    },
    {
      "cell_type": "code",
      "source": [
        "# Built-in Function\n",
        "'''\n",
        "1. append\n",
        "2. extend\n",
        "3. insert\n",
        "4. count\n",
        "5. index\n",
        "6. copy\n",
        "7. pop\n",
        "8. remove\n",
        "9. sort\n",
        "10. reverse\n",
        "'''"
      ],
      "metadata": {
        "id": "wJK70z4vmCUv",
        "colab": {
          "base_uri": "https://localhost:8080/",
          "height": 36
        },
        "outputId": "acac64a3-2fc5-45bc-a018-a6e01314d8b3"
      },
      "execution_count": 92,
      "outputs": [
        {
          "output_type": "execute_result",
          "data": {
            "text/plain": [
              "'\\n1. append\\n2. extend\\n3. insert\\n4. count\\n5. index\\n6. copy\\n7. pop\\n8. remove\\n9. sort\\n10. reverse\\n'"
            ],
            "application/vnd.google.colaboratory.intrinsic+json": {
              "type": "string"
            }
          },
          "metadata": {},
          "execution_count": 92
        }
      ]
    },
    {
      "cell_type": "code",
      "source": [
        "m"
      ],
      "metadata": {
        "colab": {
          "base_uri": "https://localhost:8080/"
        },
        "id": "3fdB7E_MmV39",
        "outputId": "a6d8e749-21c8-4857-a014-6c496115f0e3"
      },
      "execution_count": 93,
      "outputs": [
        {
          "output_type": "execute_result",
          "data": {
            "text/plain": [
              "[23, 56, 88, 99, 100]"
            ]
          },
          "metadata": {},
          "execution_count": 93
        }
      ]
    },
    {
      "cell_type": "code",
      "source": [
        "m.append(101)"
      ],
      "metadata": {
        "id": "ymD6tRBemWs6"
      },
      "execution_count": 94,
      "outputs": []
    },
    {
      "cell_type": "code",
      "source": [
        "m"
      ],
      "metadata": {
        "colab": {
          "base_uri": "https://localhost:8080/"
        },
        "id": "xOfjsb6jmfcd",
        "outputId": "18c03c9f-a118-4968-92ce-a0e09de99876"
      },
      "execution_count": 95,
      "outputs": [
        {
          "output_type": "execute_result",
          "data": {
            "text/plain": [
              "[23, 56, 88, 99, 100, 101]"
            ]
          },
          "metadata": {},
          "execution_count": 95
        }
      ]
    },
    {
      "cell_type": "code",
      "source": [
        "m.extend(['akshat','raju'])"
      ],
      "metadata": {
        "id": "-4iM_DANmjlx"
      },
      "execution_count": 96,
      "outputs": []
    },
    {
      "cell_type": "code",
      "source": [
        "m"
      ],
      "metadata": {
        "colab": {
          "base_uri": "https://localhost:8080/"
        },
        "id": "ADWSsG0Wmvyh",
        "outputId": "6a1e7ea0-7306-4c8a-9554-e2b5e986bc4c"
      },
      "execution_count": 97,
      "outputs": [
        {
          "output_type": "execute_result",
          "data": {
            "text/plain": [
              "[23, 56, 88, 99, 100, 101, 'akshat', 'raju']"
            ]
          },
          "metadata": {},
          "execution_count": 97
        }
      ]
    },
    {
      "cell_type": "code",
      "source": [
        "m.insert(3,120)"
      ],
      "metadata": {
        "id": "YZoivKDOmwY_"
      },
      "execution_count": 98,
      "outputs": []
    },
    {
      "cell_type": "code",
      "source": [
        "m"
      ],
      "metadata": {
        "colab": {
          "base_uri": "https://localhost:8080/"
        },
        "id": "RU4abjjYnAHC",
        "outputId": "656c7aaa-3de1-4dc5-e3e1-24134f94adf8"
      },
      "execution_count": 99,
      "outputs": [
        {
          "output_type": "execute_result",
          "data": {
            "text/plain": [
              "[23, 56, 88, 120, 99, 100, 101, 'akshat', 'raju']"
            ]
          },
          "metadata": {},
          "execution_count": 99
        }
      ]
    },
    {
      "cell_type": "code",
      "source": [
        "m1.count(2.9)"
      ],
      "metadata": {
        "colab": {
          "base_uri": "https://localhost:8080/"
        },
        "id": "EIAMlpxBnA5N",
        "outputId": "b83756f9-c13b-4981-ab03-2498b88a7500"
      },
      "execution_count": 100,
      "outputs": [
        {
          "output_type": "execute_result",
          "data": {
            "text/plain": [
              "2"
            ]
          },
          "metadata": {},
          "execution_count": 100
        }
      ]
    },
    {
      "cell_type": "code",
      "source": [
        "m1"
      ],
      "metadata": {
        "colab": {
          "base_uri": "https://localhost:8080/"
        },
        "id": "TiER1oOknWCJ",
        "outputId": "b41bf851-3e1d-44ba-facf-aa02bd59171f"
      },
      "execution_count": 101,
      "outputs": [
        {
          "output_type": "execute_result",
          "data": {
            "text/plain": [
              "[23, 2.9, 'hello', 2.9, 100]"
            ]
          },
          "metadata": {},
          "execution_count": 101
        }
      ]
    },
    {
      "cell_type": "code",
      "source": [
        "m1.index('hello')"
      ],
      "metadata": {
        "colab": {
          "base_uri": "https://localhost:8080/"
        },
        "id": "GW88tSEHnW62",
        "outputId": "d5080d67-c78f-4727-df79-36205697f474"
      },
      "execution_count": 102,
      "outputs": [
        {
          "output_type": "execute_result",
          "data": {
            "text/plain": [
              "2"
            ]
          },
          "metadata": {},
          "execution_count": 102
        }
      ]
    },
    {
      "cell_type": "code",
      "source": [
        "n = m.copy()"
      ],
      "metadata": {
        "id": "zrYKFNUgnabR"
      },
      "execution_count": 103,
      "outputs": []
    },
    {
      "cell_type": "code",
      "source": [
        "n"
      ],
      "metadata": {
        "colab": {
          "base_uri": "https://localhost:8080/"
        },
        "id": "GZK3t1Y2nh2B",
        "outputId": "65b6dc56-305f-469b-935a-3a4ba72a80f6"
      },
      "execution_count": 104,
      "outputs": [
        {
          "output_type": "execute_result",
          "data": {
            "text/plain": [
              "[23, 56, 88, 120, 99, 100, 101, 'akshat', 'raju']"
            ]
          },
          "metadata": {},
          "execution_count": 104
        }
      ]
    },
    {
      "cell_type": "code",
      "source": [
        "m.pop()"
      ],
      "metadata": {
        "colab": {
          "base_uri": "https://localhost:8080/",
          "height": 36
        },
        "id": "KhWvdpzDniW6",
        "outputId": "f6af9774-c310-4ab7-decd-f8a5eac816da"
      },
      "execution_count": 105,
      "outputs": [
        {
          "output_type": "execute_result",
          "data": {
            "text/plain": [
              "'raju'"
            ],
            "application/vnd.google.colaboratory.intrinsic+json": {
              "type": "string"
            }
          },
          "metadata": {},
          "execution_count": 105
        }
      ]
    },
    {
      "cell_type": "code",
      "source": [
        "m"
      ],
      "metadata": {
        "colab": {
          "base_uri": "https://localhost:8080/"
        },
        "id": "XGt8Rj27nrLo",
        "outputId": "168d3148-3d3b-489a-ed19-1df82205f0db"
      },
      "execution_count": 106,
      "outputs": [
        {
          "output_type": "execute_result",
          "data": {
            "text/plain": [
              "[23, 56, 88, 120, 99, 100, 101, 'akshat']"
            ]
          },
          "metadata": {},
          "execution_count": 106
        }
      ]
    },
    {
      "cell_type": "code",
      "source": [
        "m.pop()"
      ],
      "metadata": {
        "colab": {
          "base_uri": "https://localhost:8080/",
          "height": 36
        },
        "id": "21P9WP-enslk",
        "outputId": "efbb39a9-359f-4dc0-f88f-e31cfcab864b"
      },
      "execution_count": 107,
      "outputs": [
        {
          "output_type": "execute_result",
          "data": {
            "text/plain": [
              "'akshat'"
            ],
            "application/vnd.google.colaboratory.intrinsic+json": {
              "type": "string"
            }
          },
          "metadata": {},
          "execution_count": 107
        }
      ]
    },
    {
      "cell_type": "code",
      "source": [
        "m"
      ],
      "metadata": {
        "colab": {
          "base_uri": "https://localhost:8080/"
        },
        "id": "yyzImX-Qnvml",
        "outputId": "5df3f3bb-9e1b-4d62-deca-e05852bb7774"
      },
      "execution_count": 108,
      "outputs": [
        {
          "output_type": "execute_result",
          "data": {
            "text/plain": [
              "[23, 56, 88, 120, 99, 100, 101]"
            ]
          },
          "metadata": {},
          "execution_count": 108
        }
      ]
    },
    {
      "cell_type": "code",
      "source": [
        "m.remove(120)"
      ],
      "metadata": {
        "id": "x7HhImlnnwGL"
      },
      "execution_count": 109,
      "outputs": []
    },
    {
      "cell_type": "code",
      "source": [
        "m"
      ],
      "metadata": {
        "colab": {
          "base_uri": "https://localhost:8080/"
        },
        "id": "iMiTjHJ-nzst",
        "outputId": "e20cc385-00c3-4d88-ae1a-0837c6569996"
      },
      "execution_count": 110,
      "outputs": [
        {
          "output_type": "execute_result",
          "data": {
            "text/plain": [
              "[23, 56, 88, 99, 100, 101]"
            ]
          },
          "metadata": {},
          "execution_count": 110
        }
      ]
    },
    {
      "cell_type": "code",
      "source": [
        "del m[-1]"
      ],
      "metadata": {
        "id": "NRnrefvCn0a0"
      },
      "execution_count": 111,
      "outputs": []
    },
    {
      "cell_type": "code",
      "source": [
        "m"
      ],
      "metadata": {
        "colab": {
          "base_uri": "https://localhost:8080/"
        },
        "id": "Z7pfl4hon6ky",
        "outputId": "ce5723e9-17db-467a-a17c-c7f0c169a073"
      },
      "execution_count": 112,
      "outputs": [
        {
          "output_type": "execute_result",
          "data": {
            "text/plain": [
              "[23, 56, 88, 99, 100]"
            ]
          },
          "metadata": {},
          "execution_count": 112
        }
      ]
    },
    {
      "cell_type": "code",
      "source": [
        "d = [13,66,20,12,100]\n",
        "d.sort()"
      ],
      "metadata": {
        "id": "knmI_wIJn7Oh"
      },
      "execution_count": 113,
      "outputs": []
    },
    {
      "cell_type": "code",
      "source": [
        "d"
      ],
      "metadata": {
        "colab": {
          "base_uri": "https://localhost:8080/"
        },
        "id": "qphsRXiOoIW_",
        "outputId": "55ebaf56-2f9a-4dc2-f5eb-28b28b229d5f"
      },
      "execution_count": 114,
      "outputs": [
        {
          "output_type": "execute_result",
          "data": {
            "text/plain": [
              "[12, 13, 20, 66, 100]"
            ]
          },
          "metadata": {},
          "execution_count": 114
        }
      ]
    },
    {
      "cell_type": "code",
      "source": [
        "d.sort(reverse=True)"
      ],
      "metadata": {
        "id": "eWM1DIqDoJDV"
      },
      "execution_count": 115,
      "outputs": []
    },
    {
      "cell_type": "code",
      "source": [
        "d"
      ],
      "metadata": {
        "colab": {
          "base_uri": "https://localhost:8080/"
        },
        "id": "U8a5sP_soNOE",
        "outputId": "2e3c3981-f46b-467c-8dbf-e3ad042f4e93"
      },
      "execution_count": 116,
      "outputs": [
        {
          "output_type": "execute_result",
          "data": {
            "text/plain": [
              "[100, 66, 20, 13, 12]"
            ]
          },
          "metadata": {},
          "execution_count": 116
        }
      ]
    },
    {
      "cell_type": "code",
      "source": [
        "s = ['akshat','ayan','neha','sweta']"
      ],
      "metadata": {
        "id": "FrzAKi1yoOB1"
      },
      "execution_count": 117,
      "outputs": []
    },
    {
      "cell_type": "code",
      "source": [
        "s[::-1]"
      ],
      "metadata": {
        "colab": {
          "base_uri": "https://localhost:8080/"
        },
        "id": "Iy7Dwzg_oS2c",
        "outputId": "5979f607-535c-467a-ad75-f32281f832ad"
      },
      "execution_count": 118,
      "outputs": [
        {
          "output_type": "execute_result",
          "data": {
            "text/plain": [
              "['sweta', 'neha', 'ayan', 'akshat']"
            ]
          },
          "metadata": {},
          "execution_count": 118
        }
      ]
    },
    {
      "cell_type": "code",
      "source": [
        "s"
      ],
      "metadata": {
        "colab": {
          "base_uri": "https://localhost:8080/"
        },
        "id": "YufiHk9HoUyB",
        "outputId": "9db3ff2a-6290-4558-f4dd-bf2f6e1cd041"
      },
      "execution_count": 119,
      "outputs": [
        {
          "output_type": "execute_result",
          "data": {
            "text/plain": [
              "['akshat', 'ayan', 'neha', 'sweta']"
            ]
          },
          "metadata": {},
          "execution_count": 119
        }
      ]
    },
    {
      "cell_type": "code",
      "source": [
        "s.reverse()"
      ],
      "metadata": {
        "id": "yjO9oSM6oWta"
      },
      "execution_count": 120,
      "outputs": []
    },
    {
      "cell_type": "code",
      "source": [
        "s"
      ],
      "metadata": {
        "colab": {
          "base_uri": "https://localhost:8080/"
        },
        "id": "X3DFzX4NoaI-",
        "outputId": "36a86c25-2b7f-4099-ec06-302395d90268"
      },
      "execution_count": 121,
      "outputs": [
        {
          "output_type": "execute_result",
          "data": {
            "text/plain": [
              "['sweta', 'neha', 'ayan', 'akshat']"
            ]
          },
          "metadata": {},
          "execution_count": 121
        }
      ]
    },
    {
      "cell_type": "code",
      "source": [
        "# Nested list\n",
        "k = [23,67,90,['hello','hii'],80]"
      ],
      "metadata": {
        "id": "VpPte-yioa0h"
      },
      "execution_count": 122,
      "outputs": []
    },
    {
      "cell_type": "code",
      "source": [
        "type(k)"
      ],
      "metadata": {
        "colab": {
          "base_uri": "https://localhost:8080/"
        },
        "id": "vopABsQpp068",
        "outputId": "ae7448e4-3028-4edb-9313-83ed36463ded"
      },
      "execution_count": 123,
      "outputs": [
        {
          "output_type": "execute_result",
          "data": {
            "text/plain": [
              "list"
            ]
          },
          "metadata": {},
          "execution_count": 123
        }
      ]
    },
    {
      "cell_type": "code",
      "source": [
        "k[3][1][1:]"
      ],
      "metadata": {
        "colab": {
          "base_uri": "https://localhost:8080/",
          "height": 36
        },
        "id": "FcHiRfFLp2j2",
        "outputId": "a3c114f1-cb56-4a8e-e5a6-324dba79da6c"
      },
      "execution_count": 124,
      "outputs": [
        {
          "output_type": "execute_result",
          "data": {
            "text/plain": [
              "'ii'"
            ],
            "application/vnd.google.colaboratory.intrinsic+json": {
              "type": "string"
            }
          },
          "metadata": {},
          "execution_count": 124
        }
      ]
    },
    {
      "cell_type": "code",
      "source": [
        "s"
      ],
      "metadata": {
        "colab": {
          "base_uri": "https://localhost:8080/"
        },
        "id": "parzxPYnp_G6",
        "outputId": "3d6c6d95-0d4d-472c-e006-a498b6ec543e"
      },
      "execution_count": 125,
      "outputs": [
        {
          "output_type": "execute_result",
          "data": {
            "text/plain": [
              "['sweta', 'neha', 'ayan', 'akshat']"
            ]
          },
          "metadata": {},
          "execution_count": 125
        }
      ]
    },
    {
      "cell_type": "code",
      "source": [
        "s[2] = 'Rahul'"
      ],
      "metadata": {
        "id": "I5qdlEmHqISI"
      },
      "execution_count": 126,
      "outputs": []
    },
    {
      "cell_type": "code",
      "source": [
        "s"
      ],
      "metadata": {
        "colab": {
          "base_uri": "https://localhost:8080/"
        },
        "id": "YHk1aHfIqMPW",
        "outputId": "b0b0e6cc-a0d8-4cf2-fb08-fbf1ddf5868f"
      },
      "execution_count": 127,
      "outputs": [
        {
          "output_type": "execute_result",
          "data": {
            "text/plain": [
              "['sweta', 'neha', 'Rahul', 'akshat']"
            ]
          },
          "metadata": {},
          "execution_count": 127
        }
      ]
    },
    {
      "cell_type": "code",
      "source": [
        "# Tuple\n",
        "# 1. Immutable\n",
        "# 2. index/slicing/loops\n",
        "# 3. repeted\n",
        "# 4. both kind of data\n",
        "# 5. ()"
      ],
      "metadata": {
        "id": "hDh6hC2TqPjI"
      },
      "execution_count": 128,
      "outputs": []
    },
    {
      "cell_type": "code",
      "source": [
        "t = (23,77,90,'hello','hii',90,100)"
      ],
      "metadata": {
        "id": "xdALvy8lqfPd"
      },
      "execution_count": 129,
      "outputs": []
    },
    {
      "cell_type": "code",
      "source": [
        "type(t)"
      ],
      "metadata": {
        "colab": {
          "base_uri": "https://localhost:8080/"
        },
        "id": "kpP0_6p8qtbV",
        "outputId": "d61ace06-2be1-42d5-bcfb-3906547b2765"
      },
      "execution_count": 130,
      "outputs": [
        {
          "output_type": "execute_result",
          "data": {
            "text/plain": [
              "tuple"
            ]
          },
          "metadata": {},
          "execution_count": 130
        }
      ]
    },
    {
      "cell_type": "code",
      "source": [
        "t[0]"
      ],
      "metadata": {
        "colab": {
          "base_uri": "https://localhost:8080/"
        },
        "id": "u9qmSoxjquk3",
        "outputId": "ac841376-571f-4a22-d075-bf7242ec240f"
      },
      "execution_count": 131,
      "outputs": [
        {
          "output_type": "execute_result",
          "data": {
            "text/plain": [
              "23"
            ]
          },
          "metadata": {},
          "execution_count": 131
        }
      ]
    },
    {
      "cell_type": "code",
      "source": [
        "t[1:5]"
      ],
      "metadata": {
        "colab": {
          "base_uri": "https://localhost:8080/"
        },
        "id": "Xg3PMH7pqwia",
        "outputId": "4d6d30d5-18b1-461a-ccff-644f66f8028f"
      },
      "execution_count": 132,
      "outputs": [
        {
          "output_type": "execute_result",
          "data": {
            "text/plain": [
              "(77, 90, 'hello', 'hii')"
            ]
          },
          "metadata": {},
          "execution_count": 132
        }
      ]
    },
    {
      "cell_type": "code",
      "source": [
        "# 1. concat\n",
        "# 2. repeat"
      ],
      "metadata": {
        "id": "yBa6qseKqyTH"
      },
      "execution_count": 133,
      "outputs": []
    },
    {
      "cell_type": "code",
      "source": [
        "#. Built-in\n",
        "'''\n",
        "1. count\n",
        "2. index\n",
        "'''"
      ],
      "metadata": {
        "id": "PylYK51uq6Tu",
        "colab": {
          "base_uri": "https://localhost:8080/",
          "height": 36
        },
        "outputId": "ee2a56c3-f0a2-41c9-e3df-38ab8d357655"
      },
      "execution_count": 134,
      "outputs": [
        {
          "output_type": "execute_result",
          "data": {
            "text/plain": [
              "'\\n1. count\\n2. index\\n'"
            ],
            "application/vnd.google.colaboratory.intrinsic+json": {
              "type": "string"
            }
          },
          "metadata": {},
          "execution_count": 134
        }
      ]
    },
    {
      "cell_type": "code",
      "source": [
        "t.count(90)"
      ],
      "metadata": {
        "colab": {
          "base_uri": "https://localhost:8080/"
        },
        "id": "HRrPyIr4q_NS",
        "outputId": "34f8fc44-97fe-40d0-ab12-4c88dd4afdd7"
      },
      "execution_count": 135,
      "outputs": [
        {
          "output_type": "execute_result",
          "data": {
            "text/plain": [
              "2"
            ]
          },
          "metadata": {},
          "execution_count": 135
        }
      ]
    },
    {
      "cell_type": "code",
      "source": [
        "t.index(100)"
      ],
      "metadata": {
        "colab": {
          "base_uri": "https://localhost:8080/"
        },
        "id": "_7c9GwvvrBPm",
        "outputId": "ae544dd2-31ff-4de6-e9ae-2f527ba2bad6"
      },
      "execution_count": 136,
      "outputs": [
        {
          "output_type": "execute_result",
          "data": {
            "text/plain": [
              "6"
            ]
          },
          "metadata": {},
          "execution_count": 136
        }
      ]
    },
    {
      "cell_type": "code",
      "source": [
        "len(t)"
      ],
      "metadata": {
        "colab": {
          "base_uri": "https://localhost:8080/"
        },
        "id": "rmQgFQ7prEdH",
        "outputId": "ad6ac73a-f03e-4021-bc5a-d33a3036944a"
      },
      "execution_count": 137,
      "outputs": [
        {
          "output_type": "execute_result",
          "data": {
            "text/plain": [
              "7"
            ]
          },
          "metadata": {},
          "execution_count": 137
        }
      ]
    },
    {
      "cell_type": "code",
      "source": [
        "from typing_extensions import dataclass_transform\n",
        "# Dictionary Data Type\n",
        "'''\n",
        "1. {}\n",
        "2. key-value\n",
        "3. no indexing/slicing\n",
        "4. unordered\n",
        "5. both data\n",
        "'''"
      ],
      "metadata": {
        "id": "t7duNtGerHl7",
        "colab": {
          "base_uri": "https://localhost:8080/",
          "height": 36
        },
        "outputId": "e540d2ae-f8a6-4ae0-e1ae-816ff142f6fd"
      },
      "execution_count": 138,
      "outputs": [
        {
          "output_type": "execute_result",
          "data": {
            "text/plain": [
              "'\\n1. {}\\n2. key-value\\n3. no indexing/slicing\\n4. unordered\\n5. both data\\n'"
            ],
            "application/vnd.google.colaboratory.intrinsic+json": {
              "type": "string"
            }
          },
          "metadata": {},
          "execution_count": 138
        }
      ]
    },
    {
      "cell_type": "code",
      "source": [
        "d = {'name':'akshat', 'marks':80}"
      ],
      "metadata": {
        "id": "a9x3dQyEsaNN"
      },
      "execution_count": 139,
      "outputs": []
    },
    {
      "cell_type": "code",
      "source": [
        "type(d)"
      ],
      "metadata": {
        "colab": {
          "base_uri": "https://localhost:8080/"
        },
        "id": "0XDRxZAYspj_",
        "outputId": "00365e9c-1db4-477e-dcb6-28e1fb6b9c14"
      },
      "execution_count": 140,
      "outputs": [
        {
          "output_type": "execute_result",
          "data": {
            "text/plain": [
              "dict"
            ]
          },
          "metadata": {},
          "execution_count": 140
        }
      ]
    },
    {
      "cell_type": "code",
      "source": [
        "len(d)"
      ],
      "metadata": {
        "colab": {
          "base_uri": "https://localhost:8080/"
        },
        "id": "flYfyHkHsrD9",
        "outputId": "1544bbc5-b1eb-43d2-9866-3dbb1df87bcd"
      },
      "execution_count": 141,
      "outputs": [
        {
          "output_type": "execute_result",
          "data": {
            "text/plain": [
              "2"
            ]
          },
          "metadata": {},
          "execution_count": 141
        }
      ]
    },
    {
      "cell_type": "code",
      "source": [
        "d1 = {'name':['akash','rohit','rony','riya'], 'marks':[80,78,89,70], 'city':['kol','pune','pune','kol']}\n",
        "d1"
      ],
      "metadata": {
        "colab": {
          "base_uri": "https://localhost:8080/"
        },
        "id": "pZjn2pzcs_gx",
        "outputId": "6d03f453-8203-4afd-e543-e4cb2acdadd5"
      },
      "execution_count": 142,
      "outputs": [
        {
          "output_type": "execute_result",
          "data": {
            "text/plain": [
              "{'name': ['akash', 'rohit', 'rony', 'riya'],\n",
              " 'marks': [80, 78, 89, 70],\n",
              " 'city': ['kol', 'pune', 'pune', 'kol']}"
            ]
          },
          "metadata": {},
          "execution_count": 142
        }
      ]
    },
    {
      "cell_type": "code",
      "source": [
        "d1['pincode'] = [9045, 7281, 8907, 5676]"
      ],
      "metadata": {
        "id": "67yBXZwitXgi"
      },
      "execution_count": 143,
      "outputs": []
    },
    {
      "cell_type": "code",
      "source": [
        "d1"
      ],
      "metadata": {
        "colab": {
          "base_uri": "https://localhost:8080/"
        },
        "id": "ndN_ExLJtlqU",
        "outputId": "ea4281ac-d85c-4f07-97a1-59506dd89bc9"
      },
      "execution_count": 144,
      "outputs": [
        {
          "output_type": "execute_result",
          "data": {
            "text/plain": [
              "{'name': ['akash', 'rohit', 'rony', 'riya'],\n",
              " 'marks': [80, 78, 89, 70],\n",
              " 'city': ['kol', 'pune', 'pune', 'kol'],\n",
              " 'pincode': [9045, 7281, 8907, 5676]}"
            ]
          },
          "metadata": {},
          "execution_count": 144
        }
      ]
    },
    {
      "cell_type": "code",
      "source": [
        "d1['city']"
      ],
      "metadata": {
        "colab": {
          "base_uri": "https://localhost:8080/"
        },
        "id": "f8xm63rCtm1t",
        "outputId": "acd2db30-9488-43a7-8e68-80d896244cbc"
      },
      "execution_count": 145,
      "outputs": [
        {
          "output_type": "execute_result",
          "data": {
            "text/plain": [
              "['kol', 'pune', 'pune', 'kol']"
            ]
          },
          "metadata": {},
          "execution_count": 145
        }
      ]
    },
    {
      "cell_type": "code",
      "source": [
        "d1['name'].append('neha')"
      ],
      "metadata": {
        "id": "f4rciaP3tuqc"
      },
      "execution_count": 146,
      "outputs": []
    },
    {
      "cell_type": "code",
      "source": [
        "d1"
      ],
      "metadata": {
        "colab": {
          "base_uri": "https://localhost:8080/"
        },
        "id": "Ra0Urs0Pt66J",
        "outputId": "57e3e291-64ef-4faa-cb80-645ffcb4eeca"
      },
      "execution_count": 147,
      "outputs": [
        {
          "output_type": "execute_result",
          "data": {
            "text/plain": [
              "{'name': ['akash', 'rohit', 'rony', 'riya', 'neha'],\n",
              " 'marks': [80, 78, 89, 70],\n",
              " 'city': ['kol', 'pune', 'pune', 'kol'],\n",
              " 'pincode': [9045, 7281, 8907, 5676]}"
            ]
          },
          "metadata": {},
          "execution_count": 147
        }
      ]
    },
    {
      "cell_type": "code",
      "source": [
        "d1['name']"
      ],
      "metadata": {
        "colab": {
          "base_uri": "https://localhost:8080/"
        },
        "id": "YTBjpBCBuCjg",
        "outputId": "4f4e46a1-1e1f-458d-d5a8-0aef540a8e0b"
      },
      "execution_count": 148,
      "outputs": [
        {
          "output_type": "execute_result",
          "data": {
            "text/plain": [
              "['akash', 'rohit', 'rony', 'riya', 'neha']"
            ]
          },
          "metadata": {},
          "execution_count": 148
        }
      ]
    },
    {
      "cell_type": "code",
      "source": [
        "d1['name'] = [name.upper() for name in d1['name']]"
      ],
      "metadata": {
        "id": "F9bPhbxQwKUh"
      },
      "execution_count": 149,
      "outputs": []
    },
    {
      "cell_type": "code",
      "source": [
        "d1"
      ],
      "metadata": {
        "colab": {
          "base_uri": "https://localhost:8080/"
        },
        "id": "X4T7BKnswVwf",
        "outputId": "cda4cbc0-f283-4acf-a9fb-272a8f83e4f7"
      },
      "execution_count": 150,
      "outputs": [
        {
          "output_type": "execute_result",
          "data": {
            "text/plain": [
              "{'name': ['AKASH', 'ROHIT', 'RONY', 'RIYA', 'NEHA'],\n",
              " 'marks': [80, 78, 89, 70],\n",
              " 'city': ['kol', 'pune', 'pune', 'kol'],\n",
              " 'pincode': [9045, 7281, 8907, 5676]}"
            ]
          },
          "metadata": {},
          "execution_count": 150
        }
      ]
    },
    {
      "cell_type": "code",
      "source": [
        "d1['name'].remove('RONY')"
      ],
      "metadata": {
        "id": "l-q0TtMXwWh4"
      },
      "execution_count": 151,
      "outputs": []
    },
    {
      "cell_type": "code",
      "source": [
        "d1"
      ],
      "metadata": {
        "colab": {
          "base_uri": "https://localhost:8080/"
        },
        "id": "_B7EIfFWwuB1",
        "outputId": "de3605bd-6e47-4456-fee7-8b16647a124e"
      },
      "execution_count": 152,
      "outputs": [
        {
          "output_type": "execute_result",
          "data": {
            "text/plain": [
              "{'name': ['AKASH', 'ROHIT', 'RIYA', 'NEHA'],\n",
              " 'marks': [80, 78, 89, 70],\n",
              " 'city': ['kol', 'pune', 'pune', 'kol'],\n",
              " 'pincode': [9045, 7281, 8907, 5676]}"
            ]
          },
          "metadata": {},
          "execution_count": 152
        }
      ]
    },
    {
      "cell_type": "code",
      "source": [
        "# Built-in fuctions\n",
        "# 1. keys\n",
        "# 2. values\n",
        "# 3. items\n",
        "# 4. get\n",
        "# 5. copy\n",
        "# 6. clear\n",
        "# 7. pop\n",
        "# 8. popitems"
      ],
      "metadata": {
        "id": "YnMJvWZ4wuoZ"
      },
      "execution_count": 153,
      "outputs": []
    },
    {
      "cell_type": "code",
      "source": [
        "d1.keys()"
      ],
      "metadata": {
        "colab": {
          "base_uri": "https://localhost:8080/"
        },
        "id": "KDyoNpKMxVhT",
        "outputId": "8cf35e9b-10ec-4ae1-bc70-4b9e1a52438a"
      },
      "execution_count": 154,
      "outputs": [
        {
          "output_type": "execute_result",
          "data": {
            "text/plain": [
              "dict_keys(['name', 'marks', 'city', 'pincode'])"
            ]
          },
          "metadata": {},
          "execution_count": 154
        }
      ]
    },
    {
      "cell_type": "code",
      "source": [
        "d1.values()"
      ],
      "metadata": {
        "colab": {
          "base_uri": "https://localhost:8080/"
        },
        "id": "M2Pmfi-XxXKT",
        "outputId": "8a16d841-2540-4a09-f553-15b82c401251"
      },
      "execution_count": 155,
      "outputs": [
        {
          "output_type": "execute_result",
          "data": {
            "text/plain": [
              "dict_values([['AKASH', 'ROHIT', 'RIYA', 'NEHA'], [80, 78, 89, 70], ['kol', 'pune', 'pune', 'kol'], [9045, 7281, 8907, 5676]])"
            ]
          },
          "metadata": {},
          "execution_count": 155
        }
      ]
    },
    {
      "cell_type": "code",
      "source": [
        "d1.items()"
      ],
      "metadata": {
        "colab": {
          "base_uri": "https://localhost:8080/"
        },
        "id": "VMdkna6VxaDk",
        "outputId": "181cf8cc-b6c1-4273-83d2-1c87b862dc01"
      },
      "execution_count": 156,
      "outputs": [
        {
          "output_type": "execute_result",
          "data": {
            "text/plain": [
              "dict_items([('name', ['AKASH', 'ROHIT', 'RIYA', 'NEHA']), ('marks', [80, 78, 89, 70]), ('city', ['kol', 'pune', 'pune', 'kol']), ('pincode', [9045, 7281, 8907, 5676])])"
            ]
          },
          "metadata": {},
          "execution_count": 156
        }
      ]
    },
    {
      "cell_type": "code",
      "source": [
        "# d1['gmail']\n",
        "'''\n",
        "gettting key error\n",
        "'''"
      ],
      "metadata": {
        "colab": {
          "base_uri": "https://localhost:8080/",
          "height": 36
        },
        "id": "TbF4l7Xpxfp-",
        "outputId": "8174a630-4858-42b8-c561-db22bb646c5a"
      },
      "execution_count": 157,
      "outputs": [
        {
          "output_type": "execute_result",
          "data": {
            "text/plain": [
              "'\\ngettting key error\\n'"
            ],
            "application/vnd.google.colaboratory.intrinsic+json": {
              "type": "string"
            }
          },
          "metadata": {},
          "execution_count": 157
        }
      ]
    },
    {
      "cell_type": "code",
      "source": [
        "d1.get('name')"
      ],
      "metadata": {
        "colab": {
          "base_uri": "https://localhost:8080/"
        },
        "id": "jFV_2pPcxo5p",
        "outputId": "c6a9f421-5566-432c-c2d0-b0550751609d"
      },
      "execution_count": 158,
      "outputs": [
        {
          "output_type": "execute_result",
          "data": {
            "text/plain": [
              "['AKASH', 'ROHIT', 'RIYA', 'NEHA']"
            ]
          },
          "metadata": {},
          "execution_count": 158
        }
      ]
    },
    {
      "cell_type": "code",
      "source": [
        "d1.get('gmail')"
      ],
      "metadata": {
        "id": "CfXjy0W-xrdT"
      },
      "execution_count": 159,
      "outputs": []
    },
    {
      "cell_type": "code",
      "source": [
        "d1.pop('city')"
      ],
      "metadata": {
        "colab": {
          "base_uri": "https://localhost:8080/"
        },
        "id": "njmJHJFTxvVG",
        "outputId": "845eaf43-0c37-4ec5-9203-b936f2d8dbcf"
      },
      "execution_count": 160,
      "outputs": [
        {
          "output_type": "execute_result",
          "data": {
            "text/plain": [
              "['kol', 'pune', 'pune', 'kol']"
            ]
          },
          "metadata": {},
          "execution_count": 160
        }
      ]
    },
    {
      "cell_type": "code",
      "source": [
        "d1"
      ],
      "metadata": {
        "colab": {
          "base_uri": "https://localhost:8080/"
        },
        "id": "zaqznjk9x4J8",
        "outputId": "780d9a27-7635-42a1-8875-a6c74ddd2a67"
      },
      "execution_count": 161,
      "outputs": [
        {
          "output_type": "execute_result",
          "data": {
            "text/plain": [
              "{'name': ['AKASH', 'ROHIT', 'RIYA', 'NEHA'],\n",
              " 'marks': [80, 78, 89, 70],\n",
              " 'pincode': [9045, 7281, 8907, 5676]}"
            ]
          },
          "metadata": {},
          "execution_count": 161
        }
      ]
    },
    {
      "cell_type": "code",
      "source": [
        "d1.popitem()"
      ],
      "metadata": {
        "colab": {
          "base_uri": "https://localhost:8080/"
        },
        "id": "BSnSDz06x_Hd",
        "outputId": "0958c999-5f98-493e-d86f-82a8cb64c6b1"
      },
      "execution_count": 162,
      "outputs": [
        {
          "output_type": "execute_result",
          "data": {
            "text/plain": [
              "('pincode', [9045, 7281, 8907, 5676])"
            ]
          },
          "metadata": {},
          "execution_count": 162
        }
      ]
    },
    {
      "cell_type": "code",
      "source": [
        "d1"
      ],
      "metadata": {
        "colab": {
          "base_uri": "https://localhost:8080/"
        },
        "id": "2_10nMyGyDJl",
        "outputId": "412f6be6-e6ad-41dd-b271-58ebefa0002e"
      },
      "execution_count": 163,
      "outputs": [
        {
          "output_type": "execute_result",
          "data": {
            "text/plain": [
              "{'name': ['AKASH', 'ROHIT', 'RIYA', 'NEHA'], 'marks': [80, 78, 89, 70]}"
            ]
          },
          "metadata": {},
          "execution_count": 163
        }
      ]
    },
    {
      "cell_type": "code",
      "source": [
        "d2 = d1.copy()"
      ],
      "metadata": {
        "id": "stipRtkLyG26"
      },
      "execution_count": 164,
      "outputs": []
    },
    {
      "cell_type": "code",
      "source": [
        "d2.clear()"
      ],
      "metadata": {
        "id": "7jOCcDE5yK93"
      },
      "execution_count": 165,
      "outputs": []
    },
    {
      "cell_type": "code",
      "source": [
        "d2"
      ],
      "metadata": {
        "colab": {
          "base_uri": "https://localhost:8080/"
        },
        "id": "13dY9-mdyLtq",
        "outputId": "c55a1b63-713a-48c5-e0d3-416cf218a0cd"
      },
      "execution_count": 166,
      "outputs": [
        {
          "output_type": "execute_result",
          "data": {
            "text/plain": [
              "{}"
            ]
          },
          "metadata": {},
          "execution_count": 166
        }
      ]
    },
    {
      "cell_type": "code",
      "source": [
        "'''\n",
        "[]---->List\n",
        "()---->Tupple\n",
        "''---->String\n",
        "{}---->dictionary and set\n",
        "'''"
      ],
      "metadata": {
        "id": "ZiQHt9ruyOhk",
        "colab": {
          "base_uri": "https://localhost:8080/",
          "height": 36
        },
        "outputId": "149f5974-ee43-4b90-c2ff-3a9a8e9d327f"
      },
      "execution_count": 167,
      "outputs": [
        {
          "output_type": "execute_result",
          "data": {
            "text/plain": [
              "\"\\n[]---->List\\n()---->Tupple\\n''---->String\\n{}---->dictionary and set\\n\""
            ],
            "application/vnd.google.colaboratory.intrinsic+json": {
              "type": "string"
            }
          },
          "metadata": {},
          "execution_count": 167
        }
      ]
    },
    {
      "cell_type": "code",
      "source": [
        "d1 = {'name':['akash','rohit','rony','riya'], 'marks':[80,78,89,70], 'city':['kol','pune','pune','kol']}\n",
        "d1"
      ],
      "metadata": {
        "colab": {
          "base_uri": "https://localhost:8080/"
        },
        "id": "eDwkBYjyybEy",
        "outputId": "0abc7f0d-b9c2-46a0-8a28-baa2dff175a4"
      },
      "execution_count": 168,
      "outputs": [
        {
          "output_type": "execute_result",
          "data": {
            "text/plain": [
              "{'name': ['akash', 'rohit', 'rony', 'riya'],\n",
              " 'marks': [80, 78, 89, 70],\n",
              " 'city': ['kol', 'pune', 'pune', 'kol']}"
            ]
          },
          "metadata": {},
          "execution_count": 168
        }
      ]
    },
    {
      "cell_type": "code",
      "source": [
        "# SET Data Type\n",
        "'''\n",
        "1. unique collection\n",
        "2. unordered\n",
        "3. {}\n",
        "'''"
      ],
      "metadata": {
        "id": "9YmaZbrbygAO",
        "colab": {
          "base_uri": "https://localhost:8080/",
          "height": 36
        },
        "outputId": "4c88261f-601d-4778-e5f6-dfbeb933cb2e"
      },
      "execution_count": 169,
      "outputs": [
        {
          "output_type": "execute_result",
          "data": {
            "text/plain": [
              "'\\n1. unique collection\\n2. unordered\\n3. {}\\n'"
            ],
            "application/vnd.google.colaboratory.intrinsic+json": {
              "type": "string"
            }
          },
          "metadata": {},
          "execution_count": 169
        }
      ]
    },
    {
      "cell_type": "code",
      "source": [
        "s = {23,55,77,34,51}\n",
        "s1 = {45,6,45,3,21,21}"
      ],
      "metadata": {
        "id": "GnIdoIWiz0Jt"
      },
      "execution_count": 170,
      "outputs": []
    },
    {
      "cell_type": "code",
      "source": [
        "s"
      ],
      "metadata": {
        "colab": {
          "base_uri": "https://localhost:8080/"
        },
        "id": "lUHiOHwJz9K0",
        "outputId": "696a7fe8-fac7-42a2-a9f5-bc71925f5e36"
      },
      "execution_count": 171,
      "outputs": [
        {
          "output_type": "execute_result",
          "data": {
            "text/plain": [
              "{23, 34, 51, 55, 77}"
            ]
          },
          "metadata": {},
          "execution_count": 171
        }
      ]
    },
    {
      "cell_type": "code",
      "source": [
        "type(s1)"
      ],
      "metadata": {
        "colab": {
          "base_uri": "https://localhost:8080/"
        },
        "id": "rZ8BnFRIz9pa",
        "outputId": "72b68933-43d5-4a1e-df0f-0a0bf7c98d6b"
      },
      "execution_count": 172,
      "outputs": [
        {
          "output_type": "execute_result",
          "data": {
            "text/plain": [
              "set"
            ]
          },
          "metadata": {},
          "execution_count": 172
        }
      ]
    },
    {
      "cell_type": "code",
      "source": [
        "s1"
      ],
      "metadata": {
        "colab": {
          "base_uri": "https://localhost:8080/"
        },
        "id": "LULwJAN70BFp",
        "outputId": "e7c67af7-e491-4a7c-a719-34258135ed4f"
      },
      "execution_count": 173,
      "outputs": [
        {
          "output_type": "execute_result",
          "data": {
            "text/plain": [
              "{3, 6, 21, 45}"
            ]
          },
          "metadata": {},
          "execution_count": 173
        }
      ]
    },
    {
      "cell_type": "code",
      "source": [
        "# Built-in function\n",
        "'''\n",
        "1. add\n",
        "2. remove\n",
        "3. discard\n",
        "4. pop\n",
        "5. copy\n",
        "6. clear\n",
        "7. union\n",
        "8. intersection\n",
        "9. update\n",
        "10.difference\n",
        "'''"
      ],
      "metadata": {
        "id": "gds820gQ0IUy",
        "colab": {
          "base_uri": "https://localhost:8080/",
          "height": 36
        },
        "outputId": "9d7f91e2-07e4-460a-e64e-d668eade9569"
      },
      "execution_count": 174,
      "outputs": [
        {
          "output_type": "execute_result",
          "data": {
            "text/plain": [
              "'\\n1. add\\n2. remove\\n3. discard\\n4. pop\\n5. copy\\n6. clear\\n7. union\\n8. intersection\\n9. update\\n10.difference\\n'"
            ],
            "application/vnd.google.colaboratory.intrinsic+json": {
              "type": "string"
            }
          },
          "metadata": {},
          "execution_count": 174
        }
      ]
    },
    {
      "cell_type": "code",
      "source": [
        "s.add(100)"
      ],
      "metadata": {
        "id": "dqHJFz4G0eB7"
      },
      "execution_count": 175,
      "outputs": []
    },
    {
      "cell_type": "code",
      "source": [
        "s"
      ],
      "metadata": {
        "colab": {
          "base_uri": "https://localhost:8080/"
        },
        "id": "Iytxzl9B0e7W",
        "outputId": "4edb2084-66d5-4018-9309-42a3d35811cc"
      },
      "execution_count": 176,
      "outputs": [
        {
          "output_type": "execute_result",
          "data": {
            "text/plain": [
              "{23, 34, 51, 55, 77, 100}"
            ]
          },
          "metadata": {},
          "execution_count": 176
        }
      ]
    },
    {
      "cell_type": "code",
      "source": [
        "s.remove(55)"
      ],
      "metadata": {
        "id": "t5JDKbTd0h__"
      },
      "execution_count": 177,
      "outputs": []
    },
    {
      "cell_type": "code",
      "source": [
        "s.discard(51)"
      ],
      "metadata": {
        "id": "RylD3s1V0lKu"
      },
      "execution_count": 178,
      "outputs": []
    },
    {
      "cell_type": "code",
      "source": [
        "s"
      ],
      "metadata": {
        "colab": {
          "base_uri": "https://localhost:8080/"
        },
        "id": "O6Y_v4jf0mKd",
        "outputId": "f12bce5c-0654-48eb-bffb-6766db955c9d"
      },
      "execution_count": 179,
      "outputs": [
        {
          "output_type": "execute_result",
          "data": {
            "text/plain": [
              "{23, 34, 77, 100}"
            ]
          },
          "metadata": {},
          "execution_count": 179
        }
      ]
    },
    {
      "cell_type": "code",
      "source": [
        "s.pop()"
      ],
      "metadata": {
        "colab": {
          "base_uri": "https://localhost:8080/"
        },
        "id": "QmTArrbG0pko",
        "outputId": "17856ff9-7287-4abc-8858-9e8ce6522d43"
      },
      "execution_count": 180,
      "outputs": [
        {
          "output_type": "execute_result",
          "data": {
            "text/plain": [
              "34"
            ]
          },
          "metadata": {},
          "execution_count": 180
        }
      ]
    },
    {
      "cell_type": "code",
      "source": [
        "s"
      ],
      "metadata": {
        "colab": {
          "base_uri": "https://localhost:8080/"
        },
        "id": "bmGXuFWH05D3",
        "outputId": "39e5c497-e1fc-4a64-eaf9-6b0424d97dad"
      },
      "execution_count": 181,
      "outputs": [
        {
          "output_type": "execute_result",
          "data": {
            "text/plain": [
              "{23, 77, 100}"
            ]
          },
          "metadata": {},
          "execution_count": 181
        }
      ]
    },
    {
      "cell_type": "code",
      "source": [
        "s1"
      ],
      "metadata": {
        "colab": {
          "base_uri": "https://localhost:8080/"
        },
        "id": "EPtA16tj0-2u",
        "outputId": "a4189dfb-5565-4b14-f5e8-e22d6f7d9e89"
      },
      "execution_count": 182,
      "outputs": [
        {
          "output_type": "execute_result",
          "data": {
            "text/plain": [
              "{3, 6, 21, 45}"
            ]
          },
          "metadata": {},
          "execution_count": 182
        }
      ]
    },
    {
      "cell_type": "code",
      "source": [
        "s2 = {8,6,3,90}"
      ],
      "metadata": {
        "id": "2YXLIhR-0_de"
      },
      "execution_count": 183,
      "outputs": []
    },
    {
      "cell_type": "code",
      "source": [
        "s1.intersection(s2)"
      ],
      "metadata": {
        "colab": {
          "base_uri": "https://localhost:8080/"
        },
        "id": "Hsefo7TS1R3O",
        "outputId": "e71c13ac-a0b2-4d7d-ef02-08042edf0a2e"
      },
      "execution_count": 184,
      "outputs": [
        {
          "output_type": "execute_result",
          "data": {
            "text/plain": [
              "{3, 6}"
            ]
          },
          "metadata": {},
          "execution_count": 184
        }
      ]
    },
    {
      "cell_type": "code",
      "source": [
        "s1.union(s2)"
      ],
      "metadata": {
        "colab": {
          "base_uri": "https://localhost:8080/"
        },
        "id": "ym7WkM3A1Wyj",
        "outputId": "3da8e831-7e56-4e44-d86b-ed8d95904d53"
      },
      "execution_count": 185,
      "outputs": [
        {
          "output_type": "execute_result",
          "data": {
            "text/plain": [
              "{3, 6, 8, 21, 45, 90}"
            ]
          },
          "metadata": {},
          "execution_count": 185
        }
      ]
    },
    {
      "cell_type": "code",
      "source": [
        "s1.difference(s2)"
      ],
      "metadata": {
        "colab": {
          "base_uri": "https://localhost:8080/"
        },
        "id": "KEniSpWo1aGw",
        "outputId": "356c7bd1-907a-4c1b-80f1-dd5c885d9abb"
      },
      "execution_count": 186,
      "outputs": [
        {
          "output_type": "execute_result",
          "data": {
            "text/plain": [
              "{21, 45}"
            ]
          },
          "metadata": {},
          "execution_count": 186
        }
      ]
    },
    {
      "cell_type": "code",
      "source": [
        "s1.update(s2)"
      ],
      "metadata": {
        "id": "qM64MX8W1gZC"
      },
      "execution_count": 187,
      "outputs": []
    },
    {
      "cell_type": "code",
      "source": [
        "s1"
      ],
      "metadata": {
        "id": "ldAywh1o1qbH",
        "outputId": "9033d65a-b5d8-40eb-d07f-4f2c0da6a5c7",
        "colab": {
          "base_uri": "https://localhost:8080/"
        }
      },
      "execution_count": 188,
      "outputs": [
        {
          "output_type": "execute_result",
          "data": {
            "text/plain": [
              "{3, 6, 8, 21, 45, 90}"
            ]
          },
          "metadata": {},
          "execution_count": 188
        }
      ]
    },
    {
      "cell_type": "code",
      "execution_count": 189,
      "metadata": {
        "id": "VXNHWst_LNg8",
        "colab": {
          "base_uri": "https://localhost:8080/",
          "height": 36
        },
        "outputId": "76177d60-1b8e-4cca-a560-95a67e935d69"
      },
      "outputs": [
        {
          "output_type": "execute_result",
          "data": {
            "text/plain": [
              "'\\n--- if, elif, else\\n--- Loop\\n'"
            ],
            "application/vnd.google.colaboratory.intrinsic+json": {
              "type": "string"
            }
          },
          "metadata": {},
          "execution_count": 189
        }
      ],
      "source": [
        "'''\n",
        "--- if, elif, else\n",
        "--- Loop\n",
        "'''"
      ]
    },
    {
      "cell_type": "code",
      "source": [
        "a = input('Enter Your Name: ')\n",
        "print('Hello',a)"
      ],
      "metadata": {
        "colab": {
          "base_uri": "https://localhost:8080/"
        },
        "id": "3KngZndPMN7W",
        "outputId": "ecb899cd-ee10-484e-c77c-bc7c2201deac"
      },
      "execution_count": 190,
      "outputs": [
        {
          "output_type": "stream",
          "name": "stdout",
          "text": [
            "Enter Your Name: Suman\n",
            "Hello Suman\n"
          ]
        }
      ]
    },
    {
      "cell_type": "code",
      "source": [
        "type(a)"
      ],
      "metadata": {
        "colab": {
          "base_uri": "https://localhost:8080/"
        },
        "id": "R9if20E3MT1b",
        "outputId": "70d590dd-a288-4822-c2f8-dcf37f373132"
      },
      "execution_count": 191,
      "outputs": [
        {
          "output_type": "execute_result",
          "data": {
            "text/plain": [
              "str"
            ]
          },
          "metadata": {},
          "execution_count": 191
        }
      ]
    },
    {
      "cell_type": "code",
      "source": [
        "x = float(input('Enter first no: '))\n",
        "y = float(input('Enter second no: '))\n",
        "c = x+y\n",
        "print('Result is', c)"
      ],
      "metadata": {
        "colab": {
          "base_uri": "https://localhost:8080/"
        },
        "id": "_1XgngtHMlDV",
        "outputId": "5967fe90-a325-4b40-c07c-bca641c4d00c"
      },
      "execution_count": 192,
      "outputs": [
        {
          "output_type": "stream",
          "name": "stdout",
          "text": [
            "Enter first no: 2.5\n",
            "Enter second no: 3.5\n",
            "Result is 6.0\n"
          ]
        }
      ]
    },
    {
      "cell_type": "code",
      "source": [
        "x = eval(input('Enter first no: '))\n",
        "y = eval(input('Enter second no: '))\n",
        "c = x+y\n",
        "print('Result is', c)"
      ],
      "metadata": {
        "id": "s1jt6MCrM0jC",
        "colab": {
          "base_uri": "https://localhost:8080/"
        },
        "outputId": "9c0250c3-bcdd-43c0-976c-2e1fd10b23d8"
      },
      "execution_count": 195,
      "outputs": [
        {
          "output_type": "stream",
          "name": "stdout",
          "text": [
            "Enter first no: 2.99\n",
            "Enter second no: 3.9\n",
            "Result is 6.890000000000001\n"
          ]
        }
      ]
    },
    {
      "cell_type": "code",
      "source": [
        "eval('5'+'+'+'6')"
      ],
      "metadata": {
        "colab": {
          "base_uri": "https://localhost:8080/"
        },
        "id": "5p_w6j-rNgGx",
        "outputId": "6528ca56-e713-4a7e-d21c-e0fa37cb29e3"
      },
      "execution_count": 196,
      "outputs": [
        {
          "output_type": "execute_result",
          "data": {
            "text/plain": [
              "11"
            ]
          },
          "metadata": {},
          "execution_count": 196
        }
      ]
    },
    {
      "cell_type": "code",
      "source": [
        "name = ['akash','rajat','mukesh','manaav']\n",
        "age = [23,21,24,22]"
      ],
      "metadata": {
        "id": "h-OAEAisNmPu"
      },
      "execution_count": 197,
      "outputs": []
    },
    {
      "cell_type": "code",
      "source": [
        "dict(zip(name,age))"
      ],
      "metadata": {
        "colab": {
          "base_uri": "https://localhost:8080/"
        },
        "id": "R-cZZAMDPdOU",
        "outputId": "6bc8446e-d227-48a8-a396-cc254c15ce09"
      },
      "execution_count": 198,
      "outputs": [
        {
          "output_type": "execute_result",
          "data": {
            "text/plain": [
              "{'akash': 23, 'rajat': 21, 'mukesh': 24, 'manaav': 22}"
            ]
          },
          "metadata": {},
          "execution_count": 198
        }
      ]
    },
    {
      "cell_type": "code",
      "source": [
        "zip(name,age)"
      ],
      "metadata": {
        "colab": {
          "base_uri": "https://localhost:8080/"
        },
        "id": "gDaSMWjlPqzM",
        "outputId": "ac8cec7a-6416-47b7-bbe7-8d565c14ee7d"
      },
      "execution_count": 199,
      "outputs": [
        {
          "output_type": "execute_result",
          "data": {
            "text/plain": [
              "<zip at 0x79de6811ed00>"
            ]
          },
          "metadata": {},
          "execution_count": 199
        }
      ]
    },
    {
      "cell_type": "code",
      "source": [
        "list(zip(name,age))"
      ],
      "metadata": {
        "colab": {
          "base_uri": "https://localhost:8080/"
        },
        "id": "39toGVa_Pysl",
        "outputId": "e0560218-f117-41da-b8fa-85a3a6cc13cc"
      },
      "execution_count": 200,
      "outputs": [
        {
          "output_type": "execute_result",
          "data": {
            "text/plain": [
              "[('akash', 23), ('rajat', 21), ('mukesh', 24), ('manaav', 22)]"
            ]
          },
          "metadata": {},
          "execution_count": 200
        }
      ]
    },
    {
      "cell_type": "code",
      "source": [
        "# if\n",
        "# elif\n",
        "# elif\n",
        "# else"
      ],
      "metadata": {
        "id": "2QPcHVMNP9cP"
      },
      "execution_count": 201,
      "outputs": []
    },
    {
      "cell_type": "code",
      "source": [
        "age = eval(input('Enter Your age: '))\n",
        "if age>=18 and age<=80:\n",
        "  print('You can cast the vote')\n",
        "elif age>80:\n",
        "  print('Invalid age')\n",
        "else:\n",
        "  print('Sorry')"
      ],
      "metadata": {
        "colab": {
          "base_uri": "https://localhost:8080/"
        },
        "id": "Mw7sXHb1Q8lU",
        "outputId": "61ca9f80-5033-48c6-fcdd-3c9c831e53be"
      },
      "execution_count": 202,
      "outputs": [
        {
          "output_type": "stream",
          "name": "stdout",
          "text": [
            "Enter Your age: 18\n",
            "You can cast the vote\n"
          ]
        }
      ]
    },
    {
      "cell_type": "code",
      "source": [
        "today = input('Enter the day: ')\n",
        "if today=='sat':\n",
        "  print('Half Day')\n",
        "elif today == 'sun':\n",
        "  print('Lets party')\n",
        "elif today == 'mon':\n",
        "  print('WFH')\n",
        "else:\n",
        "  print('9-5')"
      ],
      "metadata": {
        "colab": {
          "base_uri": "https://localhost:8080/"
        },
        "id": "6k77KgScRRnW",
        "outputId": "80c517c0-120e-4915-fb5f-9f872887df5e"
      },
      "execution_count": 203,
      "outputs": [
        {
          "output_type": "stream",
          "name": "stdout",
          "text": [
            "Enter the day: sun\n",
            "Lets party\n"
          ]
        }
      ]
    },
    {
      "cell_type": "code",
      "source": [
        "# Nested\n",
        "today = input('Enter the day: ')\n",
        "if today=='sat':\n",
        "  print('Half Day')\n",
        "elif today == 'sun':\n",
        "  hlt = input('HOw is your Health ?')\n",
        "  if hlt == 'good':\n",
        "    print('Lets party')\n",
        "  else:\n",
        "    print('Take Rest')\n",
        "elif today == 'mon':\n",
        "  print('WFH')\n",
        "else:\n",
        "  print('9-5')"
      ],
      "metadata": {
        "colab": {
          "base_uri": "https://localhost:8080/"
        },
        "id": "e-8ANrkISc0X",
        "outputId": "df14a603-c08b-4616-f2d2-7a75661a9d3d"
      },
      "execution_count": 204,
      "outputs": [
        {
          "output_type": "stream",
          "name": "stdout",
          "text": [
            "Enter the day: sun\n",
            "HOw is your Health ?bad\n",
            "Take Rest\n"
          ]
        }
      ]
    },
    {
      "cell_type": "code",
      "source": [
        "# 1. Iteration\n",
        "# 2. range"
      ],
      "metadata": {
        "id": "1Xx7FbgMTJ9H"
      },
      "execution_count": 205,
      "outputs": []
    },
    {
      "cell_type": "code",
      "source": [
        "a = ['akash','rohit','rajat','neha']\n",
        "for i in a:\n",
        "  print('Hello world')\n",
        "  print(i)"
      ],
      "metadata": {
        "colab": {
          "base_uri": "https://localhost:8080/"
        },
        "id": "6SQRz-fOTnAu",
        "outputId": "efbadd6d-8036-4094-e6ad-c4625ce45047"
      },
      "execution_count": 206,
      "outputs": [
        {
          "output_type": "stream",
          "name": "stdout",
          "text": [
            "Hello world\n",
            "akash\n",
            "Hello world\n",
            "rohit\n",
            "Hello world\n",
            "rajat\n",
            "Hello world\n",
            "neha\n"
          ]
        }
      ]
    },
    {
      "cell_type": "code",
      "source": [
        "a = ['akash',23,56,100,'rohit',23,'rajat',90,'neha']\n",
        "for i in a:\n",
        "  if type(i) == int:\n",
        "    print(i)"
      ],
      "metadata": {
        "colab": {
          "base_uri": "https://localhost:8080/"
        },
        "id": "vkYH5kfkT82C",
        "outputId": "af143bc7-cc15-4544-c947-022dc9d59358"
      },
      "execution_count": 207,
      "outputs": [
        {
          "output_type": "stream",
          "name": "stdout",
          "text": [
            "23\n",
            "56\n",
            "100\n",
            "23\n",
            "90\n"
          ]
        }
      ]
    },
    {
      "cell_type": "code",
      "source": [
        "for i in a:\n",
        "  print(i)\n",
        "  if i == 'rohit':\n",
        "    break"
      ],
      "metadata": {
        "colab": {
          "base_uri": "https://localhost:8080/"
        },
        "id": "5iwbx_4FVEUT",
        "outputId": "818f5383-b7d8-47c7-d04a-75b7c356d5a6"
      },
      "execution_count": 208,
      "outputs": [
        {
          "output_type": "stream",
          "name": "stdout",
          "text": [
            "akash\n",
            "23\n",
            "56\n",
            "100\n",
            "rohit\n"
          ]
        }
      ]
    },
    {
      "cell_type": "code",
      "source": [
        "for i in a:\n",
        "  if i == 'rohit':\n",
        "    continue\n",
        "  print(i)"
      ],
      "metadata": {
        "colab": {
          "base_uri": "https://localhost:8080/"
        },
        "id": "T3hAXlX4VdA5",
        "outputId": "b5f8de21-b5af-4f75-bb36-e47a37d0d5c5"
      },
      "execution_count": 209,
      "outputs": [
        {
          "output_type": "stream",
          "name": "stdout",
          "text": [
            "akash\n",
            "23\n",
            "56\n",
            "100\n",
            "23\n",
            "rajat\n",
            "90\n",
            "neha\n"
          ]
        }
      ]
    },
    {
      "cell_type": "code",
      "source": [
        "a"
      ],
      "metadata": {
        "colab": {
          "base_uri": "https://localhost:8080/"
        },
        "id": "kh_PaMh2VthR",
        "outputId": "3880d60b-44f8-4a92-aad3-f40af41db634"
      },
      "execution_count": 210,
      "outputs": [
        {
          "output_type": "execute_result",
          "data": {
            "text/plain": [
              "['akash', 23, 56, 100, 'rohit', 23, 'rajat', 90, 'neha']"
            ]
          },
          "metadata": {},
          "execution_count": 210
        }
      ]
    },
    {
      "cell_type": "code",
      "source": [
        "# Print the pattern in below.\n",
        "'''\n",
        "*\n",
        "* *\n",
        "* * *\n",
        "* * * *\n",
        "* * * * *\n",
        "'''"
      ],
      "metadata": {
        "id": "dY7hslJWVuq0",
        "colab": {
          "base_uri": "https://localhost:8080/",
          "height": 36
        },
        "outputId": "8ef0de51-ac4c-4cb3-911a-81cadd30b0e6"
      },
      "execution_count": 211,
      "outputs": [
        {
          "output_type": "execute_result",
          "data": {
            "text/plain": [
              "'\\n*\\n* *\\n* * *\\n* * * *\\n* * * * *\\n'"
            ],
            "application/vnd.google.colaboratory.intrinsic+json": {
              "type": "string"
            }
          },
          "metadata": {},
          "execution_count": 211
        }
      ]
    },
    {
      "cell_type": "code",
      "source": [
        "if 1:\n",
        "  print('Two')"
      ],
      "metadata": {
        "colab": {
          "base_uri": "https://localhost:8080/"
        },
        "id": "rb7XkYTuXVtv",
        "outputId": "33b95e01-8c13-4bca-bb8a-e07375d54c36"
      },
      "execution_count": 212,
      "outputs": [
        {
          "output_type": "stream",
          "name": "stdout",
          "text": [
            "Two\n"
          ]
        }
      ]
    },
    {
      "cell_type": "code",
      "source": [
        "if {}:\n",
        "  print('Hii')"
      ],
      "metadata": {
        "id": "y7EuHuRzXfY0"
      },
      "execution_count": 213,
      "outputs": []
    },
    {
      "cell_type": "code",
      "source": [
        "x = 0\n",
        "while x<=10:\n",
        "  print(x)\n",
        "  x += 1"
      ],
      "metadata": {
        "colab": {
          "base_uri": "https://localhost:8080/"
        },
        "id": "CGgjd4JDXx1S",
        "outputId": "67987494-151a-40bb-c74d-9fb5f8f37c7a"
      },
      "execution_count": 214,
      "outputs": [
        {
          "output_type": "stream",
          "name": "stdout",
          "text": [
            "0\n",
            "1\n",
            "2\n",
            "3\n",
            "4\n",
            "5\n",
            "6\n",
            "7\n",
            "8\n",
            "9\n",
            "10\n"
          ]
        }
      ]
    },
    {
      "cell_type": "code",
      "source": [
        "# Function:\n",
        "# 1. Built-in\n",
        "# 2. UDF\n",
        "'''\n",
        "      1. Based on i/p and o/p\n",
        "      2. Mixed\n",
        "          1. taking multiple i/p\n",
        "          2. Returning multiple o/p\n",
        "          3. Default Values\n",
        "          4. Keyword Argument\n",
        "          5. * args # tuple\n",
        "          6. ** kwargs # dict\n",
        "Define , call\n",
        "'''"
      ],
      "metadata": {
        "id": "g1xMsoRMYJHo",
        "colab": {
          "base_uri": "https://localhost:8080/",
          "height": 53
        },
        "outputId": "a1f124dc-ed1a-4ae2-b384-590eca0b2450"
      },
      "execution_count": 215,
      "outputs": [
        {
          "output_type": "execute_result",
          "data": {
            "text/plain": [
              "'\\n      1. Based on i/p and o/p\\n      2. Mixed\\n          1. taking multiple i/p\\n          2. Returning multiple o/p\\n          3. Default Values\\n          4. Keyword Argument\\n          5. * args # tuple\\n          6. ** kwargs # dict\\nDefine , call\\n'"
            ],
            "application/vnd.google.colaboratory.intrinsic+json": {
              "type": "string"
            }
          },
          "metadata": {},
          "execution_count": 215
        }
      ]
    },
    {
      "cell_type": "code",
      "source": [
        "def my_fun(x,y,z):\n",
        "  return o/p"
      ],
      "metadata": {
        "id": "gKTJh6g6aGmo"
      },
      "execution_count": 216,
      "outputs": []
    },
    {
      "cell_type": "code",
      "source": [
        "def first():\n",
        "  print('Hello')"
      ],
      "metadata": {
        "id": "ULDZSXz_aX86"
      },
      "execution_count": 217,
      "outputs": []
    },
    {
      "cell_type": "code",
      "source": [
        "first()"
      ],
      "metadata": {
        "colab": {
          "base_uri": "https://localhost:8080/"
        },
        "id": "qUzo5rfuagOw",
        "outputId": "0c64d34d-2139-482a-8efd-2bef010f4399"
      },
      "execution_count": 218,
      "outputs": [
        {
          "output_type": "stream",
          "name": "stdout",
          "text": [
            "Hello\n"
          ]
        }
      ]
    },
    {
      "cell_type": "code",
      "source": [
        "a = first()\n",
        "print(a)"
      ],
      "metadata": {
        "colab": {
          "base_uri": "https://localhost:8080/"
        },
        "id": "Iq6PUjaXajYW",
        "outputId": "f2530805-3459-40ba-b2be-bb3502e7ce0f"
      },
      "execution_count": 219,
      "outputs": [
        {
          "output_type": "stream",
          "name": "stdout",
          "text": [
            "Hello\n",
            "None\n"
          ]
        }
      ]
    },
    {
      "cell_type": "code",
      "source": [
        "def first():\n",
        "  return ('Hello')"
      ],
      "metadata": {
        "id": "_ggqoV5bas_R"
      },
      "execution_count": 220,
      "outputs": []
    },
    {
      "cell_type": "code",
      "source": [
        "b = first()\n",
        "print(b)"
      ],
      "metadata": {
        "colab": {
          "base_uri": "https://localhost:8080/"
        },
        "id": "jbIfGkrja1NP",
        "outputId": "25b1c1e8-4000-4538-8904-9b4cf1dc733d"
      },
      "execution_count": 221,
      "outputs": [
        {
          "output_type": "stream",
          "name": "stdout",
          "text": [
            "Hello\n"
          ]
        }
      ]
    },
    {
      "cell_type": "code",
      "source": [
        "'''\n",
        "def second(x,y=1,z):\n",
        "  return x*y, x+y+z, z-x\n",
        "'''"
      ],
      "metadata": {
        "colab": {
          "base_uri": "https://localhost:8080/",
          "height": 36
        },
        "id": "-IJoGjSwa4eh",
        "outputId": "63810a31-006d-4b59-db4e-ddb6286d90f9"
      },
      "execution_count": 222,
      "outputs": [
        {
          "output_type": "execute_result",
          "data": {
            "text/plain": [
              "'\\ndef second(x,y=1,z):\\n  return x*y, x+y+z, z-x\\n'"
            ],
            "application/vnd.google.colaboratory.intrinsic+json": {
              "type": "string"
            }
          },
          "metadata": {},
          "execution_count": 222
        }
      ]
    },
    {
      "cell_type": "code",
      "source": [
        "def second(x,y,z):\n",
        "  return x*y, x+y+z, z-x"
      ],
      "metadata": {
        "id": "1DnUrHGtTIVv"
      },
      "execution_count": 223,
      "outputs": []
    },
    {
      "cell_type": "code",
      "source": [
        "second(3,6,4)"
      ],
      "metadata": {
        "colab": {
          "base_uri": "https://localhost:8080/"
        },
        "id": "qXgeZaqpbOVF",
        "outputId": "73df7342-4512-4e7f-cb86-a41dc9516c1b"
      },
      "execution_count": 224,
      "outputs": [
        {
          "output_type": "execute_result",
          "data": {
            "text/plain": [
              "(18, 13, 1)"
            ]
          },
          "metadata": {},
          "execution_count": 224
        }
      ]
    },
    {
      "cell_type": "code",
      "source": [
        "second(z=3,x=6,y=4)"
      ],
      "metadata": {
        "colab": {
          "base_uri": "https://localhost:8080/"
        },
        "id": "aQzk3DjLbPqD",
        "outputId": "bde020d6-4a86-4398-d614-32526dda1abd"
      },
      "execution_count": 225,
      "outputs": [
        {
          "output_type": "execute_result",
          "data": {
            "text/plain": [
              "(24, 13, -3)"
            ]
          },
          "metadata": {},
          "execution_count": 225
        }
      ]
    },
    {
      "cell_type": "code",
      "source": [
        "x,y,z = second(5,6,8)"
      ],
      "metadata": {
        "id": "qo-8CfFdblVd"
      },
      "execution_count": 226,
      "outputs": []
    },
    {
      "cell_type": "code",
      "source": [
        "x"
      ],
      "metadata": {
        "colab": {
          "base_uri": "https://localhost:8080/"
        },
        "id": "0QVUte3KbyCT",
        "outputId": "c434ed02-beae-4a26-8d73-29c002552d00"
      },
      "execution_count": 227,
      "outputs": [
        {
          "output_type": "execute_result",
          "data": {
            "text/plain": [
              "30"
            ]
          },
          "metadata": {},
          "execution_count": 227
        }
      ]
    },
    {
      "cell_type": "code",
      "source": [
        "y"
      ],
      "metadata": {
        "colab": {
          "base_uri": "https://localhost:8080/"
        },
        "id": "aJpK0O5Ick6G",
        "outputId": "2d3c4931-80e3-48f3-aeaf-2efecc1074cb"
      },
      "execution_count": 228,
      "outputs": [
        {
          "output_type": "execute_result",
          "data": {
            "text/plain": [
              "19"
            ]
          },
          "metadata": {},
          "execution_count": 228
        }
      ]
    },
    {
      "cell_type": "code",
      "source": [
        "z"
      ],
      "metadata": {
        "colab": {
          "base_uri": "https://localhost:8080/"
        },
        "id": "JMdUu5ulclvT",
        "outputId": "b2caabed-cdf7-49cd-e8ea-e59359b3e363"
      },
      "execution_count": 229,
      "outputs": [
        {
          "output_type": "execute_result",
          "data": {
            "text/plain": [
              "3"
            ]
          },
          "metadata": {},
          "execution_count": 229
        }
      ]
    },
    {
      "cell_type": "code",
      "source": [
        "# *args\n",
        "def third(*x):\n",
        "  return x\n",
        "\n",
        "print(third())\n",
        "print(third(3))\n",
        "print(third(2,65,22))"
      ],
      "metadata": {
        "colab": {
          "base_uri": "https://localhost:8080/"
        },
        "id": "0I0JsbEXcmF3",
        "outputId": "733dc70b-2d27-4cf0-d46c-8785d6ea50c6"
      },
      "execution_count": 230,
      "outputs": [
        {
          "output_type": "stream",
          "name": "stdout",
          "text": [
            "()\n",
            "(3,)\n",
            "(2, 65, 22)\n"
          ]
        }
      ]
    },
    {
      "cell_type": "code",
      "source": [
        "d = (9,)"
      ],
      "metadata": {
        "id": "L-kq060Kc7P3"
      },
      "execution_count": 231,
      "outputs": []
    },
    {
      "cell_type": "code",
      "source": [
        "type(d)"
      ],
      "metadata": {
        "colab": {
          "base_uri": "https://localhost:8080/"
        },
        "id": "4cHdm1KodKLn",
        "outputId": "1cf8b84a-e72c-4a8e-98ba-293beca3e69c"
      },
      "execution_count": 232,
      "outputs": [
        {
          "output_type": "execute_result",
          "data": {
            "text/plain": [
              "tuple"
            ]
          },
          "metadata": {},
          "execution_count": 232
        }
      ]
    },
    {
      "cell_type": "code",
      "source": [
        "s =8,7,4,5"
      ],
      "metadata": {
        "id": "YMkwgDE5dL5d"
      },
      "execution_count": 233,
      "outputs": []
    },
    {
      "cell_type": "code",
      "source": [
        "type(s)"
      ],
      "metadata": {
        "colab": {
          "base_uri": "https://localhost:8080/"
        },
        "id": "NLzjJvzbdTmP",
        "outputId": "96658faa-d705-496b-aa37-1cca54679778"
      },
      "execution_count": 234,
      "outputs": [
        {
          "output_type": "execute_result",
          "data": {
            "text/plain": [
              "tuple"
            ]
          },
          "metadata": {},
          "execution_count": 234
        }
      ]
    },
    {
      "cell_type": "code",
      "source": [
        "# *kwargs\n",
        "def fourth(**x):\n",
        "  return x\n",
        "\n",
        "print(fourth())\n",
        "print(fourth(x='akash',y=56))"
      ],
      "metadata": {
        "colab": {
          "base_uri": "https://localhost:8080/"
        },
        "id": "wBpDgQiJdUt4",
        "outputId": "0226a1b4-f074-45a4-d916-985be2d66093"
      },
      "execution_count": 235,
      "outputs": [
        {
          "output_type": "stream",
          "name": "stdout",
          "text": [
            "{}\n",
            "{'x': 'akash', 'y': 56}\n"
          ]
        }
      ]
    },
    {
      "cell_type": "code",
      "source": [
        "s1 = {2,6,7}\n",
        "s1.clear()"
      ],
      "metadata": {
        "id": "CDrWEFmddnE1"
      },
      "execution_count": 236,
      "outputs": []
    },
    {
      "cell_type": "code",
      "source": [
        "s1"
      ],
      "metadata": {
        "colab": {
          "base_uri": "https://localhost:8080/"
        },
        "id": "hDb34h5yd054",
        "outputId": "e38cc995-6e09-4020-d520-dd7ce40c0cf8"
      },
      "execution_count": 237,
      "outputs": [
        {
          "output_type": "execute_result",
          "data": {
            "text/plain": [
              "set()"
            ]
          },
          "metadata": {},
          "execution_count": 237
        }
      ]
    },
    {
      "cell_type": "code",
      "source": [
        "# Write a function which gives the following output based on the following input.\n",
        "'''\n",
        "i/p='hello'\n",
        "o/p = hElLo\n",
        "'''"
      ],
      "metadata": {
        "id": "SD_1gXe0d2Ck",
        "colab": {
          "base_uri": "https://localhost:8080/",
          "height": 36
        },
        "outputId": "20d2c5ce-ae6f-4804-d004-2824605f423d"
      },
      "execution_count": 238,
      "outputs": [
        {
          "output_type": "execute_result",
          "data": {
            "text/plain": [
              "\"\\ni/p='hello'\\no/p = hElLo\\n\""
            ],
            "application/vnd.google.colaboratory.intrinsic+json": {
              "type": "string"
            }
          },
          "metadata": {},
          "execution_count": 238
        }
      ]
    },
    {
      "cell_type": "code",
      "source": [
        "def alt(a):\n",
        "    a=list(a)\n",
        "    for i in range(1,len(a),2):\n",
        "        a[i]=a[i].upper()\n",
        "    str1=\"\"\n",
        "    a=str1.join(a)\n",
        "    return a\n",
        "\n",
        "\n",
        "print(alt('hello'))"
      ],
      "metadata": {
        "colab": {
          "base_uri": "https://localhost:8080/"
        },
        "id": "RxPqF4yjfw0G",
        "outputId": "9936a721-4a24-41c4-8df9-27dd17ce0475"
      },
      "execution_count": 239,
      "outputs": [
        {
          "output_type": "stream",
          "name": "stdout",
          "text": [
            "hElLo\n"
          ]
        }
      ]
    },
    {
      "cell_type": "code",
      "source": [
        "# PIP"
      ],
      "metadata": {
        "id": "UQiAbZISfxYu"
      },
      "execution_count": 240,
      "outputs": []
    }
  ]
}